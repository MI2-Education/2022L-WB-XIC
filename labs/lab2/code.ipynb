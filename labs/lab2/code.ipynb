{
 "cells": [
  {
   "cell_type": "markdown",
   "metadata": {},
   "source": [
    "# WB-XIC, Lab2: Wstęp do sieci neuronowych i PyTorch\n",
    "\n",
    "Wymagania: Python, NumPy, Jupyter Notebook\n",
    "\n",
    "Bazując na [Dive into Deep Learning](https://d2l.ai/index.html)\n",
    "\n",
    "PyTorch:\n",
    "- https://pytorch.org\n",
    "- https://github.com/pytorch/pytorch\n",
    "\n",
    "## Wstęp"
   ]
  },
  {
   "cell_type": "code",
   "execution_count": 1,
   "metadata": {},
   "outputs": [],
   "source": [
    "# pip install torch\n",
    "import torch\n",
    "import numpy as np"
   ]
  },
  {
   "cell_type": "code",
   "execution_count": 2,
   "metadata": {},
   "outputs": [
    {
     "data": {
      "text/plain": [
       "tensor([0., 1., 2., 3., 4., 5., 6., 7., 8., 9.])"
      ]
     },
     "execution_count": 2,
     "metadata": {},
     "output_type": "execute_result"
    }
   ],
   "source": [
    "# np.arange(10, dtype=np.float32)\n",
    "x = torch.arange(10, dtype=torch.float32)\n",
    "x"
   ]
  },
  {
   "cell_type": "code",
   "execution_count": 3,
   "metadata": {},
   "outputs": [
    {
     "data": {
      "text/plain": [
       "torch.Size([10])"
      ]
     },
     "execution_count": 3,
     "metadata": {},
     "output_type": "execute_result"
    }
   ],
   "source": [
    "x.shape"
   ]
  },
  {
   "cell_type": "code",
   "execution_count": 4,
   "metadata": {},
   "outputs": [
    {
     "data": {
      "text/plain": [
       "10"
      ]
     },
     "execution_count": 4,
     "metadata": {},
     "output_type": "execute_result"
    }
   ],
   "source": [
    "x.numel()"
   ]
  },
  {
   "cell_type": "code",
   "execution_count": 5,
   "metadata": {},
   "outputs": [
    {
     "data": {
      "text/plain": [
       "tensor([[0., 1.],\n",
       "        [2., 3.],\n",
       "        [4., 5.],\n",
       "        [6., 7.],\n",
       "        [8., 9.]])"
      ]
     },
     "execution_count": 5,
     "metadata": {},
     "output_type": "execute_result"
    }
   ],
   "source": [
    "x.reshape(5, 2)"
   ]
  },
  {
   "cell_type": "code",
   "execution_count": 6,
   "metadata": {},
   "outputs": [
    {
     "data": {
      "text/plain": [
       "10"
      ]
     },
     "execution_count": 6,
     "metadata": {},
     "output_type": "execute_result"
    }
   ],
   "source": [
    "x.reshape(5, 2).numel()"
   ]
  },
  {
   "cell_type": "code",
   "execution_count": 7,
   "metadata": {},
   "outputs": [
    {
     "data": {
      "text/plain": [
       "tensor([[0., 0.]])"
      ]
     },
     "execution_count": 7,
     "metadata": {},
     "output_type": "execute_result"
    }
   ],
   "source": [
    "torch.zeros((1, 2))"
   ]
  },
  {
   "cell_type": "code",
   "execution_count": 8,
   "metadata": {},
   "outputs": [
    {
     "data": {
      "text/plain": [
       "tensor([[[1., 1., 1., 1.],\n",
       "         [1., 1., 1., 1.],\n",
       "         [1., 1., 1., 1.]],\n",
       "\n",
       "        [[1., 1., 1., 1.],\n",
       "         [1., 1., 1., 1.],\n",
       "         [1., 1., 1., 1.]]])"
      ]
     },
     "execution_count": 8,
     "metadata": {},
     "output_type": "execute_result"
    }
   ],
   "source": [
    "torch.ones((2, 3, 4))"
   ]
  },
  {
   "cell_type": "code",
   "execution_count": 9,
   "metadata": {},
   "outputs": [
    {
     "data": {
      "text/plain": [
       "tensor([ 0.5865, -0.4146, -0.7298, -0.0312,  1.1866])"
      ]
     },
     "execution_count": 9,
     "metadata": {},
     "output_type": "execute_result"
    }
   ],
   "source": [
    "torch.randn(5)"
   ]
  },
  {
   "cell_type": "code",
   "execution_count": 10,
   "metadata": {},
   "outputs": [
    {
     "ename": "TypeError",
     "evalue": "randint(): argument 'size' (position 2) must be tuple of ints, not int",
     "output_type": "error",
     "traceback": [
      "\u001b[1;31m---------------------------------------------------------------------------\u001b[0m",
      "\u001b[1;31mTypeError\u001b[0m                                 Traceback (most recent call last)",
      "\u001b[1;32m~\\AppData\\Local\\Temp/ipykernel_34064/3181214388.py\u001b[0m in \u001b[0;36m<module>\u001b[1;34m\u001b[0m\n\u001b[1;32m----> 1\u001b[1;33m \u001b[0mtorch\u001b[0m\u001b[1;33m.\u001b[0m\u001b[0mrandint\u001b[0m\u001b[1;33m(\u001b[0m\u001b[1;36m10\u001b[0m\u001b[1;33m,\u001b[0m \u001b[1;36m5\u001b[0m\u001b[1;33m)\u001b[0m \u001b[1;31m# ?\u001b[0m\u001b[1;33m\u001b[0m\u001b[1;33m\u001b[0m\u001b[0m\n\u001b[0m",
      "\u001b[1;31mTypeError\u001b[0m: randint(): argument 'size' (position 2) must be tuple of ints, not int"
     ]
    }
   ],
   "source": [
    "torch.randint(10, 5) # ?"
   ]
  },
  {
   "cell_type": "code",
   "execution_count": 11,
   "metadata": {},
   "outputs": [],
   "source": [
    "# 1.\n",
    "a = torch.tensor([1, 2, 3])\n",
    "# 2.\n",
    "b = torch.from_numpy(np.array([2, 3, 4]))"
   ]
  },
  {
   "cell_type": "code",
   "execution_count": 12,
   "metadata": {},
   "outputs": [
    {
     "data": {
      "text/plain": [
       "tensor([3, 5, 7])"
      ]
     },
     "execution_count": 12,
     "metadata": {},
     "output_type": "execute_result"
    }
   ],
   "source": [
    "a + b "
   ]
  },
  {
   "cell_type": "markdown",
   "metadata": {},
   "source": [
    "### Zadanie 1.\n",
    "1. stworzyć poziomy wektor `x` z 4 unikalnymi wartościami całkowitymi\n",
    "2. stworzyć macierz `X` składającą się z wierszy: wszystkich możliwych permutacji wektora `x`\n",
    "3. stworzyć pionowy wektor `w` z 4 wartościami z rozkładu normalnego\n",
    "4. pomnożyć macierzowo `X*w`\n",
    "5. znaleźć indeksy dla maksimum i minimum wierszy"
   ]
  },
  {
   "cell_type": "code",
   "execution_count": 13,
   "metadata": {},
   "outputs": [],
   "source": [
    "torch.manual_seed(1234)\n",
    "np.random.seed(1234)"
   ]
  },
  {
   "cell_type": "code",
   "execution_count": 14,
   "metadata": {},
   "outputs": [],
   "source": [
    "x = torch.from_numpy(np.random.choice(10, 4))"
   ]
  },
  {
   "cell_type": "code",
   "execution_count": 15,
   "metadata": {},
   "outputs": [
    {
     "data": {
      "text/plain": [
       "tensor([3, 6, 5, 4], dtype=torch.int32)"
      ]
     },
     "execution_count": 15,
     "metadata": {},
     "output_type": "execute_result"
    }
   ],
   "source": [
    "x"
   ]
  },
  {
   "cell_type": "code",
   "execution_count": 16,
   "metadata": {},
   "outputs": [],
   "source": [
    "from itertools import permutations\n",
    "X = torch.tensor(list(permutations(x)), dtype=torch.float32)"
   ]
  },
  {
   "cell_type": "code",
   "execution_count": 17,
   "metadata": {},
   "outputs": [
    {
     "data": {
      "text/plain": [
       "torch.Size([24, 4])"
      ]
     },
     "execution_count": 17,
     "metadata": {},
     "output_type": "execute_result"
    }
   ],
   "source": [
    "X.shape"
   ]
  },
  {
   "cell_type": "code",
   "execution_count": 18,
   "metadata": {},
   "outputs": [],
   "source": [
    "w = torch.randn((4, 1))"
   ]
  },
  {
   "cell_type": "code",
   "execution_count": 19,
   "metadata": {},
   "outputs": [
    {
     "data": {
      "text/plain": [
       "tensor([[-1.6379],\n",
       "        [-0.4096],\n",
       "        [-3.0518],\n",
       "        [-0.5953],\n",
       "        [-3.2375],\n",
       "        [-2.0092],\n",
       "        [-2.7067],\n",
       "        [-1.4784],\n",
       "        [ 0.1212],\n",
       "        [-1.1071],\n",
       "        [-0.0645],\n",
       "        [-2.5210],\n",
       "        [-3.7644],\n",
       "        [-1.3078],\n",
       "        [ 0.4774],\n",
       "        [-0.7508],\n",
       "        [ 0.1061],\n",
       "        [-3.5787],\n",
       "        [-3.5938],\n",
       "        [-2.3655],\n",
       "        [ 0.6480],\n",
       "        [-1.8085],\n",
       "        [ 0.4624],\n",
       "        [-3.2224]])"
      ]
     },
     "execution_count": 19,
     "metadata": {},
     "output_type": "execute_result"
    }
   ],
   "source": [
    "torch.mm(X, w)"
   ]
  },
  {
   "cell_type": "code",
   "execution_count": 20,
   "metadata": {},
   "outputs": [
    {
     "data": {
      "text/plain": [
       "tensor(-3.7644)"
      ]
     },
     "execution_count": 20,
     "metadata": {},
     "output_type": "execute_result"
    }
   ],
   "source": [
    "torch.mv(X, w.reshape(-1, )).min()"
   ]
  },
  {
   "cell_type": "code",
   "execution_count": 21,
   "metadata": {},
   "outputs": [
    {
     "data": {
      "text/plain": [
       "tensor([-3.7644])"
      ]
     },
     "execution_count": 21,
     "metadata": {},
     "output_type": "execute_result"
    }
   ],
   "source": [
    "torch.mv(X, w.reshape(-1, )).amin(keepdim=True)"
   ]
  },
  {
   "cell_type": "code",
   "execution_count": 22,
   "metadata": {},
   "outputs": [
    {
     "data": {
      "text/plain": [
       "tensor(12)"
      ]
     },
     "execution_count": 22,
     "metadata": {},
     "output_type": "execute_result"
    }
   ],
   "source": [
    "torch.mm(X, w).argmin()"
   ]
  },
  {
   "cell_type": "markdown",
   "metadata": {},
   "source": [
    "## [Pochodna i różniczkowanie](https://d2l.ai/chapter_preliminaries/calculus.html#derivatives-and-differentiation)"
   ]
  },
  {
   "cell_type": "code",
   "execution_count": 23,
   "metadata": {},
   "outputs": [],
   "source": [
    "def f(x):\n",
    "    return x ** 2 - 2 * x"
   ]
  },
  {
   "cell_type": "code",
   "execution_count": 24,
   "metadata": {},
   "outputs": [],
   "source": [
    "def numerical_lim(f, x, h):\n",
    "    return (f(x + h) - f(x)) / h"
   ]
  },
  {
   "cell_type": "code",
   "execution_count": 25,
   "metadata": {},
   "outputs": [
    {
     "name": "stdout",
     "output_type": "stream",
     "text": [
      "x = 1, h=1.00000, numerical limit=1.00000\n",
      "x = 1, h=0.10000, numerical limit=0.10000\n",
      "x = 1, h=0.01000, numerical limit=0.01000\n",
      "x = 1, h=0.00100, numerical limit=0.00100\n",
      "x = 1, h=0.00010, numerical limit=0.00010\n"
     ]
    }
   ],
   "source": [
    "h = 1\n",
    "for i in range(5):\n",
    "    print(f'x = {1}, h={h:.5f}, numerical limit={numerical_lim(f, 1, h):.5f}')\n",
    "    h *= 0.1"
   ]
  },
  {
   "cell_type": "markdown",
   "metadata": {},
   "source": [
    "Wynik: https://www.wolframalpha.com/input?i=x+**+2+-+2+*+x"
   ]
  },
  {
   "cell_type": "markdown",
   "metadata": {},
   "source": [
    "### Zadanie 2.\n",
    "\n",
    "`y_hat = torch.mm(X, w)` (z Zadania 1.) \n",
    "1. stworzyć pionowy wektor `y` poprzez dodanie szumu z rozkładu normalnego do `y_hat`\n",
    "2. policzyć średni błąd kwadratowy [`MSE(y, y_hat)`](https://pl.wikipedia.org/wiki/B%C5%82%C4%85d_%C5%9Bredniokwadratowy)\n",
    "3. napisać wzór na pochodną `MSE` względem `w` (teoretycznie, w markdown)\n",
    "4. policzyć pochodną `MSE` po `w`"
   ]
  },
  {
   "cell_type": "code",
   "execution_count": 26,
   "metadata": {},
   "outputs": [],
   "source": [
    "y = torch.mm(X, w) + torch.randn(24, 1)*2\n",
    "y_temp = torch.mm(X, w)"
   ]
  },
  {
   "cell_type": "code",
   "execution_count": 27,
   "metadata": {},
   "outputs": [
    {
     "data": {
      "text/plain": [
       "3.767782211303711"
      ]
     },
     "execution_count": 27,
     "metadata": {},
     "output_type": "execute_result"
    }
   ],
   "source": [
    "((y - torch.mm(X, w)) ** 2).mean().item()"
   ]
  },
  {
   "cell_type": "markdown",
   "metadata": {},
   "source": [
    "https://d2l.ai/chapter_linear-networks/linear-regression.html\n",
    "\n",
    "`MSE = [(y - (X*w)) ** 2] / N`\n",
    "\n",
    "`dMSE / dw = [-2X * (y - (X*w))] / N`"
   ]
  },
  {
   "cell_type": "code",
   "execution_count": 29,
   "metadata": {},
   "outputs": [],
   "source": [
    "dMSE = torch.mm(2*X.T, torch.mm(X, w) - y) / X.shape[0]"
   ]
  },
  {
   "cell_type": "code",
   "execution_count": 30,
   "metadata": {},
   "outputs": [
    {
     "data": {
      "text/plain": [
       "tensor([[ 0.0461],\n",
       "        [ 0.4024],\n",
       "        [-1.0115],\n",
       "        [ 0.2167]])"
      ]
     },
     "execution_count": 30,
     "metadata": {},
     "output_type": "execute_result"
    }
   ],
   "source": [
    "w"
   ]
  },
  {
   "cell_type": "code",
   "execution_count": 31,
   "metadata": {},
   "outputs": [
    {
     "data": {
      "text/plain": [
       "tensor([[6.1564],\n",
       "        [4.9965],\n",
       "        [6.2760],\n",
       "        [5.4380]])"
      ]
     },
     "execution_count": 31,
     "metadata": {},
     "output_type": "execute_result"
    }
   ],
   "source": [
    "dMSE"
   ]
  },
  {
   "cell_type": "markdown",
   "metadata": {},
   "source": [
    "**Uwaga!** Wyraz wolny, bias - `b` -> [szczegóły](https://d2l.ai/chapter_linear-networks/linear-regression.html)\n",
    "\n",
    "## Gradient descent na przykładzie regresji liniowej\n",
    "\n",
    "### Zadanie 3.\n",
    "\n",
    "Spróbuj zaimplementować poniższy pseudokod."
   ]
  },
  {
   "cell_type": "code",
   "execution_count": 32,
   "metadata": {},
   "outputs": [],
   "source": [
    "learning_rate = 0.001\n",
    "epochs = 100\n",
    "for i in range(epochs):\n",
    "    # 1. policz gradient MSE\n",
    "    # 2. zaktualizuj wagi wykorzystując gradient i learning_rate\n",
    "    pass\n",
    "# 3. policz MSE"
   ]
  },
  {
   "cell_type": "code",
   "execution_count": 33,
   "metadata": {},
   "outputs": [],
   "source": [
    "lr = 0.001\n",
    "epochs = 100\n",
    "losses = []\n",
    "for i in range(epochs):\n",
    "    losses += [((y - torch.mm(X, w)) ** 2).mean().item()]\n",
    "    dw = torch.mm(2*X.T, torch.mm(X, w) - y) / X.shape[0]\n",
    "    w = w - lr * dw"
   ]
  },
  {
   "cell_type": "code",
   "execution_count": 34,
   "metadata": {},
   "outputs": [
    {
     "data": {
      "text/plain": [
       "tensor([[-0.0266],\n",
       "        [ 0.4284],\n",
       "        [-1.0944],\n",
       "        [ 0.2052]])"
      ]
     },
     "execution_count": 34,
     "metadata": {},
     "output_type": "execute_result"
    }
   ],
   "source": [
    "w"
   ]
  },
  {
   "cell_type": "code",
   "execution_count": 35,
   "metadata": {},
   "outputs": [
    {
     "data": {
      "text/plain": [
       "3.2837467193603516"
      ]
     },
     "execution_count": 35,
     "metadata": {},
     "output_type": "execute_result"
    }
   ],
   "source": [
    "((y - torch.mm(X, w)) ** 2).mean().item() # wow działa"
   ]
  },
  {
   "cell_type": "code",
   "execution_count": 36,
   "metadata": {},
   "outputs": [
    {
     "data": {
      "text/plain": [
       "tensor([[-2.2666, -2.1606],\n",
       "        [-1.4022, -0.8610],\n",
       "        [-2.8048, -3.6835],\n",
       "        [-0.8972, -1.0842],\n",
       "        [-6.0159, -3.9067],\n",
       "        [-3.2507, -2.6071],\n",
       "        [-2.7550, -3.5257],\n",
       "        [-3.5589, -2.2261],\n",
       "        [-2.8686, -0.4800],\n",
       "        [ 0.6548, -1.7796],\n",
       "        [-2.4218, -0.7032],\n",
       "        [-4.3890, -3.3025],\n",
       "        [-4.8995, -4.5936],\n",
       "        [-1.8623, -1.9943],\n",
       "        [-3.8894, -0.0249],\n",
       "        [-0.0172, -1.3245],\n",
       "        [ 1.9822, -0.4714],\n",
       "        [-3.5631, -4.3703],\n",
       "        [-4.2215, -4.3618],\n",
       "        [-4.6789, -3.0622],\n",
       "        [ 4.3298,  0.2069],\n",
       "        [-3.8434, -2.3924],\n",
       "        [ 2.9009, -0.0164],\n",
       "        [-2.9022, -3.9153]])"
      ]
     },
     "execution_count": 36,
     "metadata": {},
     "output_type": "execute_result"
    }
   ],
   "source": [
    "torch.column_stack((y, torch.mm(X, w)))"
   ]
  },
  {
   "cell_type": "code",
   "execution_count": 37,
   "metadata": {},
   "outputs": [
    {
     "data": {
      "image/png": "[encoded data removed]",
      "text/plain": [
       "<Figure size 432x288 with 1 Axes>"
      ]
     },
     "metadata": {
      "needs_background": "light"
     },
     "output_type": "display_data"
    }
   ],
   "source": [
    "import matplotlib.pyplot as plt\n",
    "\n",
    "plt.plot(range(100), losses)\n",
    "plt.title(\"Learning curve\")\n",
    "plt.show()"
   ]
  },
  {
   "cell_type": "markdown",
   "metadata": {},
   "source": [
    "**Uwaga!** Wyraz wolny, bias - `b` -> [szczegóły](https://d2l.ai/chapter_linear-networks/linear-regression.html)"
   ]
  },
  {
   "cell_type": "code",
   "execution_count": 38,
   "metadata": {},
   "outputs": [
    {
     "data": {
      "image/png": "[encoded data removed]",
      "text/plain": [
       "<Figure size 576x576 with 1 Axes>"
      ]
     },
     "metadata": {
      "needs_background": "light"
     },
     "output_type": "display_data"
    }
   ],
   "source": [
    "plt.figure(figsize=(8, 8))\n",
    "plt.scatter(y, y_temp)\n",
    "plt.title(\"Pre and post gradient descent\")\n",
    "plt.scatter(y, torch.mm(X, w))\n",
    "plt.title(\"y_hat vs y\")\n",
    "plt.ylim((-7, 7))\n",
    "plt.ylabel(\"prediction\")\n",
    "plt.xlim((-7, 7))\n",
    "plt.plot(np.arange(-7, 8), np.arange(-7, 8), c=\"black\")\n",
    "plt.xlabel(\"y\")\n",
    "plt.legend((\"y=x\", \"y_hat (pre)\", \"y_hat (post)\"))\n",
    "plt.show()"
   ]
  },
  {
   "cell_type": "markdown",
   "metadata": {},
   "source": [
    "## Klasyfikacja"
   ]
  },
  {
   "cell_type": "markdown",
   "metadata": {},
   "source": [
    "Główna różnica w klasyfikacji to dodanie nowego wymiaru - klasy (np. `3` dla danych iris, `10` dla MNIST):\n",
    "1. wektor `y` w klasyfikacji binarnej ma dwa wymiary `(N, 2)`\n",
    "2. wektor `y_hat` musi być normalizowany - prawdopodobieństwa przynależności do klas sumują się do 1 wykorzystując [SoftMax](https://d2l.ai/chapter_linear-networks/softmax-regression-concise.html#softmax-implementation-revisited)\n",
    "3. stosujemy funkcję straty Cross entropy zamiast MSE; zmienia się sposób liczenia pochodnej"
   ]
  },
  {
   "cell_type": "code",
   "execution_count": 39,
   "metadata": {},
   "outputs": [],
   "source": [
    "torch.manual_seed(7)\n",
    "np.random.seed(7)"
   ]
  },
  {
   "cell_type": "code",
   "execution_count": 40,
   "metadata": {},
   "outputs": [],
   "source": [
    "num_inputs = 3\n",
    "X = np.random.normal(size=(100, num_inputs))\n",
    "y = (X.sum(axis=1) > 0).astype(np.int)\n",
    "Y = np.column_stack((y, 1- y))\n",
    "num_outputs = Y.shape[1]\n",
    "X = torch.as_tensor(X, dtype=torch.float32)\n",
    "Y = torch.as_tensor(Y, dtype=torch.float32)"
   ]
  },
  {
   "cell_type": "code",
   "execution_count": 41,
   "metadata": {},
   "outputs": [],
   "source": [
    "# requires_grad - informujemy o zaalokowaniu dodatkowej pamięci na gradient\n",
    "W = torch.normal(0, 0.01, size=(num_inputs, num_outputs), requires_grad=True)\n",
    "b = torch.zeros(num_outputs, requires_grad=True)"
   ]
  },
  {
   "cell_type": "code",
   "execution_count": 42,
   "metadata": {},
   "outputs": [
    {
     "data": {
      "text/plain": [
       "tensor([[-0.0015,  0.0079],\n",
       "        [ 0.0095, -0.0111],\n",
       "        [ 0.0169, -0.0089]], requires_grad=True)"
      ]
     },
     "execution_count": 42,
     "metadata": {},
     "output_type": "execute_result"
    }
   ],
   "source": [
    "W"
   ]
  },
  {
   "cell_type": "code",
   "execution_count": 43,
   "metadata": {},
   "outputs": [
    {
     "data": {
      "text/plain": [
       "tensor([[-0.0063,  0.0182],\n",
       "        [-0.0080,  0.0120],\n",
       "        [ 0.0006,  0.0104],\n",
       "        [-0.0097,  0.0132],\n",
       "        [-0.0073,  0.0091],\n",
       "        [ 0.0095, -0.0187],\n",
       "        [ 0.0131,  0.0044],\n",
       "        [ 0.0304, -0.0126],\n",
       "        [-0.0205,  0.0194],\n",
       "        [ 0.0063, -0.0260],\n",
       "        [-0.0167, -0.0030],\n",
       "        [-0.0315,  0.0331],\n",
       "        [ 0.0455, -0.0416],\n",
       "        [ 0.0054, -0.0103],\n",
       "        [-0.0368,  0.0281],\n",
       "        [ 0.0443, -0.0386],\n",
       "        [ 0.0270, -0.0091],\n",
       "        [ 0.0049, -0.0015],\n",
       "        [-0.0270,  0.0152],\n",
       "        [ 0.0185, -0.0057],\n",
       "        [-0.0192,  0.0192],\n",
       "        [-0.0212,  0.0256],\n",
       "        [-0.0133,  0.0050],\n",
       "        [ 0.0111, -0.0234],\n",
       "        [ 0.0389, -0.0286],\n",
       "        [ 0.0159, -0.0119],\n",
       "        [-0.0055,  0.0124],\n",
       "        [-0.0130,  0.0107],\n",
       "        [-0.0104,  0.0077],\n",
       "        [ 0.0239, -0.0128],\n",
       "        [ 0.0054, -0.0031],\n",
       "        [-0.0072,  0.0074],\n",
       "        [-0.0009,  0.0111],\n",
       "        [-0.0012,  0.0026],\n",
       "        [-0.0060,  0.0148],\n",
       "        [ 0.0170, -0.0218],\n",
       "        [-0.0117,  0.0212],\n",
       "        [ 0.0191, -0.0145],\n",
       "        [ 0.0039, -0.0119],\n",
       "        [ 0.0240, -0.0118],\n",
       "        [ 0.0033,  0.0007],\n",
       "        [ 0.0123, -0.0051],\n",
       "        [ 0.0190, -0.0088],\n",
       "        [-0.0124,  0.0123],\n",
       "        [-0.0155,  0.0032],\n",
       "        [-0.0191, -0.0034],\n",
       "        [-0.0056, -0.0131],\n",
       "        [-0.0247,  0.0199],\n",
       "        [-0.0077, -0.0016],\n",
       "        [-0.0274,  0.0104],\n",
       "        [-0.0203,  0.0218],\n",
       "        [ 0.0383, -0.0220],\n",
       "        [ 0.0299, -0.0315],\n",
       "        [-0.0033,  0.0144],\n",
       "        [-0.0089,  0.0270],\n",
       "        [ 0.0016,  0.0113],\n",
       "        [-0.0199,  0.0079],\n",
       "        [ 0.0150, -0.0060],\n",
       "        [ 0.0164, -0.0145],\n",
       "        [-0.0021,  0.0132],\n",
       "        [ 0.0094, -0.0107],\n",
       "        [-0.0320,  0.0249],\n",
       "        [ 0.0046, -0.0166],\n",
       "        [-0.0117,  0.0126],\n",
       "        [-0.0439,  0.0359],\n",
       "        [-0.0104,  0.0318],\n",
       "        [-0.0284,  0.0208],\n",
       "        [-0.0379,  0.0361],\n",
       "        [ 0.0131, -0.0143],\n",
       "        [-0.0083,  0.0129],\n",
       "        [ 0.0087, -0.0107],\n",
       "        [-0.0048, -0.0025],\n",
       "        [-0.0021, -0.0033],\n",
       "        [ 0.0302, -0.0129],\n",
       "        [-0.0194,  0.0101],\n",
       "        [-0.0061, -0.0008],\n",
       "        [ 0.0047, -0.0073],\n",
       "        [ 0.0116, -0.0158],\n",
       "        [ 0.0299, -0.0202],\n",
       "        [ 0.0003,  0.0006],\n",
       "        [ 0.0038,  0.0087],\n",
       "        [-0.0129,  0.0024],\n",
       "        [-0.0093,  0.0176],\n",
       "        [-0.0034, -0.0071],\n",
       "        [ 0.0054, -0.0069],\n",
       "        [-0.0227,  0.0218],\n",
       "        [ 0.0270, -0.0183],\n",
       "        [-0.0115,  0.0227],\n",
       "        [-0.0103,  0.0154],\n",
       "        [ 0.0056,  0.0023],\n",
       "        [ 0.0217, -0.0201],\n",
       "        [ 0.0226, -0.0208],\n",
       "        [-0.0422,  0.0209],\n",
       "        [-0.0428,  0.0326],\n",
       "        [ 0.0133, -0.0182],\n",
       "        [-0.0140,  0.0039],\n",
       "        [ 0.0187, -0.0248],\n",
       "        [-0.0039, -0.0060],\n",
       "        [ 0.0414, -0.0312],\n",
       "        [ 0.0057, -0.0133]], grad_fn=<MmBackward>)"
      ]
     },
     "execution_count": 43,
     "metadata": {},
     "output_type": "execute_result"
    }
   ],
   "source": [
    "torch.mm(X, W)"
   ]
  },
  {
   "cell_type": "code",
   "execution_count": 44,
   "metadata": {},
   "outputs": [],
   "source": [
    "def softmax(X):\n",
    "    X_exp = torch.exp(X)\n",
    "    partition = X_exp.sum(1, keepdim=True)\n",
    "    return X_exp / partition"
   ]
  },
  {
   "cell_type": "code",
   "execution_count": 45,
   "metadata": {},
   "outputs": [],
   "source": [
    "def neural_network(X):\n",
    "    # w tym przypadku architektura odpowiada regresji logistycznej\n",
    "    return softmax(torch.mm(X.reshape((-1, W.shape[0])), W) + b)"
   ]
  },
  {
   "cell_type": "code",
   "execution_count": 46,
   "metadata": {},
   "outputs": [],
   "source": [
    "def cross_entropy(y_hat, y):\n",
    "    return - torch.log(y_hat[range(len(y_hat)), y])"
   ]
  },
  {
   "cell_type": "code",
   "execution_count": 47,
   "metadata": {},
   "outputs": [],
   "source": [
    "optimizer = torch.optim.SGD({W, b}, lr=0.001)\n",
    "errors = []\n",
    "\n",
    "for i in range(100):\n",
    "    y_hat = neural_network(X)\n",
    "    errors += [np.abs((torch.as_tensor(y) - y_hat.argmax(1)).numpy()).mean()]\n",
    "    l = cross_entropy(y_hat, y)\n",
    "    optimizer.zero_grad()\n",
    "    l.mean().backward()\n",
    "    optimizer.step()"
   ]
  },
  {
   "cell_type": "code",
   "execution_count": 48,
   "metadata": {},
   "outputs": [
    {
     "data": {
      "text/plain": [
       "0.12"
      ]
     },
     "execution_count": 48,
     "metadata": {},
     "output_type": "execute_result"
    }
   ],
   "source": [
    "np.abs((torch.as_tensor(y) - y_hat.argmax(1)).numpy()).mean() # error = 1 - accuracy"
   ]
  },
  {
   "cell_type": "code",
   "execution_count": 49,
   "metadata": {},
   "outputs": [
    {
     "data": {
      "image/png": "[encoded data removed]",
      "text/plain": [
       "<Figure size 432x288 with 1 Axes>"
      ]
     },
     "metadata": {
      "needs_background": "light"
     },
     "output_type": "display_data"
    }
   ],
   "source": [
    "plt.plot(range(100), errors)\n",
    "plt.title(\"Error curve\")\n",
    "plt.show()"
   ]
  },
  {
   "cell_type": "code",
   "execution_count": 50,
   "metadata": {},
   "outputs": [
    {
     "data": {
      "text/plain": [
       "tensor([ 0,  0,  0, -1,  0,  0,  0,  0,  0,  0,  0,  0,  0,  1,  0,  1,  0,  0,\n",
       "         0,  0,  0,  0,  0,  1,  0,  0,  0,  0,  0,  0,  0,  0,  0,  0,  0,  0,\n",
       "         0,  0,  0,  0,  0,  0,  0,  0,  0,  0,  0,  0,  0,  0,  0,  0,  1,  0,\n",
       "         0,  0,  0,  0,  0, -1,  1, -1,  0,  0,  0,  0,  0,  0,  0,  0,  0,  0,\n",
       "         0,  0,  0,  0,  0,  0,  0,  0,  0,  0,  0,  0,  0, -1,  0, -1,  0,  0,\n",
       "         0,  0,  0,  0,  0,  0,  1,  1,  0,  0])"
      ]
     },
     "execution_count": 50,
     "metadata": {},
     "output_type": "execute_result"
    }
   ],
   "source": [
    "torch.as_tensor(y) - y_hat.argmax(1)"
   ]
  },
  {
   "cell_type": "code",
   "execution_count": 51,
   "metadata": {},
   "outputs": [
    {
     "data": {
      "text/plain": [
       "tensor([[-0.0154,  0.0218],\n",
       "        [-0.0107,  0.0090],\n",
       "        [-0.0087,  0.0167]], requires_grad=True)"
      ]
     },
     "execution_count": 51,
     "metadata": {},
     "output_type": "execute_result"
    }
   ],
   "source": [
    "W"
   ]
  },
  {
   "cell_type": "code",
   "execution_count": 52,
   "metadata": {},
   "outputs": [
    {
     "data": {
      "text/plain": [
       "tensor([ 2.5413e-06, -2.5412e-06], requires_grad=True)"
      ]
     },
     "execution_count": 52,
     "metadata": {},
     "output_type": "execute_result"
    }
   ],
   "source": [
    "b"
   ]
  },
  {
   "cell_type": "markdown",
   "metadata": {},
   "source": [
    "*policzyć macierz pomyłek klasyfikacji binarnej"
   ]
  },
  {
   "cell_type": "markdown",
   "metadata": {},
   "source": [
    "# Praca Domowa 1\n",
    "\n",
    "Indywidualnie, zaimplementować model sieci neuronowej (MLP) do klasyfikacji w `torch` i przetestować go na dwóch zbiorach danych: XOR (wygenerować), oraz iris (pobrać). Powstały raport w formatach `.ipynb` oraz `.html` powinien zawierać wionski z przeprowadzonej analizy.\n",
    "1. do 2 punktów uzyskuje się za skuteczność klasyfikacji modeli i wizualizację procesu uczenia\n",
    "2. do 2 punktów uzyskuje się za analizę porównawczą różnych architektur sieci neuronowych (liczby neuronów i warstw)\n",
    "3. 1 punkt uzyskuje się za analizę porównawczą różnych wartości `learning_rate` \n",
    "4. 1 punkt uzyskuje się za wytrenowanie skutecznego modelu na zbiorze danych MNIST i analizę macierzy pomyłek tej klasyfikacji\n",
    "5. 1 punkt uzyskuje się za ewaluowanie powyższych zjawisk na podzbiorze treningowym i testowym (analizę zjawiska przeuczenia)\n",
    "6. 1 punkt uzyskuje się za animację zmiany granic decyzyjnych klasyfikacji podczas uczenia (na wybranym zbiorze danych)\n",
    "7. do 2 punktów uzyskuje sie za jakość raportu (opisu, wizualizacji, kodu).\n",
    "\n",
    "**Uwaga!** Warto zacząć od uczenia bardzo małych sieci i stopniowo zwiększać ich skomplikowanie.\n",
    "\n",
    "Deadline: 16 marca 23:59. Na zajęciach 17 marca 5 wybranch osób krótko zaprezentuje swoje wyniki.\n",
    "\n",
    "Pracę zgłaszamy poprzez PR o tytule `[PD1] Imię Nazwisko` do folderu `homeworks/pd1/imię_nazwisko`."
   ]
  }
 ],
 "metadata": {
  "interpreter": {
   "hash": "6ab6057dad60620dec75a45f968cfcb183b6d526d8d16dda8af77d690bdae944"
  },
  "kernelspec": {
   "display_name": "Python 3.9.2 64-bit",
   "language": "python",
   "name": "python3"
  },
  "language_info": {
   "codemirror_mode": {
    "name": "ipython",
    "version": 3
   },
   "file_extension": ".py",
   "mimetype": "text/x-python",
   "name": "python",
   "nbconvert_exporter": "python",
   "pygments_lexer": "ipython3",
   "version": "3.9.2"
  },
  "orig_nbformat": 4
 },
 "nbformat": 4,
 "nbformat_minor": 2
}
