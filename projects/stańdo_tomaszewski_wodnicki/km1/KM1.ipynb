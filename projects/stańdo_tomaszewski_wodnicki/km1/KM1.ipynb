{
  "nbformat": 4,
  "nbformat_minor": 0,
  "metadata": {
    "colab": {
      "name": "Projekt-KM1.ipynb",
      "provenance": [],
      "collapsed_sections": []
    },
    "kernelspec": {
      "name": "python3",
      "display_name": "Python 3"
    },
    "language_info": {
      "name": "python"
    },
    "accelerator": "GPU"
  },
  "cells": [
    {
      "cell_type": "markdown",
      "source": [
        "# Projekt - KM1\n",
        "\n",
        "Challenge 3 - blue and yellow circles\n",
        "\n",
        "Question 1: Explain the Kandinsky Pattern in an algorithmic way, i.e. train a network which classifies Kandinsky Figures according to ground truth of challenge 3.\n",
        "\n",
        "## Pobranie danych"
      ],
      "metadata": {
        "id": "cNSl9laY1MSl"
      }
    },
    {
      "cell_type": "code",
      "execution_count": null,
      "metadata": {
        "colab": {
          "base_uri": "https://localhost:8080/"
        },
        "id": "beEh5Wcz1Fke",
        "outputId": "62e5ec21-c834-4bf0-9943-1f85490fa4d4"
      },
      "outputs": [
        {
          "output_type": "stream",
          "name": "stdout",
          "text": [
            "Drive already mounted at /content/drive; to attempt to forcibly remount, call drive.mount(\"/content/drive\", force_remount=True).\n"
          ]
        }
      ],
      "source": [
        "from google.colab import drive\n",
        "\n",
        "drive.mount('/content/drive')"
      ]
    },
    {
      "cell_type": "code",
      "source": [
        "! cp /content/drive/MyDrive/projekt-WB/explain.py ./explain.py\n",
        "! cp /content/drive/MyDrive/projekt-WB/resnet18.py ./resnet18.py\n",
        "! cp /content/drive/MyDrive/projekt-WB/train_function.py ./train_function.py"
      ],
      "metadata": {
        "id": "tfZ0tAdkQwJE"
      },
      "execution_count": null,
      "outputs": []
    },
    {
      "cell_type": "code",
      "source": [
        "! git clone https://github.com/human-centered-ai-lab/dat-kandinsky-patterns"
      ],
      "metadata": {
        "colab": {
          "base_uri": "https://localhost:8080/"
        },
        "id": "2H3TkDgh1dsf",
        "outputId": "7f34963a-ac0b-4923-aaaa-69ae11c0cfb0"
      },
      "execution_count": null,
      "outputs": [
        {
          "output_type": "stream",
          "name": "stdout",
          "text": [
            "Cloning into 'dat-kandinsky-patterns'...\n",
            "remote: Enumerating objects: 22535, done.\u001b[K\n",
            "remote: Total 22535 (delta 0), reused 0 (delta 0), pack-reused 22535\u001b[K\n",
            "Receiving objects: 100% (22535/22535), 396.91 MiB | 17.67 MiB/s, done.\n",
            "Resolving deltas: 100% (357/357), done.\n",
            "Checking out files: 100% (11253/11253), done.\n"
          ]
        }
      ]
    },
    {
      "cell_type": "code",
      "source": [
        "! mv ./dat-kandinsky-patterns/challenge-nr-3/ ./"
      ],
      "metadata": {
        "id": "62ACczGb2OS4"
      },
      "execution_count": null,
      "outputs": []
    },
    {
      "cell_type": "code",
      "source": [
        "! mv ./challenge-nr-3 ./dataset"
      ],
      "metadata": {
        "id": "Mstco1R621_p"
      },
      "execution_count": null,
      "outputs": []
    },
    {
      "cell_type": "code",
      "source": [
        "! rm -R ./dat-kandinsky-patterns"
      ],
      "metadata": {
        "id": "QropW0-K3OzJ"
      },
      "execution_count": null,
      "outputs": []
    },
    {
      "cell_type": "code",
      "source": [
        "# na razie, do modelowania wstępnego\n",
        "\n",
        "! rm -R ./dataset/counterfactual/"
      ],
      "metadata": {
        "id": "_RTb6M6d3WFQ"
      },
      "execution_count": null,
      "outputs": []
    },
    {
      "cell_type": "markdown",
      "source": [
        "## Tworzenie datasetu"
      ],
      "metadata": {
        "id": "bppmi-2U3sLJ"
      }
    },
    {
      "cell_type": "code",
      "source": [
        "import torch\n",
        "import torchvision\n",
        "\n",
        "\n",
        "if torch.cuda.is_available():  \n",
        "    DEVICE = \"cuda:0\" \n",
        "else:  \n",
        "    DEVICE = \"cpu\""
      ],
      "metadata": {
        "id": "nB6Sq0zO3oMO"
      },
      "execution_count": null,
      "outputs": []
    },
    {
      "cell_type": "code",
      "source": [
        "DEVICE"
      ],
      "metadata": {
        "colab": {
          "base_uri": "https://localhost:8080/",
          "height": 36
        },
        "id": "COxFyB614Gw0",
        "outputId": "19418bde-069c-4f87-bd91-aae87a626a27"
      },
      "execution_count": null,
      "outputs": [
        {
          "output_type": "execute_result",
          "data": {
            "text/plain": [
              "'cuda:0'"
            ],
            "application/vnd.google.colaboratory.intrinsic+json": {
              "type": "string"
            }
          },
          "metadata": {},
          "execution_count": 3
        }
      ]
    },
    {
      "cell_type": "code",
      "source": [
        "transforms = torchvision.transforms.Compose([\n",
        "    # zmiana rozmiaru, ponieważ batch wielkości 10 zajmował zbyt dużo pamięci \n",
        "    # na GPU (oryginały mają 600x600)\n",
        "    torchvision.transforms.Resize((300, 300)),\n",
        "    torchvision.transforms.ToTensor()\n",
        "])\n",
        "\n",
        "dataset = torchvision.datasets.ImageFolder('./dataset', transform=transforms)"
      ],
      "metadata": {
        "id": "8eXrgN674Hm1"
      },
      "execution_count": null,
      "outputs": []
    },
    {
      "cell_type": "code",
      "source": [
        "n = len(dataset)\n",
        "n"
      ],
      "metadata": {
        "colab": {
          "base_uri": "https://localhost:8080/"
        },
        "id": "0KiVW_Ii4MwD",
        "outputId": "84f9befd-e469-4e67-b938-5e3c4574afe9"
      },
      "execution_count": null,
      "outputs": [
        {
          "output_type": "execute_result",
          "data": {
            "text/plain": [
              "2000"
            ]
          },
          "metadata": {},
          "execution_count": 9
        }
      ]
    },
    {
      "cell_type": "code",
      "source": [
        "train_set, test_set = torch.utils.data.random_split(dataset, [1600, 400])\n",
        "\n",
        "# aby zachować na przyszłość ten sam podział\n",
        "torch.save(train_set, '/content/drive/MyDrive/projekt-WB/train_set')\n",
        "torch.save(test_set, '/content/drive/MyDrive/projekt-WB/test_set')"
      ],
      "metadata": {
        "id": "8lBW5X554Q6w"
      },
      "execution_count": null,
      "outputs": []
    },
    {
      "cell_type": "code",
      "source": [
        "# train_set = torch.load('/content/drive/MyDrive/projekt-WB/train_set')\n",
        "# test_set = torch.load('/content/drive/MyDrive/projekt-WB/test_set')"
      ],
      "metadata": {
        "id": "I6XVTHDR42zX"
      },
      "execution_count": null,
      "outputs": []
    },
    {
      "cell_type": "code",
      "source": [
        "train_loader = torch.utils.data.DataLoader(train_set, shuffle=True, num_workers=2, batch_size=10)\n",
        "test_loader = torch.utils.data.DataLoader(test_set, shuffle=False, num_workers=2, batch_size=10)"
      ],
      "metadata": {
        "id": "mF2_NcCG5DEn"
      },
      "execution_count": null,
      "outputs": []
    },
    {
      "cell_type": "markdown",
      "source": [
        "## Wstępne modelowanie\n",
        "\n",
        "Część kodu zaczerpnieta z: https://github.com/kuangliu/pytorch-cifar/blob/master/models/resnet.py"
      ],
      "metadata": {
        "id": "eIRT2NnN5Mp5"
      }
    },
    {
      "cell_type": "code",
      "source": [
        "import torch.nn as nn\n",
        "import torch.nn.functional as F\n",
        "\n",
        "from resnet18 import ResNet18"
      ],
      "metadata": {
        "id": "7fL8VweqXeaA"
      },
      "execution_count": null,
      "outputs": []
    },
    {
      "cell_type": "code",
      "source": [
        "model = ResNet18()\n",
        "model.linear = nn.Linear(41472, 2)\n",
        "model = model.to(DEVICE)"
      ],
      "metadata": {
        "id": "LETGa1K85Sul"
      },
      "execution_count": null,
      "outputs": []
    },
    {
      "cell_type": "code",
      "source": [
        "criterion = torch.nn.CrossEntropyLoss()\n",
        "optimizer = torch.optim.Adam(model.parameters(), lr = 0.001)"
      ],
      "metadata": {
        "id": "FK1-f_tN5t7R"
      },
      "execution_count": null,
      "outputs": []
    },
    {
      "cell_type": "code",
      "source": [
        "epochs = 3"
      ],
      "metadata": {
        "id": "35yEmPcq5yXB"
      },
      "execution_count": null,
      "outputs": []
    },
    {
      "cell_type": "code",
      "source": [
        "from train_function import train"
      ],
      "metadata": {
        "id": "hSlDgOkhYaIR"
      },
      "execution_count": null,
      "outputs": []
    },
    {
      "cell_type": "code",
      "source": [
        "train_acc, test_acc = train(model, criterion, optimizer, 0, epochs, train_loader, test_loader, DEVICE)"
      ],
      "metadata": {
        "colab": {
          "base_uri": "https://localhost:8080/"
        },
        "id": "Mn-CBdd450O4",
        "outputId": "c21816ab-79de-4f97-b4a6-98e9ba414788"
      },
      "execution_count": null,
      "outputs": [
        {
          "output_type": "stream",
          "name": "stdout",
          "text": [
            "Epoch: 0, train accuracy: 0.985625, test accuracy: 1.0\n",
            "Epoch: 1, train accuracy: 0.974375, test accuracy: 1.0\n",
            "Epoch: 2, train accuracy: 1.0, test accuracy: 1.0\n"
          ]
        }
      ]
    },
    {
      "cell_type": "code",
      "source": [
        ""
      ],
      "metadata": {
        "id": "8AQth-Oy_Edu"
      },
      "execution_count": null,
      "outputs": []
    },
    {
      "cell_type": "code",
      "source": [
        "import numpy as np\n",
        "import matplotlib.pyplot as plt\n",
        "\n",
        "plt.plot(np.arange(len(train_acc)), train_acc, color = 'blue')\n",
        "plt.plot(np.arange(len(test_acc)), test_acc, color = 'red')\n",
        "plt.legend(['Train set', 'Test set'])\n",
        "plt.xlabel('Epoch')\n",
        "plt.ylabel('Accuracy value')\n",
        "plt.title('ResNet-18 training')\n",
        "plt.show()"
      ],
      "metadata": {
        "colab": {
          "base_uri": "https://localhost:8080/",
          "height": 295
        },
        "id": "-OgRjSJu7srq",
        "outputId": "ce06645e-9462-47b4-c67b-881625d77210"
      },
      "execution_count": null,
      "outputs": [
        {
          "output_type": "display_data",
          "data": {
            "text/plain": [
              "<Figure size 432x288 with 1 Axes>"
            ],
            "image/png": "[encoded data removed]"
          },
          "metadata": {
            "needs_background": "light"
          }
        }
      ]
    },
    {
      "cell_type": "code",
      "source": [
        "torch.save(model.state_dict(), '/content/drive/MyDrive/projekt-WB/model_1.model')"
      ],
      "metadata": {
        "id": "3vRST5XW7so-"
      },
      "execution_count": null,
      "outputs": []
    },
    {
      "cell_type": "code",
      "source": [
        "import pickle\n",
        "\n",
        "with open('/content/drive/MyDrive/projekt-WB/train_acc_hist_1', 'wb') as f:\n",
        "    pickle.dump(train_acc, f)\n",
        "\n",
        "with open('/content/drive/MyDrive/projekt-WB/test_acc_hist_1', 'wb') as f:\n",
        "    pickle.dump(test_acc, f)"
      ],
      "metadata": {
        "id": "fUF4tVYV7smT"
      },
      "execution_count": null,
      "outputs": []
    },
    {
      "cell_type": "markdown",
      "source": [
        "## Macierz konfuzji"
      ],
      "metadata": {
        "id": "qm1cyBAf8Di0"
      }
    },
    {
      "cell_type": "code",
      "source": [
        "single_test_loader = torch.utils.data.DataLoader(test_set, shuffle=False, num_workers=2, batch_size=1)\n",
        "\n",
        "model.eval()\n",
        "\n",
        "y_hat = []\n",
        "y_test = []\n",
        "\n",
        "for batch in single_test_loader:     \n",
        "    images = batch[0].to(DEVICE)\n",
        "    labels = batch[1].to(DEVICE)\n",
        "    preds = model(images)\n",
        "    _, predicted = preds.max(1)\n",
        "    y_hat += predicted.tolist()\n",
        "    y_test += labels.tolist()"
      ],
      "metadata": {
        "id": "YYLGyrKT79lQ"
      },
      "execution_count": null,
      "outputs": []
    },
    {
      "cell_type": "code",
      "source": [
        "from sklearn.metrics import confusion_matrix\n",
        "from sklearn.metrics import ConfusionMatrixDisplay\n",
        "import matplotlib.pyplot as plt\n",
        "\n",
        "plt.figure(figsize=(8, 8))\n",
        "cm = confusion_matrix(y_test, y_hat)\n",
        "disp = ConfusionMatrixDisplay(confusion_matrix=cm, display_labels=dataset.classes)\n",
        "\n",
        "fig, ax = plt.subplots(figsize=(8, 8))\n",
        "disp.plot(ax=ax)\n",
        "plt.title('Confusion matrix on test set')\n",
        "plt.xticks(rotation=30)\n",
        "plt.show()"
      ],
      "metadata": {
        "colab": {
          "base_uri": "https://localhost:8080/",
          "height": 489
        },
        "id": "HAULWQHf8K4D",
        "outputId": "a1fec399-7b0a-481b-f493-cfab6adb7138"
      },
      "execution_count": null,
      "outputs": [
        {
          "output_type": "display_data",
          "data": {
            "text/plain": [
              "<Figure size 576x576 with 0 Axes>"
            ]
          },
          "metadata": {}
        },
        {
          "output_type": "display_data",
          "data": {
            "text/plain": [
              "<Figure size 576x576 with 2 Axes>"
            ],
            "image/png": "[encoded data removed]"
          },
          "metadata": {
            "needs_background": "light"
          }
        }
      ]
    },
    {
      "cell_type": "markdown",
      "source": [
        "Sieć bardzo dobrze wytrenowała się na tych danych"
      ],
      "metadata": {
        "id": "I6wee6kJLUvq"
      }
    },
    {
      "cell_type": "code",
      "source": [
        ""
      ],
      "metadata": {
        "id": "ycaHeI-KA9sf"
      },
      "execution_count": null,
      "outputs": []
    },
    {
      "cell_type": "code",
      "source": [
        ""
      ],
      "metadata": {
        "id": "RxFl0vGHA9pr"
      },
      "execution_count": null,
      "outputs": []
    },
    {
      "cell_type": "code",
      "source": [
        ""
      ],
      "metadata": {
        "id": "cuSFnPOf9sCk"
      },
      "execution_count": null,
      "outputs": []
    },
    {
      "cell_type": "markdown",
      "source": [
        "# Dodam teraz **counterfactual**\n",
        "\n",
        "## Wczytanie danych"
      ],
      "metadata": {
        "id": "TQzymg869su1"
      }
    },
    {
      "cell_type": "code",
      "source": [
        "from google.colab import drive\n",
        "\n",
        "drive.mount('/content/drive')"
      ],
      "metadata": {
        "colab": {
          "base_uri": "https://localhost:8080/"
        },
        "id": "Gu2hq_aO4ezx",
        "outputId": "970a807b-13ee-4013-9cfd-46f457d4d124"
      },
      "execution_count": null,
      "outputs": [
        {
          "output_type": "stream",
          "name": "stdout",
          "text": [
            "Drive already mounted at /content/drive; to attempt to forcibly remount, call drive.mount(\"/content/drive\", force_remount=True).\n"
          ]
        }
      ]
    },
    {
      "cell_type": "code",
      "source": [
        "! cp /content/drive/MyDrive/projekt-WB/explain.py ./explain.py\n",
        "! cp /content/drive/MyDrive/projekt-WB/resnet18.py ./resnet18.py\n",
        "! cp /content/drive/MyDrive/projekt-WB/train_function.py ./train_function.py"
      ],
      "metadata": {
        "id": "JmGdBRBoXap3"
      },
      "execution_count": null,
      "outputs": []
    },
    {
      "cell_type": "code",
      "source": [
        "! rm -R ./dataset\n",
        "! rm -R ./dat-kandinsky-patterns"
      ],
      "metadata": {
        "colab": {
          "base_uri": "https://localhost:8080/"
        },
        "id": "MCzi4Udt4E8n",
        "outputId": "d3701f26-cbf9-4ffa-95a7-4f759baa00b1"
      },
      "execution_count": null,
      "outputs": [
        {
          "output_type": "stream",
          "name": "stdout",
          "text": [
            "rm: cannot remove './dat-kandinsky-patterns': No such file or directory\n"
          ]
        }
      ]
    },
    {
      "cell_type": "code",
      "source": [
        "! git clone https://github.com/human-centered-ai-lab/dat-kandinsky-patterns"
      ],
      "metadata": {
        "colab": {
          "base_uri": "https://localhost:8080/"
        },
        "id": "iLQ4V3WG90Sf",
        "outputId": "f85410a4-a710-461a-8c4c-8dfb29f00e21"
      },
      "execution_count": null,
      "outputs": [
        {
          "output_type": "stream",
          "name": "stdout",
          "text": [
            "Cloning into 'dat-kandinsky-patterns'...\n",
            "remote: Enumerating objects: 22535, done.\u001b[K\n",
            "remote: Total 22535 (delta 0), reused 0 (delta 0), pack-reused 22535\n",
            "Receiving objects: 100% (22535/22535), 396.91 MiB | 36.96 MiB/s, done.\n",
            "Resolving deltas: 100% (357/357), done.\n",
            "Checking out files: 100% (11253/11253), done.\n"
          ]
        }
      ]
    },
    {
      "cell_type": "code",
      "source": [
        "! mv ./dat-kandinsky-patterns/challenge-nr-3/ ./\n",
        "! mv ./challenge-nr-3 ./dataset"
      ],
      "metadata": {
        "id": "FerNjHs09_uv"
      },
      "execution_count": null,
      "outputs": []
    },
    {
      "cell_type": "code",
      "source": [
        "! rm -R ./dat-kandinsky-patterns"
      ],
      "metadata": {
        "id": "DMj8jnnr-D3D"
      },
      "execution_count": null,
      "outputs": []
    },
    {
      "cell_type": "code",
      "source": [
        "import torch\n",
        "import torchvision\n",
        "\n",
        "if torch.cuda.is_available():  \n",
        "    DEVICE = \"cuda:0\" \n",
        "else:  \n",
        "    DEVICE = \"cpu\""
      ],
      "metadata": {
        "id": "iNsV2Fd4-Fmz"
      },
      "execution_count": null,
      "outputs": []
    },
    {
      "cell_type": "code",
      "source": [
        "transforms = torchvision.transforms.Compose([\n",
        "    # zmiana rozmiaru, ponieważ batch wielkości 10 zajmował zbyt dużo pamięci \n",
        "    # na GPU (oryginały mają 600x600)\n",
        "    torchvision.transforms.Resize((300, 300)),\n",
        "    torchvision.transforms.ToTensor()\n",
        "])\n",
        "\n",
        "dataset = torchvision.datasets.ImageFolder('./dataset', transform=transforms)"
      ],
      "metadata": {
        "id": "y0-GFsmH-Fea"
      },
      "execution_count": null,
      "outputs": []
    },
    {
      "cell_type": "code",
      "source": [
        "n = len(dataset)\n",
        "n"
      ],
      "metadata": {
        "colab": {
          "base_uri": "https://localhost:8080/"
        },
        "id": "PFaoKwPF-FX4",
        "outputId": "91d140dc-5f05-4b8d-e2ab-ce9a1722da65"
      },
      "execution_count": null,
      "outputs": [
        {
          "output_type": "execute_result",
          "data": {
            "text/plain": [
              "3000"
            ]
          },
          "metadata": {},
          "execution_count": 32
        }
      ]
    },
    {
      "cell_type": "code",
      "source": [
        "train_set, test_set = torch.utils.data.random_split(dataset, [2400, 600])\n",
        "\n",
        "# aby zachować na przyszłość ten sam podział\n",
        "torch.save(train_set, '/content/drive/MyDrive/projekt-WB/train_set_2')\n",
        "torch.save(test_set, '/content/drive/MyDrive/projekt-WB/test_set_2')"
      ],
      "metadata": {
        "id": "_XgGNeLLCrsz"
      },
      "execution_count": null,
      "outputs": []
    },
    {
      "cell_type": "code",
      "source": [
        "# train_set = torch.load('/content/drive/MyDrive/projekt-WB/train_set_2')\n",
        "# test_set = torch.load('/content/drive/MyDrive/projekt-WB/test_set_2')"
      ],
      "metadata": {
        "id": "iXIJvgF4-b3v"
      },
      "execution_count": null,
      "outputs": []
    },
    {
      "cell_type": "code",
      "source": [
        "train_loader = torch.utils.data.DataLoader(train_set, shuffle=True, num_workers=2, batch_size=10)\n",
        "test_loader = torch.utils.data.DataLoader(test_set, shuffle=False, num_workers=2, batch_size=10)"
      ],
      "metadata": {
        "id": "i2-az-O54jV-"
      },
      "execution_count": null,
      "outputs": []
    },
    {
      "cell_type": "markdown",
      "source": [
        "## Modelowanie"
      ],
      "metadata": {
        "id": "LWSbnkD8NcRI"
      }
    },
    {
      "cell_type": "code",
      "source": [
        "import torch.nn as nn\n",
        "import torch.nn.functional as F\n",
        "\n",
        "from resnet18 import ResNet18"
      ],
      "metadata": {
        "id": "mMFenqFWXq4l"
      },
      "execution_count": null,
      "outputs": []
    },
    {
      "cell_type": "code",
      "source": [
        "model = ResNet18(num_classes = 3)\n",
        "model.linear = nn.Linear(41472, 3)\n",
        "model = model.to(DEVICE)"
      ],
      "metadata": {
        "id": "Oo3fo5k-4w1J"
      },
      "execution_count": null,
      "outputs": []
    },
    {
      "cell_type": "code",
      "source": [
        "criterion = torch.nn.CrossEntropyLoss()\n",
        "optimizer = torch.optim.Adam(model.parameters(), lr = 0.001)"
      ],
      "metadata": {
        "id": "vDFMoMVL43FD"
      },
      "execution_count": null,
      "outputs": []
    },
    {
      "cell_type": "code",
      "source": [
        "epochs = 3"
      ],
      "metadata": {
        "id": "esohBL7W46XJ"
      },
      "execution_count": null,
      "outputs": []
    },
    {
      "cell_type": "code",
      "source": [
        "from train_function import train"
      ],
      "metadata": {
        "id": "kVCjsDf0Y7e6"
      },
      "execution_count": null,
      "outputs": []
    },
    {
      "cell_type": "code",
      "source": [
        "train_acc, test_acc = train(model, criterion, optimizer, 0, epochs, train_loader, test_loader, DEVICE)"
      ],
      "metadata": {
        "colab": {
          "base_uri": "https://localhost:8080/"
        },
        "id": "BCaO3fqe49JO",
        "outputId": "53b5a55f-ee8b-4a84-c4da-416605a351dc"
      },
      "execution_count": null,
      "outputs": [
        {
          "output_type": "stream",
          "name": "stdout",
          "text": [
            "Epoch: 0, train accuracy: 0.6604166666666667, test accuracy: 0.6533333333333333\n",
            "Epoch: 1, train accuracy: 0.71625, test accuracy: 0.69\n",
            "Epoch: 2, train accuracy: 0.7504166666666666, test accuracy: 0.7016666666666667\n"
          ]
        }
      ]
    },
    {
      "cell_type": "code",
      "source": [
        "torch.save(model.state_dict(), '/content/drive/MyDrive/projekt-WB/model_2.model')"
      ],
      "metadata": {
        "id": "_xLOK9uw4_rZ"
      },
      "execution_count": null,
      "outputs": []
    },
    {
      "cell_type": "code",
      "source": [
        "import pickle\n",
        "\n",
        "with open('/content/drive/MyDrive/projekt-WB/train_acc_hist_2', 'wb') as f:\n",
        "    pickle.dump(train_acc, f)\n",
        "\n",
        "with open('/content/drive/MyDrive/projekt-WB/test_acc_hist_2', 'wb') as f:\n",
        "    pickle.dump(test_acc, f)"
      ],
      "metadata": {
        "id": "MmKB9l2r5DIf"
      },
      "execution_count": null,
      "outputs": []
    },
    {
      "cell_type": "markdown",
      "source": [
        "## Macierz konfuzji"
      ],
      "metadata": {
        "id": "FL8fPl875NIm"
      }
    },
    {
      "cell_type": "code",
      "source": [
        "single_test_loader = torch.utils.data.DataLoader(test_set, shuffle=False, num_workers=2, batch_size=1)\n",
        "\n",
        "model.eval()\n",
        "\n",
        "y_hat = []\n",
        "y_test = []\n",
        "\n",
        "for batch in single_test_loader:     \n",
        "    images = batch[0].to(DEVICE)\n",
        "    labels = batch[1].to(DEVICE)\n",
        "    preds = model(images)\n",
        "    _, predicted = preds.max(1)\n",
        "    y_hat += predicted.tolist()\n",
        "    y_test += labels.tolist()"
      ],
      "metadata": {
        "id": "71n_WNut5HhK"
      },
      "execution_count": null,
      "outputs": []
    },
    {
      "cell_type": "code",
      "source": [
        "from sklearn.metrics import confusion_matrix\n",
        "from sklearn.metrics import ConfusionMatrixDisplay\n",
        "import matplotlib.pyplot as plt\n",
        "\n",
        "plt.figure(figsize=(8, 8))\n",
        "cm = confusion_matrix(y_test, y_hat)\n",
        "disp = ConfusionMatrixDisplay(confusion_matrix=cm, display_labels=dataset.classes)\n",
        "\n",
        "fig, ax = plt.subplots(figsize=(8, 8))\n",
        "disp.plot(ax=ax)\n",
        "plt.title('Confusion matrix on test set')\n",
        "plt.show()"
      ],
      "metadata": {
        "colab": {
          "base_uri": "https://localhost:8080/",
          "height": 489
        },
        "id": "_yC7nPj25QTV",
        "outputId": "7a574a6f-b6f2-42a0-8daa-296b6b79eab3"
      },
      "execution_count": null,
      "outputs": [
        {
          "output_type": "display_data",
          "data": {
            "text/plain": [
              "<Figure size 576x576 with 0 Axes>"
            ]
          },
          "metadata": {}
        },
        {
          "output_type": "display_data",
          "data": {
            "text/plain": [
              "<Figure size 576x576 with 2 Axes>"
            ],
            "image/png": "[encoded data removed]"
          },
          "metadata": {
            "needs_background": "light"
          }
        }
      ]
    },
    {
      "cell_type": "code",
      "source": [
        ""
      ],
      "metadata": {
        "id": "ed0kJvnoKMGA"
      },
      "execution_count": null,
      "outputs": []
    },
    {
      "cell_type": "code",
      "source": [
        ""
      ],
      "metadata": {
        "id": "Pfs-t6e8KMDB"
      },
      "execution_count": null,
      "outputs": []
    },
    {
      "cell_type": "code",
      "source": [
        ""
      ],
      "metadata": {
        "id": "PP1kzRbuKMAe"
      },
      "execution_count": null,
      "outputs": []
    },
    {
      "cell_type": "code",
      "source": [
        ""
      ],
      "metadata": {
        "id": "XWtIYyiJKL4g"
      },
      "execution_count": null,
      "outputs": []
    },
    {
      "cell_type": "markdown",
      "source": [
        "### Dalsze trenowanie"
      ],
      "metadata": {
        "id": "2lhroZ8tZCGc"
      }
    },
    {
      "cell_type": "code",
      "source": [
        "%%capture\n",
        "\n",
        "model.train()"
      ],
      "metadata": {
        "id": "WpKs_OLDEnh4"
      },
      "execution_count": null,
      "outputs": []
    },
    {
      "cell_type": "code",
      "source": [
        "epochs = 5\n",
        "\n",
        "train_acc, test_acc = train(model, criterion, optimizer, 3, epochs, train_loader, test_loader, DEVICE, train_acc, test_acc)"
      ],
      "metadata": {
        "colab": {
          "base_uri": "https://localhost:8080/"
        },
        "id": "ZjQAGjKq5Uon",
        "outputId": "ecb29a96-551f-466d-bec9-973d72c49166"
      },
      "execution_count": null,
      "outputs": [
        {
          "output_type": "stream",
          "name": "stdout",
          "text": [
            "Epoch: 3, train accuracy: 0.74125, test accuracy: 0.655\n",
            "Epoch: 4, train accuracy: 0.7141666666666666, test accuracy: 0.6516666666666666\n",
            "Epoch: 5, train accuracy: 0.7366666666666667, test accuracy: 0.6916666666666667\n",
            "Epoch: 6, train accuracy: 0.7504166666666666, test accuracy: 0.6733333333333333\n",
            "Epoch: 7, train accuracy: 0.7654166666666666, test accuracy: 0.73\n"
          ]
        }
      ]
    },
    {
      "cell_type": "code",
      "source": [
        "torch.save(model.state_dict(), '/content/drive/MyDrive/projekt-WB/model_2_1.model')"
      ],
      "metadata": {
        "id": "vVw3yjpb8QAd"
      },
      "execution_count": null,
      "outputs": []
    },
    {
      "cell_type": "code",
      "source": [
        "import pickle\n",
        "\n",
        "with open('/content/drive/MyDrive/projekt-WB/train_acc_hist_2_1', 'wb') as f:\n",
        "    pickle.dump(train_acc, f)\n",
        "\n",
        "with open('/content/drive/MyDrive/projekt-WB/test_acc_hist_2_1', 'wb') as f:\n",
        "    pickle.dump(test_acc, f)"
      ],
      "metadata": {
        "id": "YNmJIftqCei0"
      },
      "execution_count": null,
      "outputs": []
    },
    {
      "cell_type": "code",
      "source": [
        "single_test_loader = torch.utils.data.DataLoader(test_set, shuffle=False, num_workers=2, batch_size=1)\n",
        "\n",
        "model.eval()\n",
        "\n",
        "y_hat = []\n",
        "y_test = []\n",
        "\n",
        "for batch in single_test_loader:     \n",
        "    images = batch[0].to(DEVICE)\n",
        "    labels = batch[1].to(DEVICE)\n",
        "    preds = model(images)\n",
        "    _, predicted = preds.max(1)\n",
        "    y_hat += predicted.tolist()\n",
        "    y_test += labels.tolist()"
      ],
      "metadata": {
        "id": "U3vs-WQSChiY"
      },
      "execution_count": null,
      "outputs": []
    },
    {
      "cell_type": "code",
      "source": [
        "from sklearn.metrics import confusion_matrix\n",
        "from sklearn.metrics import ConfusionMatrixDisplay\n",
        "import matplotlib.pyplot as plt\n",
        "\n",
        "plt.figure(figsize=(8, 8))\n",
        "cm = confusion_matrix(y_test, y_hat)\n",
        "disp = ConfusionMatrixDisplay(confusion_matrix=cm, display_labels=dataset.classes)\n",
        "\n",
        "fig, ax = plt.subplots(figsize=(8, 8))\n",
        "disp.plot(ax=ax)\n",
        "plt.title('Confusion matrix on test set')\n",
        "plt.show()"
      ],
      "metadata": {
        "colab": {
          "base_uri": "https://localhost:8080/",
          "height": 489
        },
        "id": "xEw5ySZrKM0G",
        "outputId": "e4895048-fb47-40ae-e48e-07ad5113d70f"
      },
      "execution_count": null,
      "outputs": [
        {
          "output_type": "display_data",
          "data": {
            "text/plain": [
              "<Figure size 576x576 with 0 Axes>"
            ]
          },
          "metadata": {}
        },
        {
          "output_type": "display_data",
          "data": {
            "text/plain": [
              "<Figure size 576x576 with 2 Axes>"
            ],
            "image/png": "[encoded data removed]"
          },
          "metadata": {
            "needs_background": "light"
          }
        }
      ]
    },
    {
      "cell_type": "code",
      "source": [
        ""
      ],
      "metadata": {
        "id": "7ncwcbUiKOo5"
      },
      "execution_count": null,
      "outputs": []
    },
    {
      "cell_type": "code",
      "source": [
        "%%capture\n",
        "\n",
        "model.train()"
      ],
      "metadata": {
        "id": "7SiSSdyBLRaY"
      },
      "execution_count": null,
      "outputs": []
    },
    {
      "cell_type": "code",
      "source": [
        "epochs = 10\n",
        "\n",
        "train_acc, test_acc = train(model, criterion, optimizer, 7, epochs, train_loader, test_loader, DEVICE, train_acc, test_acc)"
      ],
      "metadata": {
        "colab": {
          "base_uri": "https://localhost:8080/"
        },
        "id": "fs1AbvujLRO1",
        "outputId": "0e3eb726-b07e-42a4-b453-b920adc1a7a4"
      },
      "execution_count": null,
      "outputs": [
        {
          "output_type": "stream",
          "name": "stdout",
          "text": [
            "Epoch: 7, train accuracy: 0.7841666666666667, test accuracy: 0.7066666666666667\n",
            "Epoch: 8, train accuracy: 0.7954166666666667, test accuracy: 0.68\n",
            "Epoch: 9, train accuracy: 0.75625, test accuracy: 0.7033333333333334\n",
            "Epoch: 10, train accuracy: 0.7695833333333333, test accuracy: 0.6916666666666667\n",
            "Epoch: 11, train accuracy: 0.8004166666666667, test accuracy: 0.7066666666666667\n",
            "Epoch: 12, train accuracy: 0.7966666666666666, test accuracy: 0.7116666666666667\n",
            "Epoch: 13, train accuracy: 0.80625, test accuracy: 0.7\n",
            "Epoch: 14, train accuracy: 0.8254166666666667, test accuracy: 0.715\n",
            "Epoch: 15, train accuracy: 0.8333333333333334, test accuracy: 0.705\n",
            "Epoch: 16, train accuracy: 0.8504166666666667, test accuracy: 0.7183333333333334\n"
          ]
        }
      ]
    },
    {
      "cell_type": "code",
      "source": [
        "import numpy as np\n",
        "import matplotlib.pyplot as plt\n",
        "\n",
        "plt.plot(np.arange(len(train_acc)), train_acc, color = 'blue')\n",
        "plt.plot(np.arange(len(test_acc)), test_acc, color = 'red')\n",
        "plt.legend(['Train set', 'Test set'])\n",
        "plt.xlabel('Epoch')\n",
        "plt.ylabel('Accuracy value')\n",
        "plt.title('ResNet-18 training')\n",
        "plt.show()"
      ],
      "metadata": {
        "colab": {
          "base_uri": "https://localhost:8080/",
          "height": 295
        },
        "id": "5fx04ZI1NtD_",
        "outputId": "fe4e5256-6734-4b89-bf07-cf899918fb0b"
      },
      "execution_count": null,
      "outputs": [
        {
          "output_type": "display_data",
          "data": {
            "text/plain": [
              "<Figure size 432x288 with 1 Axes>"
            ],
            "image/png": "[encoded data removed]"
          },
          "metadata": {
            "needs_background": "light"
          }
        }
      ]
    },
    {
      "cell_type": "code",
      "source": [
        "torch.save(model.state_dict(), '/content/drive/MyDrive/projekt-WB/model_2_2.model')"
      ],
      "metadata": {
        "id": "VvHwteqGLogC"
      },
      "execution_count": null,
      "outputs": []
    },
    {
      "cell_type": "code",
      "source": [
        "import pickle\n",
        "\n",
        "with open('/content/drive/MyDrive/projekt-WB/train_acc_hist_2_2', 'wb') as f:\n",
        "    pickle.dump(train_acc, f)\n",
        "\n",
        "with open('/content/drive/MyDrive/projekt-WB/test_acc_hist_2_2', 'wb') as f:\n",
        "    pickle.dump(test_acc, f)"
      ],
      "metadata": {
        "id": "TX0kRe-NLyt7"
      },
      "execution_count": null,
      "outputs": []
    },
    {
      "cell_type": "code",
      "source": [
        "single_test_loader = torch.utils.data.DataLoader(test_set, shuffle=False, num_workers=2, batch_size=1)\n",
        "\n",
        "model.eval()\n",
        "\n",
        "y_hat = []\n",
        "y_test = []\n",
        "\n",
        "for batch in single_test_loader:     \n",
        "    images = batch[0].to(DEVICE)\n",
        "    labels = batch[1].to(DEVICE)\n",
        "    preds = model(images)\n",
        "    _, predicted = preds.max(1)\n",
        "    y_hat += predicted.tolist()\n",
        "    y_test += labels.tolist()"
      ],
      "metadata": {
        "id": "qdfcynsVL06h"
      },
      "execution_count": null,
      "outputs": []
    },
    {
      "cell_type": "code",
      "source": [
        "from sklearn.metrics import confusion_matrix\n",
        "from sklearn.metrics import ConfusionMatrixDisplay\n",
        "import matplotlib.pyplot as plt\n",
        "\n",
        "plt.figure(figsize=(8, 8))\n",
        "cm = confusion_matrix(y_test, y_hat)\n",
        "disp = ConfusionMatrixDisplay(confusion_matrix=cm, display_labels=dataset.classes)\n",
        "\n",
        "fig, ax = plt.subplots(figsize=(8, 8))\n",
        "disp.plot(ax=ax)\n",
        "plt.title('Confusion matrix on test set')\n",
        "plt.show()"
      ],
      "metadata": {
        "colab": {
          "base_uri": "https://localhost:8080/",
          "height": 489
        },
        "id": "rECQmw_qL3AM",
        "outputId": "3baf307f-6228-42f3-ee9c-5f7824b48960"
      },
      "execution_count": null,
      "outputs": [
        {
          "output_type": "display_data",
          "data": {
            "text/plain": [
              "<Figure size 576x576 with 0 Axes>"
            ]
          },
          "metadata": {}
        },
        {
          "output_type": "display_data",
          "data": {
            "text/plain": [
              "<Figure size 576x576 with 2 Axes>"
            ],
            "image/png": "[encoded data removed]"
          },
          "metadata": {
            "needs_background": "light"
          }
        }
      ]
    },
    {
      "cell_type": "markdown",
      "source": [
        "Sieć się przetreowała oraz, jak widać powyżej, niezbyt nauczyła się rozróżniać klasę true od counterfactual"
      ],
      "metadata": {
        "id": "Y6cgX-tmWXhJ"
      }
    },
    {
      "cell_type": "code",
      "source": [
        ""
      ],
      "metadata": {
        "id": "KGQhP2PuL4Sj"
      },
      "execution_count": null,
      "outputs": []
    },
    {
      "cell_type": "markdown",
      "source": [
        "# Usunę teraz **false** i zostawię tylko **true** i **counterfalse**\n",
        "\n",
        "## Wczytanie danych"
      ],
      "metadata": {
        "id": "ve-6_IdtNgMK"
      }
    },
    {
      "cell_type": "code",
      "source": [
        "from google.colab import drive\n",
        "\n",
        "drive.mount('/content/drive')"
      ],
      "metadata": {
        "colab": {
          "base_uri": "https://localhost:8080/"
        },
        "id": "zJQPwIUCNliM",
        "outputId": "4b824962-0ace-4ce7-f25a-3ca1bff74095"
      },
      "execution_count": null,
      "outputs": [
        {
          "output_type": "stream",
          "name": "stdout",
          "text": [
            "Drive already mounted at /content/drive; to attempt to forcibly remount, call drive.mount(\"/content/drive\", force_remount=True).\n"
          ]
        }
      ]
    },
    {
      "cell_type": "code",
      "source": [
        "! cp /content/drive/MyDrive/projekt-WB/explain.py ./explain.py\n",
        "! cp /content/drive/MyDrive/projekt-WB/resnet18.py ./resnet18.py\n",
        "! cp /content/drive/MyDrive/projekt-WB/train_function.py ./train_function.py"
      ],
      "metadata": {
        "id": "g3puDybLXcba"
      },
      "execution_count": null,
      "outputs": []
    },
    {
      "cell_type": "code",
      "source": [
        "! rm -R ./dataset\n",
        "! rm -R ./dat-kandinsky-patterns\n",
        "! git clone https://github.com/human-centered-ai-lab/dat-kandinsky-patterns\n",
        "! mv ./dat-kandinsky-patterns/challenge-nr-3/ ./\n",
        "! mv ./challenge-nr-3 ./dataset\n",
        "! rm -R ./dat-kandinsky-patterns\n",
        "! rm -R ./dataset/false/"
      ],
      "metadata": {
        "colab": {
          "base_uri": "https://localhost:8080/"
        },
        "id": "yoTGKMWSNyh3",
        "outputId": "c5395c35-4cba-4a23-ccc3-ee8000be8d3f"
      },
      "execution_count": null,
      "outputs": [
        {
          "output_type": "stream",
          "name": "stdout",
          "text": [
            "rm: cannot remove './dat-kandinsky-patterns': No such file or directory\n",
            "Cloning into 'dat-kandinsky-patterns'...\n",
            "remote: Enumerating objects: 22535, done.\u001b[K\n",
            "remote: Total 22535 (delta 0), reused 0 (delta 0), pack-reused 22535\u001b[K\n",
            "Receiving objects: 100% (22535/22535), 396.91 MiB | 30.96 MiB/s, done.\n",
            "Resolving deltas: 100% (357/357), done.\n",
            "Checking out files: 100% (11253/11253), done.\n"
          ]
        }
      ]
    },
    {
      "cell_type": "code",
      "source": [
        "import torch\n",
        "import torchvision\n",
        "\n",
        "if torch.cuda.is_available():  \n",
        "    DEVICE = \"cuda:0\" \n",
        "else:  \n",
        "    DEVICE = \"cpu\""
      ],
      "metadata": {
        "id": "Fd9wU0t4ODgS"
      },
      "execution_count": null,
      "outputs": []
    },
    {
      "cell_type": "code",
      "source": [
        "transforms = torchvision.transforms.Compose([\n",
        "    # zmiana rozmiaru, ponieważ batch wielkości 10 zajmował zbyt dużo pamięci \n",
        "    # na GPU (oryginały mają 600x600)\n",
        "    torchvision.transforms.Resize((300, 300)),\n",
        "    torchvision.transforms.ToTensor()\n",
        "])\n",
        "\n",
        "dataset = torchvision.datasets.ImageFolder('./dataset', transform=transforms)"
      ],
      "metadata": {
        "id": "3UgqSljROJF1"
      },
      "execution_count": null,
      "outputs": []
    },
    {
      "cell_type": "code",
      "source": [
        "train_set, test_set = torch.utils.data.random_split(dataset, [1600, 400])\n",
        "\n",
        "# aby zachować na przyszłość ten sam podział\n",
        "torch.save(train_set, '/content/drive/MyDrive/projekt-WB/train_set_3')\n",
        "torch.save(test_set, '/content/drive/MyDrive/projekt-WB/test_set_3')"
      ],
      "metadata": {
        "id": "8iP7umLZOMhb"
      },
      "execution_count": null,
      "outputs": []
    },
    {
      "cell_type": "code",
      "source": [
        "train_loader = torch.utils.data.DataLoader(train_set, shuffle=True, num_workers=2, batch_size=10)\n",
        "test_loader = torch.utils.data.DataLoader(test_set, shuffle=False, num_workers=2, batch_size=10)"
      ],
      "metadata": {
        "id": "TvEXY9GUOMbq"
      },
      "execution_count": null,
      "outputs": []
    },
    {
      "cell_type": "markdown",
      "source": [
        "## Modelowanie"
      ],
      "metadata": {
        "id": "xvc8-CA7fNSV"
      }
    },
    {
      "cell_type": "code",
      "source": [
        "import torch.nn as nn\n",
        "import torch.nn.functional as F\n",
        "\n",
        "from resnet18 import ResNet18"
      ],
      "metadata": {
        "id": "wrvXW9qRX0TG"
      },
      "execution_count": null,
      "outputs": []
    },
    {
      "cell_type": "code",
      "source": [
        "model = ResNet18(num_classes = 2)\n",
        "model.linear = nn.Linear(41472, 2)\n",
        "model = model.to(DEVICE)"
      ],
      "metadata": {
        "id": "LaPQjoXPOhMJ"
      },
      "execution_count": null,
      "outputs": []
    },
    {
      "cell_type": "code",
      "source": [
        "criterion = torch.nn.CrossEntropyLoss()\n",
        "optimizer = torch.optim.Adam(model.parameters(), lr = 0.001)"
      ],
      "metadata": {
        "id": "SASkzuDyOkw2"
      },
      "execution_count": null,
      "outputs": []
    },
    {
      "cell_type": "code",
      "source": [
        "epochs = 10"
      ],
      "metadata": {
        "id": "TiyelY-KOogp"
      },
      "execution_count": null,
      "outputs": []
    },
    {
      "cell_type": "code",
      "source": [
        "from train_function import train"
      ],
      "metadata": {
        "id": "FqAaqNYaZW2h"
      },
      "execution_count": null,
      "outputs": []
    },
    {
      "cell_type": "code",
      "source": [
        "train_acc, test_acc = train(model, criterion, optimizer, 0, epochs, train_loader, test_loader, DEVICE)"
      ],
      "metadata": {
        "colab": {
          "base_uri": "https://localhost:8080/"
        },
        "id": "QvX4CLnVOujt",
        "outputId": "aa90849e-e0b0-4881-a485-e6253c3d2bba"
      },
      "execution_count": null,
      "outputs": [
        {
          "output_type": "stream",
          "name": "stdout",
          "text": [
            "Epoch: 0, train accuracy: 0.525625, test accuracy: 0.5425\n",
            "Epoch: 1, train accuracy: 0.555, test accuracy: 0.615\n",
            "Epoch: 2, train accuracy: 0.580625, test accuracy: 0.5725\n",
            "Epoch: 3, train accuracy: 0.595625, test accuracy: 0.5525\n",
            "Epoch: 4, train accuracy: 0.641875, test accuracy: 0.595\n",
            "Epoch: 5, train accuracy: 0.643125, test accuracy: 0.5475\n",
            "Epoch: 6, train accuracy: 0.67625, test accuracy: 0.5575\n",
            "Epoch: 7, train accuracy: 0.699375, test accuracy: 0.56\n",
            "Epoch: 8, train accuracy: 0.705625, test accuracy: 0.645\n",
            "Epoch: 9, train accuracy: 0.778125, test accuracy: 0.6675\n"
          ]
        }
      ]
    },
    {
      "cell_type": "code",
      "source": [
        "import numpy as np\n",
        "import matplotlib.pyplot as plt\n",
        "\n",
        "plt.plot(np.arange(len(train_acc)), train_acc, color = 'blue')\n",
        "plt.plot(np.arange(len(test_acc)), test_acc, color = 'red')\n",
        "plt.legend(['Train set', 'Test set'])\n",
        "plt.xlabel('Epoch')\n",
        "plt.ylabel('Accuracy value')\n",
        "plt.title('ResNet-18 training')\n",
        "plt.show()"
      ],
      "metadata": {
        "colab": {
          "base_uri": "https://localhost:8080/",
          "height": 295
        },
        "id": "hO81GmXtOvMB",
        "outputId": "db980884-8a14-4c89-8031-8accb6ab71bb"
      },
      "execution_count": null,
      "outputs": [
        {
          "output_type": "display_data",
          "data": {
            "text/plain": [
              "<Figure size 432x288 with 1 Axes>"
            ],
            "image/png": "[encoded data removed]"
          },
          "metadata": {
            "needs_background": "light"
          }
        }
      ]
    },
    {
      "cell_type": "code",
      "source": [
        "torch.save(model.state_dict(), '/content/drive/MyDrive/projekt-WB/model_3.model')"
      ],
      "metadata": {
        "id": "j6aSoG0bOycJ"
      },
      "execution_count": null,
      "outputs": []
    },
    {
      "cell_type": "code",
      "source": [
        "import pickle\n",
        "\n",
        "with open('/content/drive/MyDrive/projekt-WB/train_acc_hist_3', 'wb') as f:\n",
        "    pickle.dump(train_acc, f)\n",
        "\n",
        "with open('/content/drive/MyDrive/projekt-WB/test_acc_hist_3', 'wb') as f:\n",
        "    pickle.dump(test_acc, f)"
      ],
      "metadata": {
        "id": "4BgQQsNjO119"
      },
      "execution_count": null,
      "outputs": []
    },
    {
      "cell_type": "code",
      "source": [
        "single_test_loader = torch.utils.data.DataLoader(test_set, shuffle=False, num_workers=2, batch_size=1)\n",
        "\n",
        "model.eval()\n",
        "\n",
        "y_hat = []\n",
        "y_test = []\n",
        "\n",
        "for batch in single_test_loader:     \n",
        "    images = batch[0].to(DEVICE)\n",
        "    labels = batch[1].to(DEVICE)\n",
        "    preds = model(images)\n",
        "    _, predicted = preds.max(1)\n",
        "    y_hat += predicted.tolist()\n",
        "    y_test += labels.tolist()"
      ],
      "metadata": {
        "id": "Ha1hmT_gO4xx"
      },
      "execution_count": null,
      "outputs": []
    },
    {
      "cell_type": "code",
      "source": [
        "from sklearn.metrics import confusion_matrix\n",
        "from sklearn.metrics import ConfusionMatrixDisplay\n",
        "import matplotlib.pyplot as plt\n",
        "\n",
        "plt.figure(figsize=(8, 8))\n",
        "cm = confusion_matrix(y_test, y_hat)\n",
        "disp = ConfusionMatrixDisplay(confusion_matrix=cm, display_labels=dataset.classes)\n",
        "\n",
        "fig, ax = plt.subplots(figsize=(8, 8))\n",
        "disp.plot(ax=ax)\n",
        "plt.title('Confusion matrix on test set')\n",
        "plt.show()"
      ],
      "metadata": {
        "colab": {
          "base_uri": "https://localhost:8080/",
          "height": 483
        },
        "id": "xINZ5HrDO8Nu",
        "outputId": "02484932-a8a3-4cf6-df5c-67a4587f605e"
      },
      "execution_count": null,
      "outputs": [
        {
          "output_type": "display_data",
          "data": {
            "text/plain": [
              "<Figure size 576x576 with 0 Axes>"
            ]
          },
          "metadata": {}
        },
        {
          "output_type": "display_data",
          "data": {
            "text/plain": [
              "<Figure size 576x576 with 2 Axes>"
            ],
            "image/png": "[encoded data removed]"
          },
          "metadata": {
            "needs_background": "light"
          }
        }
      ]
    },
    {
      "cell_type": "code",
      "source": [
        ""
      ],
      "metadata": {
        "id": "P19qsLMTZ7Zo"
      },
      "execution_count": null,
      "outputs": []
    },
    {
      "cell_type": "code",
      "source": [
        ""
      ],
      "metadata": {
        "id": "J2z5VHAIa2Ml"
      },
      "execution_count": null,
      "outputs": []
    },
    {
      "cell_type": "code",
      "source": [
        ""
      ],
      "metadata": {
        "id": "_2MAxHvsagPE"
      },
      "execution_count": null,
      "outputs": []
    },
    {
      "cell_type": "markdown",
      "source": [
        "# Połączę teraz **false** z **counterfalse**, a drugą klasą będzie **true**\n",
        "\n",
        "## Wczytanie danych"
      ],
      "metadata": {
        "id": "lkkb_G40fKJl"
      }
    },
    {
      "cell_type": "code",
      "source": [
        "from google.colab import drive\n",
        "\n",
        "drive.mount('/content/drive')"
      ],
      "metadata": {
        "colab": {
          "base_uri": "https://localhost:8080/"
        },
        "id": "CkUOE2_9faGY",
        "outputId": "21464190-88a4-44f6-d818-98aa4f77dc11"
      },
      "execution_count": null,
      "outputs": [
        {
          "output_type": "stream",
          "name": "stdout",
          "text": [
            "Drive already mounted at /content/drive; to attempt to forcibly remount, call drive.mount(\"/content/drive\", force_remount=True).\n"
          ]
        }
      ]
    },
    {
      "cell_type": "code",
      "source": [
        "! cp /content/drive/MyDrive/projekt-WB/explain.py ./explain.py\n",
        "! cp /content/drive/MyDrive/projekt-WB/resnet18.py ./resnet18.py\n",
        "! cp /content/drive/MyDrive/projekt-WB/train_function.py ./train_function.py"
      ],
      "metadata": {
        "id": "BRXGU-LEfdOB"
      },
      "execution_count": null,
      "outputs": []
    },
    {
      "cell_type": "code",
      "source": [
        "! rm -R ./dataset\n",
        "! rm -R ./dat-kandinsky-patterns\n",
        "! git clone https://github.com/human-centered-ai-lab/dat-kandinsky-patterns\n",
        "! mv ./dat-kandinsky-patterns/challenge-nr-3/ ./\n",
        "! mv ./challenge-nr-3 ./dataset"
      ],
      "metadata": {
        "colab": {
          "base_uri": "https://localhost:8080/"
        },
        "id": "eNS2LPoxfdLR",
        "outputId": "52d2a258-b4ac-485a-dca8-316440aaf885"
      },
      "execution_count": null,
      "outputs": [
        {
          "output_type": "stream",
          "name": "stdout",
          "text": [
            "rm: cannot remove './dat-kandinsky-patterns': No such file or directory\n",
            "Cloning into 'dat-kandinsky-patterns'...\n",
            "remote: Enumerating objects: 22535, done.\u001b[K\n",
            "remote: Total 22535 (delta 0), reused 0 (delta 0), pack-reused 22535\u001b[K\n",
            "Receiving objects: 100% (22535/22535), 396.91 MiB | 30.29 MiB/s, done.\n",
            "Resolving deltas: 100% (357/357), done.\n",
            "Checking out files: 100% (11253/11253), done.\n"
          ]
        }
      ]
    },
    {
      "cell_type": "code",
      "source": [
        "import os\n",
        "\n",
        "folder = './dataset/counterfactual/'\n",
        "\n",
        "for count, filename in enumerate(os.listdir(folder)):\n",
        "    dst = filename + \"_counterfactual.png\"\n",
        "    src =f\"{folder}/{filename}\"\n",
        "    dst =f\"{folder}/{dst}\"\n",
        "    os.rename(src, dst)"
      ],
      "metadata": {
        "id": "IZ4N_lHKkcgk"
      },
      "execution_count": null,
      "outputs": []
    },
    {
      "cell_type": "code",
      "source": [
        "! cp -r ./dataset/counterfactual/. ./dataset/false/\n",
        "! rm -R ./dat-kandinsky-patterns\n",
        "! rm -R ./dataset/counterfactual/"
      ],
      "metadata": {
        "id": "X4Fc-1rQkc8m"
      },
      "execution_count": null,
      "outputs": []
    },
    {
      "cell_type": "code",
      "source": [
        "import torch\n",
        "import torchvision\n",
        "\n",
        "if torch.cuda.is_available():  \n",
        "    DEVICE = \"cuda:0\" \n",
        "else:  \n",
        "    DEVICE = \"cpu\""
      ],
      "metadata": {
        "id": "HMDaVbWOfdBg"
      },
      "execution_count": null,
      "outputs": []
    },
    {
      "cell_type": "code",
      "source": [
        "transforms = torchvision.transforms.Compose([\n",
        "    # zmiana rozmiaru, ponieważ batch wielkości 10 zajmował zbyt dużo pamięci \n",
        "    # na GPU (oryginały mają 600x600)\n",
        "    torchvision.transforms.Resize((300, 300)),\n",
        "    torchvision.transforms.ToTensor()\n",
        "])\n",
        "\n",
        "dataset = torchvision.datasets.ImageFolder('./dataset', transform=transforms)"
      ],
      "metadata": {
        "id": "AoUuSygqf5tV"
      },
      "execution_count": null,
      "outputs": []
    },
    {
      "cell_type": "code",
      "source": [
        "len(dataset)"
      ],
      "metadata": {
        "colab": {
          "base_uri": "https://localhost:8080/"
        },
        "id": "yIcrW2fbj_MW",
        "outputId": "b6ccbec8-c13a-4e23-83e7-77df21bca71e"
      },
      "execution_count": null,
      "outputs": [
        {
          "output_type": "execute_result",
          "data": {
            "text/plain": [
              "3000"
            ]
          },
          "metadata": {},
          "execution_count": 15
        }
      ]
    },
    {
      "cell_type": "code",
      "source": [
        "train_set, test_set = torch.utils.data.random_split(dataset, [2400, 600])\n",
        "\n",
        "# aby zachować na przyszłość ten sam podział\n",
        "torch.save(train_set, '/content/drive/MyDrive/projekt-WB/train_set_4')\n",
        "torch.save(test_set, '/content/drive/MyDrive/projekt-WB/test_set_4')"
      ],
      "metadata": {
        "id": "hEr4-Nh8f5mi"
      },
      "execution_count": null,
      "outputs": []
    },
    {
      "cell_type": "code",
      "source": [
        "train_loader = torch.utils.data.DataLoader(train_set, shuffle=True, num_workers=2, batch_size=10)\n",
        "test_loader = torch.utils.data.DataLoader(test_set, shuffle=False, num_workers=2, batch_size=10)"
      ],
      "metadata": {
        "id": "38vYr_Nmf9jG"
      },
      "execution_count": null,
      "outputs": []
    },
    {
      "cell_type": "markdown",
      "source": [
        "## Modelowanie"
      ],
      "metadata": {
        "id": "84yE5ZerlnXT"
      }
    },
    {
      "cell_type": "code",
      "source": [
        "import torch.nn as nn\n",
        "import torch.nn.functional as F\n",
        "\n",
        "from resnet18 import ResNet18"
      ],
      "metadata": {
        "id": "enLq6oE9loyF"
      },
      "execution_count": null,
      "outputs": []
    },
    {
      "cell_type": "code",
      "source": [
        "model = ResNet18(num_classes = 2)\n",
        "model.linear = nn.Linear(41472, 2)\n",
        "model = model.to(DEVICE)"
      ],
      "metadata": {
        "id": "ctFEbGk0lpln"
      },
      "execution_count": null,
      "outputs": []
    },
    {
      "cell_type": "code",
      "source": [
        "criterion = torch.nn.CrossEntropyLoss()\n",
        "optimizer = torch.optim.Adam(model.parameters(), lr = 0.001)"
      ],
      "metadata": {
        "id": "lQ_CArZSfnWa"
      },
      "execution_count": null,
      "outputs": []
    },
    {
      "cell_type": "code",
      "source": [
        "epochs = 10"
      ],
      "metadata": {
        "id": "PJlTVMyvfnS0"
      },
      "execution_count": null,
      "outputs": []
    },
    {
      "cell_type": "code",
      "source": [
        "from train_function import train"
      ],
      "metadata": {
        "id": "aHLpj03WfqKt"
      },
      "execution_count": null,
      "outputs": []
    },
    {
      "cell_type": "code",
      "source": [
        "train_acc, test_acc = train(model, criterion, optimizer, 0, epochs, train_loader, test_loader, DEVICE)"
      ],
      "metadata": {
        "colab": {
          "base_uri": "https://localhost:8080/"
        },
        "id": "M3cjExrmfqHL",
        "outputId": "95235cbb-b192-43ca-96fa-657da848c475"
      },
      "execution_count": null,
      "outputs": [
        {
          "output_type": "stream",
          "name": "stdout",
          "text": [
            "Epoch: 0, train accuracy: 0.6404166666666666, test accuracy: 0.695\n",
            "Epoch: 1, train accuracy: 0.6954166666666667, test accuracy: 0.7066666666666667\n",
            "Epoch: 2, train accuracy: 0.7554166666666666, test accuracy: 0.685\n",
            "Epoch: 3, train accuracy: 0.7604166666666666, test accuracy: 0.7983333333333333\n",
            "Epoch: 4, train accuracy: 0.81625, test accuracy: 0.8183333333333334\n",
            "Epoch: 5, train accuracy: 0.8075, test accuracy: 0.7933333333333333\n",
            "Epoch: 6, train accuracy: 0.8383333333333334, test accuracy: 0.8233333333333334\n",
            "Epoch: 7, train accuracy: 0.8591666666666666, test accuracy: 0.7633333333333333\n",
            "Epoch: 8, train accuracy: 0.8620833333333333, test accuracy: 0.83\n",
            "Epoch: 9, train accuracy: 0.8816666666666667, test accuracy: 0.815\n"
          ]
        }
      ]
    },
    {
      "cell_type": "code",
      "source": [
        "import numpy as np\n",
        "import matplotlib.pyplot as plt\n",
        "\n",
        "plt.plot(np.arange(len(train_acc)), train_acc, color = 'blue')\n",
        "plt.plot(np.arange(len(test_acc)), test_acc, color = 'red')\n",
        "plt.legend(['Train set', 'Test set'])\n",
        "plt.xlabel('Epoch')\n",
        "plt.ylabel('Accuracy value')\n",
        "plt.title('ResNet-18 training')\n",
        "plt.show()"
      ],
      "metadata": {
        "colab": {
          "base_uri": "https://localhost:8080/",
          "height": 295
        },
        "id": "aS-9-k3VfxuD",
        "outputId": "51cf0637-9a8d-43ac-bc40-896501b32237"
      },
      "execution_count": null,
      "outputs": [
        {
          "output_type": "display_data",
          "data": {
            "text/plain": [
              "<Figure size 432x288 with 1 Axes>"
            ],
            "image/png": "[encoded data removed]"
          },
          "metadata": {
            "needs_background": "light"
          }
        }
      ]
    },
    {
      "cell_type": "code",
      "source": [
        "torch.save(model.state_dict(), '/content/drive/MyDrive/projekt-WB/model_4.model')"
      ],
      "metadata": {
        "id": "d-aaXlJ-fxqg"
      },
      "execution_count": null,
      "outputs": []
    },
    {
      "cell_type": "code",
      "source": [
        "import pickle\n",
        "\n",
        "with open('/content/drive/MyDrive/projekt-WB/train_acc_hist_4', 'wb') as f:\n",
        "    pickle.dump(train_acc, f)\n",
        "\n",
        "with open('/content/drive/MyDrive/projekt-WB/test_acc_hist_4', 'wb') as f:\n",
        "    pickle.dump(test_acc, f)"
      ],
      "metadata": {
        "id": "bTexQ2wjfxgS"
      },
      "execution_count": null,
      "outputs": []
    },
    {
      "cell_type": "code",
      "source": [
        "single_test_loader = torch.utils.data.DataLoader(test_set, shuffle=False, num_workers=2, batch_size=1)\n",
        "\n",
        "model.eval()\n",
        "\n",
        "y_hat = []\n",
        "y_test = []\n",
        "\n",
        "for batch in single_test_loader:     \n",
        "    images = batch[0].to(DEVICE)\n",
        "    labels = batch[1].to(DEVICE)\n",
        "    preds = model(images)\n",
        "    _, predicted = preds.max(1)\n",
        "    y_hat += predicted.tolist()\n",
        "    y_test += labels.tolist()"
      ],
      "metadata": {
        "id": "92YoH8cBgLGn"
      },
      "execution_count": null,
      "outputs": []
    },
    {
      "cell_type": "code",
      "source": [
        "from sklearn.metrics import confusion_matrix\n",
        "from sklearn.metrics import ConfusionMatrixDisplay\n",
        "import matplotlib.pyplot as plt\n",
        "\n",
        "plt.figure(figsize=(8, 8))\n",
        "cm = confusion_matrix(y_test, y_hat)\n",
        "disp = ConfusionMatrixDisplay(confusion_matrix=cm, display_labels=dataset.classes)\n",
        "\n",
        "fig, ax = plt.subplots(figsize=(8, 8))\n",
        "disp.plot(ax=ax)\n",
        "plt.title('Confusion matrix on test set')\n",
        "plt.show()"
      ],
      "metadata": {
        "colab": {
          "base_uri": "https://localhost:8080/",
          "height": 483
        },
        "id": "gBKmrduSgLB8",
        "outputId": "24725a9e-63bd-44b5-a950-33a09341b1c8"
      },
      "execution_count": null,
      "outputs": [
        {
          "output_type": "display_data",
          "data": {
            "text/plain": [
              "<Figure size 576x576 with 0 Axes>"
            ]
          },
          "metadata": {}
        },
        {
          "output_type": "display_data",
          "data": {
            "text/plain": [
              "<Figure size 576x576 with 2 Axes>"
            ],
            "image/png": "[encoded data removed]"
          },
          "metadata": {
            "needs_background": "light"
          }
        }
      ]
    },
    {
      "cell_type": "code",
      "source": [
        ""
      ],
      "metadata": {
        "id": "oghuT1Buvjgb"
      },
      "execution_count": null,
      "outputs": []
    },
    {
      "cell_type": "markdown",
      "source": [
        "## Próba pierwszych wyjaśnień"
      ],
      "metadata": {
        "id": "K_WOK2fYag2A"
      }
    },
    {
      "cell_type": "code",
      "source": [
        "from google.colab import drive\n",
        "\n",
        "drive.mount('/content/drive')"
      ],
      "metadata": {
        "colab": {
          "base_uri": "https://localhost:8080/"
        },
        "id": "LlA1l-qo6XVI",
        "outputId": "87c56b3e-8875-4714-b9f1-2633f8d98590"
      },
      "execution_count": null,
      "outputs": [
        {
          "output_type": "stream",
          "name": "stdout",
          "text": [
            "Drive already mounted at /content/drive; to attempt to forcibly remount, call drive.mount(\"/content/drive\", force_remount=True).\n"
          ]
        }
      ]
    },
    {
      "cell_type": "code",
      "source": [
        "! cp /content/drive/MyDrive/projekt-WB/explain.py ./explain.py\n",
        "! cp /content/drive/MyDrive/projekt-WB/resnet18.py ./resnet18.py\n",
        "! cp /content/drive/MyDrive/projekt-WB/train_function.py ./train_function.py"
      ],
      "metadata": {
        "id": "qpVp1TjKx9p5"
      },
      "execution_count": null,
      "outputs": []
    },
    {
      "cell_type": "code",
      "source": [
        "! rm -R ./dataset\n",
        "! rm -R ./dat-kandinsky-patterns\n",
        "! git clone https://github.com/human-centered-ai-lab/dat-kandinsky-patterns\n",
        "! mv ./dat-kandinsky-patterns/challenge-nr-3/ ./\n",
        "! mv ./challenge-nr-3 ./dataset"
      ],
      "metadata": {
        "colab": {
          "base_uri": "https://localhost:8080/"
        },
        "id": "e_BG89B46ao_",
        "outputId": "433db371-d2b0-4e2b-a95c-5d5dc1fee68d"
      },
      "execution_count": null,
      "outputs": [
        {
          "output_type": "stream",
          "name": "stdout",
          "text": [
            "rm: cannot remove './dat-kandinsky-patterns': No such file or directory\n",
            "Cloning into 'dat-kandinsky-patterns'...\n",
            "remote: Enumerating objects: 22535, done.\u001b[K\n",
            "remote: Total 22535 (delta 0), reused 0 (delta 0), pack-reused 22535\n",
            "Receiving objects: 100% (22535/22535), 396.91 MiB | 24.71 MiB/s, done.\n",
            "Resolving deltas: 100% (357/357), done.\n",
            "Checking out files: 100% (11253/11253), done.\n"
          ]
        }
      ]
    },
    {
      "cell_type": "code",
      "source": [
        "import os\n",
        "\n",
        "folder = './dataset/counterfactual/'\n",
        "\n",
        "for count, filename in enumerate(os.listdir(folder)):\n",
        "    dst = filename + \"_counterfactual.png\"\n",
        "    src =f\"{folder}/{filename}\"\n",
        "    dst =f\"{folder}/{dst}\"\n",
        "    os.rename(src, dst)"
      ],
      "metadata": {
        "id": "WcC2O6_06bQ3"
      },
      "execution_count": null,
      "outputs": []
    },
    {
      "cell_type": "code",
      "source": [
        "! cp -r ./dataset/counterfactual/. ./dataset/false/\n",
        "! rm -R ./dat-kandinsky-patterns\n",
        "! rm -R ./dataset/counterfactual/"
      ],
      "metadata": {
        "id": "7jzV2slg6bF_"
      },
      "execution_count": null,
      "outputs": []
    },
    {
      "cell_type": "code",
      "source": [
        "import torch\n",
        "import torchvision\n",
        "import torch.nn as nn\n",
        "import torch.nn.functional as F\n",
        "from resnet18 import ResNet18\n",
        "\n",
        "\n",
        "transforms = torchvision.transforms.Compose([\n",
        "    # zmiana rozmiaru, ponieważ batch wielkości 10 zajmował zbyt dużo pamięci \n",
        "    # na GPU (oryginały mają 600x600)\n",
        "    torchvision.transforms.Resize((300, 300)),\n",
        "    torchvision.transforms.ToTensor()\n",
        "])\n",
        "\n",
        "dataset = torchvision.datasets.ImageFolder('./dataset', transform=transforms)\n",
        "\n",
        "#zaladowanie test\n",
        "test_set = torch.load('/content/drive/MyDrive/projekt-WB/test_set_4')\n",
        "\n",
        "model = ResNet18()\n",
        "model.linear = nn.Linear(41472, 2)\n",
        "model.load_state_dict(torch.load('/content/drive/MyDrive/projekt-WB/model_4.model'))\n",
        "model.eval()"
      ],
      "metadata": {
        "colab": {
          "base_uri": "https://localhost:8080/"
        },
        "id": "fFOaaun8xFNx",
        "outputId": "e1b805c4-a96b-4a9e-8aa7-b00ecf3805cb"
      },
      "execution_count": null,
      "outputs": [
        {
          "output_type": "execute_result",
          "data": {
            "text/plain": [
              "ResNet(\n",
              "  (conv1): Conv2d(3, 64, kernel_size=(3, 3), stride=(1, 1), padding=(1, 1), bias=False)\n",
              "  (bn1): BatchNorm2d(64, eps=1e-05, momentum=0.1, affine=True, track_running_stats=True)\n",
              "  (layer1): Sequential(\n",
              "    (0): BasicBlock(\n",
              "      (conv1): Conv2d(64, 64, kernel_size=(3, 3), stride=(1, 1), padding=(1, 1), bias=False)\n",
              "      (bn1): BatchNorm2d(64, eps=1e-05, momentum=0.1, affine=True, track_running_stats=True)\n",
              "      (conv2): Conv2d(64, 64, kernel_size=(3, 3), stride=(1, 1), padding=(1, 1), bias=False)\n",
              "      (bn2): BatchNorm2d(64, eps=1e-05, momentum=0.1, affine=True, track_running_stats=True)\n",
              "      (shortcut): Sequential()\n",
              "    )\n",
              "    (1): BasicBlock(\n",
              "      (conv1): Conv2d(64, 64, kernel_size=(3, 3), stride=(1, 1), padding=(1, 1), bias=False)\n",
              "      (bn1): BatchNorm2d(64, eps=1e-05, momentum=0.1, affine=True, track_running_stats=True)\n",
              "      (conv2): Conv2d(64, 64, kernel_size=(3, 3), stride=(1, 1), padding=(1, 1), bias=False)\n",
              "      (bn2): BatchNorm2d(64, eps=1e-05, momentum=0.1, affine=True, track_running_stats=True)\n",
              "      (shortcut): Sequential()\n",
              "    )\n",
              "  )\n",
              "  (layer2): Sequential(\n",
              "    (0): BasicBlock(\n",
              "      (conv1): Conv2d(64, 128, kernel_size=(3, 3), stride=(2, 2), padding=(1, 1), bias=False)\n",
              "      (bn1): BatchNorm2d(128, eps=1e-05, momentum=0.1, affine=True, track_running_stats=True)\n",
              "      (conv2): Conv2d(128, 128, kernel_size=(3, 3), stride=(1, 1), padding=(1, 1), bias=False)\n",
              "      (bn2): BatchNorm2d(128, eps=1e-05, momentum=0.1, affine=True, track_running_stats=True)\n",
              "      (shortcut): Sequential(\n",
              "        (0): Conv2d(64, 128, kernel_size=(1, 1), stride=(2, 2), bias=False)\n",
              "        (1): BatchNorm2d(128, eps=1e-05, momentum=0.1, affine=True, track_running_stats=True)\n",
              "      )\n",
              "    )\n",
              "    (1): BasicBlock(\n",
              "      (conv1): Conv2d(128, 128, kernel_size=(3, 3), stride=(1, 1), padding=(1, 1), bias=False)\n",
              "      (bn1): BatchNorm2d(128, eps=1e-05, momentum=0.1, affine=True, track_running_stats=True)\n",
              "      (conv2): Conv2d(128, 128, kernel_size=(3, 3), stride=(1, 1), padding=(1, 1), bias=False)\n",
              "      (bn2): BatchNorm2d(128, eps=1e-05, momentum=0.1, affine=True, track_running_stats=True)\n",
              "      (shortcut): Sequential()\n",
              "    )\n",
              "  )\n",
              "  (layer3): Sequential(\n",
              "    (0): BasicBlock(\n",
              "      (conv1): Conv2d(128, 256, kernel_size=(3, 3), stride=(2, 2), padding=(1, 1), bias=False)\n",
              "      (bn1): BatchNorm2d(256, eps=1e-05, momentum=0.1, affine=True, track_running_stats=True)\n",
              "      (conv2): Conv2d(256, 256, kernel_size=(3, 3), stride=(1, 1), padding=(1, 1), bias=False)\n",
              "      (bn2): BatchNorm2d(256, eps=1e-05, momentum=0.1, affine=True, track_running_stats=True)\n",
              "      (shortcut): Sequential(\n",
              "        (0): Conv2d(128, 256, kernel_size=(1, 1), stride=(2, 2), bias=False)\n",
              "        (1): BatchNorm2d(256, eps=1e-05, momentum=0.1, affine=True, track_running_stats=True)\n",
              "      )\n",
              "    )\n",
              "    (1): BasicBlock(\n",
              "      (conv1): Conv2d(256, 256, kernel_size=(3, 3), stride=(1, 1), padding=(1, 1), bias=False)\n",
              "      (bn1): BatchNorm2d(256, eps=1e-05, momentum=0.1, affine=True, track_running_stats=True)\n",
              "      (conv2): Conv2d(256, 256, kernel_size=(3, 3), stride=(1, 1), padding=(1, 1), bias=False)\n",
              "      (bn2): BatchNorm2d(256, eps=1e-05, momentum=0.1, affine=True, track_running_stats=True)\n",
              "      (shortcut): Sequential()\n",
              "    )\n",
              "  )\n",
              "  (layer4): Sequential(\n",
              "    (0): BasicBlock(\n",
              "      (conv1): Conv2d(256, 512, kernel_size=(3, 3), stride=(2, 2), padding=(1, 1), bias=False)\n",
              "      (bn1): BatchNorm2d(512, eps=1e-05, momentum=0.1, affine=True, track_running_stats=True)\n",
              "      (conv2): Conv2d(512, 512, kernel_size=(3, 3), stride=(1, 1), padding=(1, 1), bias=False)\n",
              "      (bn2): BatchNorm2d(512, eps=1e-05, momentum=0.1, affine=True, track_running_stats=True)\n",
              "      (shortcut): Sequential(\n",
              "        (0): Conv2d(256, 512, kernel_size=(1, 1), stride=(2, 2), bias=False)\n",
              "        (1): BatchNorm2d(512, eps=1e-05, momentum=0.1, affine=True, track_running_stats=True)\n",
              "      )\n",
              "    )\n",
              "    (1): BasicBlock(\n",
              "      (conv1): Conv2d(512, 512, kernel_size=(3, 3), stride=(1, 1), padding=(1, 1), bias=False)\n",
              "      (bn1): BatchNorm2d(512, eps=1e-05, momentum=0.1, affine=True, track_running_stats=True)\n",
              "      (conv2): Conv2d(512, 512, kernel_size=(3, 3), stride=(1, 1), padding=(1, 1), bias=False)\n",
              "      (bn2): BatchNorm2d(512, eps=1e-05, momentum=0.1, affine=True, track_running_stats=True)\n",
              "      (shortcut): Sequential()\n",
              "    )\n",
              "  )\n",
              "  (linear): Linear(in_features=41472, out_features=2, bias=True)\n",
              ")"
            ]
          },
          "metadata": {},
          "execution_count": 6
        }
      ]
    },
    {
      "cell_type": "code",
      "source": [
        "! pip install captum"
      ],
      "metadata": {
        "colab": {
          "base_uri": "https://localhost:8080/"
        },
        "id": "XUmeM0dRgK4r",
        "outputId": "903c6402-31df-42a9-f8a4-482f85d2804b"
      },
      "execution_count": null,
      "outputs": [
        {
          "output_type": "stream",
          "name": "stdout",
          "text": [
            "Requirement already satisfied: captum in /usr/local/lib/python3.7/dist-packages (0.5.0)\n",
            "Requirement already satisfied: torch>=1.6 in /usr/local/lib/python3.7/dist-packages (from captum) (1.10.0+cu111)\n",
            "Requirement already satisfied: matplotlib in /usr/local/lib/python3.7/dist-packages (from captum) (3.2.2)\n",
            "Requirement already satisfied: numpy in /usr/local/lib/python3.7/dist-packages (from captum) (1.21.6)\n",
            "Requirement already satisfied: typing-extensions in /usr/local/lib/python3.7/dist-packages (from torch>=1.6->captum) (4.1.1)\n",
            "Requirement already satisfied: pyparsing!=2.0.4,!=2.1.2,!=2.1.6,>=2.0.1 in /usr/local/lib/python3.7/dist-packages (from matplotlib->captum) (3.0.8)\n",
            "Requirement already satisfied: kiwisolver>=1.0.1 in /usr/local/lib/python3.7/dist-packages (from matplotlib->captum) (1.4.2)\n",
            "Requirement already satisfied: python-dateutil>=2.1 in /usr/local/lib/python3.7/dist-packages (from matplotlib->captum) (2.8.2)\n",
            "Requirement already satisfied: cycler>=0.10 in /usr/local/lib/python3.7/dist-packages (from matplotlib->captum) (0.11.0)\n",
            "Requirement already satisfied: six>=1.5 in /usr/local/lib/python3.7/dist-packages (from python-dateutil>=2.1->matplotlib->captum) (1.15.0)\n"
          ]
        }
      ]
    },
    {
      "cell_type": "code",
      "source": [
        "single_test_loader = torch.utils.data.DataLoader(test_set, shuffle=False, num_workers=2, batch_size=1)"
      ],
      "metadata": {
        "id": "qqAqWw3_3nN8"
      },
      "execution_count": null,
      "outputs": []
    },
    {
      "cell_type": "code",
      "source": [
        "idx = 0\n",
        "\n",
        "i = 0\n",
        "img = None\n",
        "for batch in single_test_loader:  \n",
        "      if i == idx:\n",
        "          img = batch[0][0]\n",
        "          label = batch[1]\n",
        "          break\n",
        "      i = i + 1\n",
        "\n",
        "_, predicted = model(img.unsqueeze(0)).max(1)\n",
        "predicted = predicted.item()"
      ],
      "metadata": {
        "id": "9bh_C6hBvw-0"
      },
      "execution_count": null,
      "outputs": []
    },
    {
      "cell_type": "code",
      "source": [
        "print(f'Classification explanation, predicted class: {dataset.classes[predicted]}, true class: {dataset.classes[label.item()]}')"
      ],
      "metadata": {
        "colab": {
          "base_uri": "https://localhost:8080/"
        },
        "id": "J7GTjIKW3kzK",
        "outputId": "1e278d3f-77f0-410d-c161-617d911b865b"
      },
      "execution_count": null,
      "outputs": [
        {
          "output_type": "stream",
          "name": "stdout",
          "text": [
            "Classification explanation, predicted class: true, true class: true\n"
          ]
        }
      ]
    },
    {
      "cell_type": "code",
      "source": [
        "import matplotlib.pyplot as plt\n",
        "\n",
        "plt.axis(\"off\")\n",
        "plt.title('Original image')\n",
        "plt.imshow(img.permute(1, 2, 0))\n",
        "plt.show()"
      ],
      "metadata": {
        "colab": {
          "base_uri": "https://localhost:8080/",
          "height": 264
        },
        "id": "zbqBwoYl307d",
        "outputId": "2b9be587-2d7b-4431-e554-f3348e957592"
      },
      "execution_count": null,
      "outputs": [
        {
          "output_type": "display_data",
          "data": {
            "text/plain": [
              "<Figure size 432x288 with 1 Axes>"
            ],
            "image/png": "[encoded data removed]"
          },
          "metadata": {
            "needs_background": "light"
          }
        }
      ]
    },
    {
      "cell_type": "code",
      "source": [
        "from captum.attr import Lime, IntegratedGradients, KernelShap\n",
        "from skimage import segmentation"
      ],
      "metadata": {
        "id": "IUzsE5SX38FL"
      },
      "execution_count": null,
      "outputs": []
    },
    {
      "cell_type": "code",
      "source": [
        "from explain import lime_explain"
      ],
      "metadata": {
        "id": "dmnQAUau4LKx"
      },
      "execution_count": null,
      "outputs": []
    },
    {
      "cell_type": "code",
      "source": [
        "lime_explain(model, img, label.item())\n",
        "plt.title(\"Lime explanation\")\n",
        "plt.show()"
      ],
      "metadata": {
        "colab": {
          "base_uri": "https://localhost:8080/",
          "height": 264
        },
        "id": "FOetrbxi4Psy",
        "outputId": "f692c00b-2bd9-421d-d11a-d01dd4375c3d"
      },
      "execution_count": null,
      "outputs": [
        {
          "output_type": "display_data",
          "data": {
            "text/plain": [
              "<Figure size 432x288 with 2 Axes>"
            ],
            "image/png": "[encoded data removed]"
          },
          "metadata": {
            "needs_background": "light"
          }
        }
      ]
    },
    {
      "cell_type": "code",
      "source": [
        "from explain import SHAP_explain"
      ],
      "metadata": {
        "id": "5K1bL4f74XkI"
      },
      "execution_count": null,
      "outputs": []
    },
    {
      "cell_type": "code",
      "source": [
        "import matplotlib.pyplot as plt\n",
        "\n",
        "SHAP_explain(model, img, label)\n",
        "plt.title(\"SHAP explanation\")\n",
        "plt.show()"
      ],
      "metadata": {
        "colab": {
          "base_uri": "https://localhost:8080/",
          "height": 264
        },
        "id": "N8qAMgps4mqU",
        "outputId": "643c84ba-d9d0-4e09-84c4-cceb034f8695"
      },
      "execution_count": null,
      "outputs": [
        {
          "output_type": "display_data",
          "data": {
            "text/plain": [
              "<Figure size 432x288 with 2 Axes>"
            ],
            "image/png": "[encoded data removed]"
          },
          "metadata": {
            "needs_background": "light"
          }
        }
      ]
    },
    {
      "cell_type": "code",
      "source": [
        ""
      ],
      "metadata": {
        "id": "kZc_b1YO4z9c"
      },
      "execution_count": null,
      "outputs": []
    },
    {
      "cell_type": "code",
      "source": [
        ""
      ],
      "metadata": {
        "id": "OjS59_aV5Kxy"
      },
      "execution_count": null,
      "outputs": []
    },
    {
      "cell_type": "code",
      "source": [
        ""
      ],
      "metadata": {
        "id": "4hYoYiIY5KkL"
      },
      "execution_count": null,
      "outputs": []
    },
    {
      "cell_type": "markdown",
      "source": [
        "# Przeczytane artykuły:\n",
        "\n",
        "## Embracing Causality in Formal Reasoning\n",
        "\n",
        "https://www.aaai.org/Papers/AAAI/1987/AAAI87-066.pdf\n",
        "\n",
        "Patryk Tomaszewski\n",
        "\n",
        "W swoim artykule \"Embracing Causality in Formal Reasoning\", Judea Pearl podkreśla różnicę pomiędzy wnioskowaniem na bazie oczekiwań (jeżeli widzimy ogień, możemy spodziewać się że pojawi się też dym), a wnioskowaniem na bazie przyczyn (jeżeli widzimy dym, możemy się spodziewać że jego przyczyną jest ogień). Następnie przedstawia wyjaśnienie, czemu system logiczny nierozróżniający tych dwóch rodzajów wnioskowania nigdy nie będzie w pełni adekwatny, oraz proponuje rozwiązanie, zwane \"C-E System\", które jest w stanie wykorzystać te rozróżnienie. Znajomość zależności prezentowanych przez artykuł może okazać się użyteczna podczas próby wnioskowania matematycznego, na przykład wyjaśnienia odpowiedzi modelu uczenia maszynowego. W artykule autor używa prostych i intuicyjnych przykładów, co znacząco ułatwia zrozumienie rozważanego problemu, jednak nawet pomimo tego zabiegu artykuł należy przeczytać wielokrotnie aby go w pełni zrozumieć.\n",
        "\n",
        "## Learning like a Child: Fast Novel Visual Concept Learning from Sentence Descriptions of Images \n",
        "\n",
        "https://arxiv.org/pdf/1504.06692.pdf\n",
        "\n",
        "Adrian Stańdo\n",
        "\n",
        "Artykuł \"Learning like a Child: Fast Novel Visual Concept Learning from Sentence Descriptions of Images\" dotyczy tzw. concept learning. Pojęcie to jest dobrze opisane przez Toma Michella jako \"problem przeszukiwania predefiniowanej przestrzeni potencjalnych hipotez pod kątem hipotezy najlepiej pasującej do przykładów uczących\". Dokładniej, w artykule została pokazana technika uczenia sieci na podstawie opisu obrazka, a predykcja sieci to również opis. W ten sposób, model musi odnaleźć nie tylko elementy na rysunku, ale także słowa najlepiej go opisujące. W artykule opisano technikę dotrenowywania sieci, wzorując się na sposobie, w jaki dzieci uczą się znaczenia nowych słów. W efekcie, sieć osiągała nawet lepsze wyniki niż sieć, która została wytrenowana od nowa. Jednakże, takie wyniki były osiągane tylko dla nowych zdjęć, które w jakiś sposób były podobne do zdjęć oryginalnych, np. zawierające psa i kota. Kiedy dodawano zdjęcia przedstawiające quidditch, t-rexa lub shamisen (elementy nie pojawiały się w żaden sposób w oryginalnym zbiorze uczącym), sieć osiągała gorsze wyniki.\n",
        "\n",
        "Autorzy artykułu \"Kandinsky Patterns\" jako jedno z wyzwań stawiają stworzenie słownego opisu wzorca. Ponadto, cytują oni opisany przeze mne artykuł w kotekście przykładu, w jaki sposób można opisać zdjęcia.\n",
        "\n",
        "\n",
        "## Measuring abstract reasoning in neural networks\n",
        "\n",
        "http://proceedings.mlr.press/v80/santoro18a/santoro18a.pdf\n",
        "\n",
        "Krzysztof Wodnicki\n",
        "\n",
        "Wybrany przezemnie arykuł zajmuje się zagadnieniem oceny zdolności sieci neuronowych do rozpoznawania abstrakcyjnych wzroców. Autorzy zaproponowali wykorzystanie popularnych wizualnych testów na inteligencję do porównania różnych modeli, przygotowali odpowiedni zbiór danych i wyszkolili na nim sieci o różnych architekturach. Oprócz popularnych architektur takich jak podstawowy CNN czy ResNet, zaproponowali też własne architektury - WReN (Wild Relation Network) i Wild-ResNet. Do rozwiązania zaproponowanego problemu najskuteczniejszy okazał się model WReN, prowdopodobnie ponieważ jest on stworzony tak aby skutecznie rozpoznawać relacje między obiektami. W trakcie swoich badań autorzy tworzyli pewne zasadnicze różnice pomiędzy zbiorami testowym i treningowym, co pozwoliło im sprawdzić które z tych różnic model jest w stanie obejść generalizując rozpoznaną regułę."
      ],
      "metadata": {
        "id": "8Vbgr0bA5LWi"
      }
    },
    {
      "cell_type": "code",
      "source": [
        ""
      ],
      "metadata": {
        "id": "Bb3bGcwu5ZPo"
      },
      "execution_count": null,
      "outputs": []
    }
  ]
}