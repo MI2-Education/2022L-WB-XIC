{
  "nbformat": 4,
  "nbformat_minor": 0,
  "metadata": {
    "colab": {
      "name": "WB_testyipynb",
      "provenance": []
    },
    "kernelspec": {
      "name": "python3",
      "display_name": "Python 3"
    },
    "language_info": {
      "name": "python"
    },
    "accelerator": "GPU",
    "widgets": {
      "application/vnd.jupyter.widget-state+json": {
        "3c40b36561ec420c8980c743d29a7994": {
          "model_module": "@jupyter-widgets/controls",
          "model_name": "HBoxModel",
          "model_module_version": "1.5.0",
          "state": {
            "_dom_classes": [],
            "_model_module": "@jupyter-widgets/controls",
            "_model_module_version": "1.5.0",
            "_model_name": "HBoxModel",
            "_view_count": null,
            "_view_module": "@jupyter-widgets/controls",
            "_view_module_version": "1.5.0",
            "_view_name": "HBoxView",
            "box_style": "",
            "children": [
              "IPY_MODEL_4613c347b3464bde8734fd21d455ab9f",
              "IPY_MODEL_9e5c916f0c424cb0959890abb290816e",
              "IPY_MODEL_2a99dc65dfbf486bbc2ecfa5cf0ca8d5"
            ],
            "layout": "IPY_MODEL_1c16489305bd469ba2bd67a1b26740a9"
          }
        },
        "4613c347b3464bde8734fd21d455ab9f": {
          "model_module": "@jupyter-widgets/controls",
          "model_name": "HTMLModel",
          "model_module_version": "1.5.0",
          "state": {
            "_dom_classes": [],
            "_model_module": "@jupyter-widgets/controls",
            "_model_module_version": "1.5.0",
            "_model_name": "HTMLModel",
            "_view_count": null,
            "_view_module": "@jupyter-widgets/controls",
            "_view_module_version": "1.5.0",
            "_view_name": "HTMLView",
            "description": "",
            "description_tooltip": null,
            "layout": "IPY_MODEL_1f04632427cf4650839d3cfc866af7ce",
            "placeholder": "​",
            "style": "IPY_MODEL_943c5e86b3fb4236ba935e5d977b9de8",
            "value": "100%"
          }
        },
        "9e5c916f0c424cb0959890abb290816e": {
          "model_module": "@jupyter-widgets/controls",
          "model_name": "FloatProgressModel",
          "model_module_version": "1.5.0",
          "state": {
            "_dom_classes": [],
            "_model_module": "@jupyter-widgets/controls",
            "_model_module_version": "1.5.0",
            "_model_name": "FloatProgressModel",
            "_view_count": null,
            "_view_module": "@jupyter-widgets/controls",
            "_view_module_version": "1.5.0",
            "_view_name": "ProgressView",
            "bar_style": "success",
            "description": "",
            "description_tooltip": null,
            "layout": "IPY_MODEL_9c2d1c4a47bb42fab8e986db1650fe95",
            "max": 46830571,
            "min": 0,
            "orientation": "horizontal",
            "style": "IPY_MODEL_bd18897b07c646dbaddbd15df1886872",
            "value": 46830571
          }
        },
        "2a99dc65dfbf486bbc2ecfa5cf0ca8d5": {
          "model_module": "@jupyter-widgets/controls",
          "model_name": "HTMLModel",
          "model_module_version": "1.5.0",
          "state": {
            "_dom_classes": [],
            "_model_module": "@jupyter-widgets/controls",
            "_model_module_version": "1.5.0",
            "_model_name": "HTMLModel",
            "_view_count": null,
            "_view_module": "@jupyter-widgets/controls",
            "_view_module_version": "1.5.0",
            "_view_name": "HTMLView",
            "description": "",
            "description_tooltip": null,
            "layout": "IPY_MODEL_6c38cdcc55e94467888bffc46198f293",
            "placeholder": "​",
            "style": "IPY_MODEL_50dc7c057b3344ad9b28c85b88dbe2f5",
            "value": " 44.7M/44.7M [00:00&lt;00:00, 156MB/s]"
          }
        },
        "1c16489305bd469ba2bd67a1b26740a9": {
          "model_module": "@jupyter-widgets/base",
          "model_name": "LayoutModel",
          "model_module_version": "1.2.0",
          "state": {
            "_model_module": "@jupyter-widgets/base",
            "_model_module_version": "1.2.0",
            "_model_name": "LayoutModel",
            "_view_count": null,
            "_view_module": "@jupyter-widgets/base",
            "_view_module_version": "1.2.0",
            "_view_name": "LayoutView",
            "align_content": null,
            "align_items": null,
            "align_self": null,
            "border": null,
            "bottom": null,
            "display": null,
            "flex": null,
            "flex_flow": null,
            "grid_area": null,
            "grid_auto_columns": null,
            "grid_auto_flow": null,
            "grid_auto_rows": null,
            "grid_column": null,
            "grid_gap": null,
            "grid_row": null,
            "grid_template_areas": null,
            "grid_template_columns": null,
            "grid_template_rows": null,
            "height": null,
            "justify_content": null,
            "justify_items": null,
            "left": null,
            "margin": null,
            "max_height": null,
            "max_width": null,
            "min_height": null,
            "min_width": null,
            "object_fit": null,
            "object_position": null,
            "order": null,
            "overflow": null,
            "overflow_x": null,
            "overflow_y": null,
            "padding": null,
            "right": null,
            "top": null,
            "visibility": null,
            "width": null
          }
        },
        "1f04632427cf4650839d3cfc866af7ce": {
          "model_module": "@jupyter-widgets/base",
          "model_name": "LayoutModel",
          "model_module_version": "1.2.0",
          "state": {
            "_model_module": "@jupyter-widgets/base",
            "_model_module_version": "1.2.0",
            "_model_name": "LayoutModel",
            "_view_count": null,
            "_view_module": "@jupyter-widgets/base",
            "_view_module_version": "1.2.0",
            "_view_name": "LayoutView",
            "align_content": null,
            "align_items": null,
            "align_self": null,
            "border": null,
            "bottom": null,
            "display": null,
            "flex": null,
            "flex_flow": null,
            "grid_area": null,
            "grid_auto_columns": null,
            "grid_auto_flow": null,
            "grid_auto_rows": null,
            "grid_column": null,
            "grid_gap": null,
            "grid_row": null,
            "grid_template_areas": null,
            "grid_template_columns": null,
            "grid_template_rows": null,
            "height": null,
            "justify_content": null,
            "justify_items": null,
            "left": null,
            "margin": null,
            "max_height": null,
            "max_width": null,
            "min_height": null,
            "min_width": null,
            "object_fit": null,
            "object_position": null,
            "order": null,
            "overflow": null,
            "overflow_x": null,
            "overflow_y": null,
            "padding": null,
            "right": null,
            "top": null,
            "visibility": null,
            "width": null
          }
        },
        "943c5e86b3fb4236ba935e5d977b9de8": {
          "model_module": "@jupyter-widgets/controls",
          "model_name": "DescriptionStyleModel",
          "model_module_version": "1.5.0",
          "state": {
            "_model_module": "@jupyter-widgets/controls",
            "_model_module_version": "1.5.0",
            "_model_name": "DescriptionStyleModel",
            "_view_count": null,
            "_view_module": "@jupyter-widgets/base",
            "_view_module_version": "1.2.0",
            "_view_name": "StyleView",
            "description_width": ""
          }
        },
        "9c2d1c4a47bb42fab8e986db1650fe95": {
          "model_module": "@jupyter-widgets/base",
          "model_name": "LayoutModel",
          "model_module_version": "1.2.0",
          "state": {
            "_model_module": "@jupyter-widgets/base",
            "_model_module_version": "1.2.0",
            "_model_name": "LayoutModel",
            "_view_count": null,
            "_view_module": "@jupyter-widgets/base",
            "_view_module_version": "1.2.0",
            "_view_name": "LayoutView",
            "align_content": null,
            "align_items": null,
            "align_self": null,
            "border": null,
            "bottom": null,
            "display": null,
            "flex": null,
            "flex_flow": null,
            "grid_area": null,
            "grid_auto_columns": null,
            "grid_auto_flow": null,
            "grid_auto_rows": null,
            "grid_column": null,
            "grid_gap": null,
            "grid_row": null,
            "grid_template_areas": null,
            "grid_template_columns": null,
            "grid_template_rows": null,
            "height": null,
            "justify_content": null,
            "justify_items": null,
            "left": null,
            "margin": null,
            "max_height": null,
            "max_width": null,
            "min_height": null,
            "min_width": null,
            "object_fit": null,
            "object_position": null,
            "order": null,
            "overflow": null,
            "overflow_x": null,
            "overflow_y": null,
            "padding": null,
            "right": null,
            "top": null,
            "visibility": null,
            "width": null
          }
        },
        "bd18897b07c646dbaddbd15df1886872": {
          "model_module": "@jupyter-widgets/controls",
          "model_name": "ProgressStyleModel",
          "model_module_version": "1.5.0",
          "state": {
            "_model_module": "@jupyter-widgets/controls",
            "_model_module_version": "1.5.0",
            "_model_name": "ProgressStyleModel",
            "_view_count": null,
            "_view_module": "@jupyter-widgets/base",
            "_view_module_version": "1.2.0",
            "_view_name": "StyleView",
            "bar_color": null,
            "description_width": ""
          }
        },
        "6c38cdcc55e94467888bffc46198f293": {
          "model_module": "@jupyter-widgets/base",
          "model_name": "LayoutModel",
          "model_module_version": "1.2.0",
          "state": {
            "_model_module": "@jupyter-widgets/base",
            "_model_module_version": "1.2.0",
            "_model_name": "LayoutModel",
            "_view_count": null,
            "_view_module": "@jupyter-widgets/base",
            "_view_module_version": "1.2.0",
            "_view_name": "LayoutView",
            "align_content": null,
            "align_items": null,
            "align_self": null,
            "border": null,
            "bottom": null,
            "display": null,
            "flex": null,
            "flex_flow": null,
            "grid_area": null,
            "grid_auto_columns": null,
            "grid_auto_flow": null,
            "grid_auto_rows": null,
            "grid_column": null,
            "grid_gap": null,
            "grid_row": null,
            "grid_template_areas": null,
            "grid_template_columns": null,
            "grid_template_rows": null,
            "height": null,
            "justify_content": null,
            "justify_items": null,
            "left": null,
            "margin": null,
            "max_height": null,
            "max_width": null,
            "min_height": null,
            "min_width": null,
            "object_fit": null,
            "object_position": null,
            "order": null,
            "overflow": null,
            "overflow_x": null,
            "overflow_y": null,
            "padding": null,
            "right": null,
            "top": null,
            "visibility": null,
            "width": null
          }
        },
        "50dc7c057b3344ad9b28c85b88dbe2f5": {
          "model_module": "@jupyter-widgets/controls",
          "model_name": "DescriptionStyleModel",
          "model_module_version": "1.5.0",
          "state": {
            "_model_module": "@jupyter-widgets/controls",
            "_model_module_version": "1.5.0",
            "_model_name": "DescriptionStyleModel",
            "_view_count": null,
            "_view_module": "@jupyter-widgets/base",
            "_view_module_version": "1.2.0",
            "_view_name": "StyleView",
            "description_width": ""
          }
        }
      }
    }
  },
  "cells": [
    {
      "cell_type": "markdown",
      "source": [
        "## **Recenzje artykułów**\n",
        "\n",
        "**\"Can We Do Better Than Random Start? The Power of Data Outsourcing\n",
        "\"** - *YI CHEN, JING DONG, XIN T. TONG*\n",
        "\n",
        "https://arxiv.org/pdf/2205.08098.pdf\n",
        "\n",
        "W artykule zostały przedstawione 3 algorytmy służące do znajdowania punktów startowych do rozpoczęcia algorytmów uczenia. Są nimi: Sampling-based Initial Point Selection (SIPS), Optimization-based Initial Point Selection (OIPS) oraz OIPS-SAO. Losowe wybór punktów niesie za sobą ryzyka, np. utknięcie w lokalnym minimum i nie znalezienie globalnego. Opracowane na podstawie statystycznych twierdzeń algorytmy sprawdzają się dużo lepiej. Autorzy przedstawiają teoretyczne uzasadnienie, jak i przykładowy test z wizualizacją, które potwierdzają ich skuteczność. Jednakże, zostały one potwierdzone przy spełnieniu ustalonych przez nich założeń, podczas gdy w rzeczywistości sytuacje nie są tak klarowne. Zaprezentowane algorytmy mają działać na małej próbce danych by koszt ich użycia był niewielki. Problem został połączony z data outsourcingiem, w którym ilość danych otrzymanych do pracy jest odgórnie narzucona.\n",
        "\n",
        "\n",
        "**\"It takes a lot of energy for machines to learn – here’s why AI is so power-hungry\"** - *Kate Saenko*\n",
        "\n",
        "https://theconversation.com/it-takes-a-lot-of-energy-for-machines-to-learn-heres-why-ai-is-so-power-hungry-151825\n",
        "\n",
        "Artykuł porusza problem zużycia energi przy trenowaniu modeli bazujących na samouczeniu. Autorka stawia tezę dyskredytującą aktualne techniki trenowania modelu, uważając je za nieefektywne. Porównując je z działaniem mózgu człowieka, przytacza przykład modelu BERT analizującego język, w którym maszyna potrzebowała kilka tysięcy razy większej ilości danych oraz przejścia po nich kilkadziesiąt razy by otrzymać zadawalające rezultaty. Wyliczono, że model ten, przetwarzając 3.3 miliarda słów z książek i artykułów z Wikipedii, miał ślad węglowy porównywalny z przelotem Boeinga 747 z Nowego Yorku do San Francisco i z powrotem.\n",
        "\n",
        " Autorka przedstawia również kolejną szkodliwą dla środowiska technikę rozbudowywania modeli do ogromnych rozmiarów, dającą dodatkowy procent skuteczności, mimo tego, że większość neuronów jest w tym modelu nieaktywnych.\n",
        "\n",
        "W przyszłości jest szansa na zmiejszynie zużycia energetycznego dzięki opracowaniu lepszych algorytmów i bardziej optymalnych metod uczenia.\n",
        "\n",
        "**Interpretability Beyond Feature Attribution: Quantitative Testing with Concept Activation Vectors (TCAV)**\n",
        "\n",
        "*Been Kim, Martin Wattenberg, Justin Gilmer, Carrie Cai, James Wexler, Fernanda Viegas, Rory Sayres*\n",
        "\n",
        "https://arxiv.org/abs/1711.11279\n",
        "\n",
        "W artykule wprowadzono pomysł wyjaśnień opartych na konceptach. Potrzebne do tego są dwa zbiory, jeden zawierający przykłady konceptu, drugi który nie zawiera przykładów konceptu. Aby uzyskać Concept Activation Vector (CAV), z modelu wyłuskujemy wartości aktywacji z dowolnej warstwy. Wyznaczamy liniową granicę decyzyjną pomiędzy zbiorami w takiej reprezentacji. CAV to wektor prostopadły do tej granicy.\n",
        "\n",
        "Zalety:\n",
        "+ w czasie projektowania i treningu sieci nie musimy wyznaczać konceptów. Definiuje je użytkownik końcowy tworząc dwa zbiory przykładów\n",
        "+ wg autorów wyjaśnienia uzyskane w ten sposób są bardziej zrozumiałe dla ludzi\n",
        "\n",
        "Wady:\n",
        "+ skuteczność metody zależy od wyboru zbiorów przykładów\n",
        "+ podatność na manipulacje poprzez komponowanie odpowiednich zbiorów przykładów"
      ],
      "metadata": {
        "id": "6d2tBADL_FxO"
      }
    },
    {
      "cell_type": "markdown",
      "source": [
        "## The data randomization test"
      ],
      "metadata": {
        "id": "n9O9EmsA_3jS"
      }
    },
    {
      "cell_type": "markdown",
      "source": [
        "### 1.Wymieszanie etykiet"
      ],
      "metadata": {
        "id": "6DCP6bJlJwhK"
      }
    },
    {
      "cell_type": "code",
      "execution_count": null,
      "metadata": {
        "colab": {
          "base_uri": "https://localhost:8080/"
        },
        "id": "1RaiTXeK-_Te",
        "outputId": "16b7da67-40c0-4896-bfc8-1f154f9dbdba"
      },
      "outputs": [
        {
          "output_type": "stream",
          "name": "stdout",
          "text": [
            "Looking in indexes: https://pypi.org/simple, https://us-python.pkg.dev/colab-wheels/public/simple/\n",
            "Collecting torchinfo\n",
            "  Downloading torchinfo-1.6.6-py3-none-any.whl (21 kB)\n",
            "Installing collected packages: torchinfo\n",
            "Successfully installed torchinfo-1.6.6\n"
          ]
        }
      ],
      "source": [
        "!pip install torchinfo"
      ]
    },
    {
      "cell_type": "code",
      "source": [
        "#!jar xvf challenge-nr-1-test.zip"
      ],
      "metadata": {
        "id": "-VXWhtmwa5sA"
      },
      "execution_count": null,
      "outputs": []
    },
    {
      "cell_type": "code",
      "source": [
        "import requests \n",
        "import itertools\n",
        "import pandas as pd\n",
        "import numpy as np\n",
        "import matplotlib.pyplot as plt\n",
        "\n",
        "import torch\n",
        "import torch.nn as nn\n",
        "import torch.nn.functional as F\n",
        "import torch.optim as optim\n",
        "import torchvision\n",
        "import torchvision.transforms as transforms\n",
        "\n",
        "from torchinfo import summary"
      ],
      "metadata": {
        "id": "uQgEx5L-Ajg8"
      },
      "execution_count": null,
      "outputs": []
    },
    {
      "cell_type": "code",
      "source": [
        "transform = transforms.Compose([\n",
        "    transforms.ToTensor(),\n",
        "    transforms.Normalize(mean=[0.485, 0.456, 0.406],\n",
        "                         std=[0.229, 0.224, 0.225]),\n",
        "])\n",
        "\n",
        "dataset = torchvision.datasets.ImageFolder('../content/challenge-nr-1-test/', transform=transform)"
      ],
      "metadata": {
        "id": "vEavB_EtAstQ"
      },
      "execution_count": null,
      "outputs": []
    },
    {
      "cell_type": "markdown",
      "source": [
        "### 2.Budowa modelu"
      ],
      "metadata": {
        "id": "MqXIUWZXJ1nF"
      }
    },
    {
      "cell_type": "code",
      "source": [
        "len_train_dataset=2500\n",
        "len_test_dataset=500\n",
        "data_test, data_train = torch.utils.data.random_split(dataset, [len_test_dataset, len_train_dataset])\n",
        "test_dataloader  = torch.utils.data.DataLoader(dataset=data_test, batch_size=16, shuffle=True)\n",
        "train_dataloader  = torch.utils.data.DataLoader(dataset=data_train, batch_size=16, shuffle=True)"
      ],
      "metadata": {
        "id": "S7pYnPtOQcWD"
      },
      "execution_count": null,
      "outputs": []
    },
    {
      "cell_type": "code",
      "source": [
        "import torch.nn as nn\n",
        "import torch.nn.functional as F\n",
        "import torchvision.models as models\n",
        "\n",
        "resnet18 = models.resnet18(pretrained=True)\n",
        "resnet18.fc=nn.Linear(512, 3)\n",
        "device = torch.device(\"cuda:0\" if torch.cuda.is_available() else \"cpu\")\n",
        "model_ft = resnet18.to(device)\n",
        "params_to_update = model_ft.parameters()\n",
        "optimizer = optim.AdamW(params_to_update, lr=0.001, weight_decay=0.25)\n",
        "criterion = nn.CrossEntropyLoss()\n",
        "n_epoch = 3\n"
      ],
      "metadata": {
        "id": "L5dhAcVLTwRy",
        "colab": {
          "base_uri": "https://localhost:8080/",
          "height": 66,
          "referenced_widgets": [
            "3c40b36561ec420c8980c743d29a7994",
            "4613c347b3464bde8734fd21d455ab9f",
            "9e5c916f0c424cb0959890abb290816e",
            "2a99dc65dfbf486bbc2ecfa5cf0ca8d5",
            "1c16489305bd469ba2bd67a1b26740a9",
            "1f04632427cf4650839d3cfc866af7ce",
            "943c5e86b3fb4236ba935e5d977b9de8",
            "9c2d1c4a47bb42fab8e986db1650fe95",
            "bd18897b07c646dbaddbd15df1886872",
            "6c38cdcc55e94467888bffc46198f293",
            "50dc7c057b3344ad9b28c85b88dbe2f5"
          ]
        },
        "outputId": "b2940207-4257-4041-efa1-1f6e63f7978f"
      },
      "execution_count": null,
      "outputs": [
        {
          "output_type": "stream",
          "name": "stderr",
          "text": [
            "Downloading: \"https://download.pytorch.org/models/resnet18-f37072fd.pth\" to /root/.cache/torch/hub/checkpoints/resnet18-f37072fd.pth\n"
          ]
        },
        {
          "output_type": "display_data",
          "data": {
            "text/plain": [
              "  0%|          | 0.00/44.7M [00:00<?, ?B/s]"
            ],
            "application/vnd.jupyter.widget-view+json": {
              "version_major": 2,
              "version_minor": 0,
              "model_id": "3c40b36561ec420c8980c743d29a7994"
            }
          },
          "metadata": {}
        }
      ]
    },
    {
      "cell_type": "code",
      "source": [
        "\n",
        "train_results = []\n",
        "test_results = []\n",
        "for epoch in range(n_epoch):\n",
        "        print('Epoch {}/{}'.format(epoch + 1, n_epoch))\n",
        "        print('-' * 10)\n",
        "\n",
        "        model_ft.train()\n",
        "        train_loss = 0\n",
        "        train_correct = 0\n",
        "        for inputs, labels in train_dataloader:\n",
        "            inputs = inputs.to(device)\n",
        "            labels = labels.to(device)\n",
        "\n",
        "            optimizer.zero_grad()\n",
        "            outputs = model_ft(inputs)\n",
        "            loss = criterion(outputs, labels)\n",
        "            train_loss += loss.item()\n",
        "            train_correct += (outputs.argmax(1) == labels).type(torch.float).sum().item()\n",
        "            loss.backward()\n",
        "            optimizer.step()\n",
        "\n",
        "        model_ft.eval()\n",
        "        test_loss = 0\n",
        "        test_correct = 0\n",
        "        for inputs, labels in test_dataloader:\n",
        "            inputs = inputs.to(device)\n",
        "            labels = labels.to(device)\n",
        "            outputs = model_ft(inputs)\n",
        "            batch_loss = criterion(outputs, labels).item()\n",
        "            with torch.no_grad():\n",
        "                test_loss += batch_loss\n",
        "                test_correct += (outputs.argmax(1) == labels).type(torch.float).sum().item()\n",
        "\n",
        "        test_acc = test_correct / len_test_dataset\n",
        "        train_acc = train_correct / len_train_dataset\n",
        "        train_results += [{'loss': train_loss, 'acc': train_acc}]\n",
        "        test_results += [{'loss': test_loss, 'acc':test_acc}]\n",
        "\n"
      ],
      "metadata": {
        "id": "HaG4huANMMQS",
        "colab": {
          "base_uri": "https://localhost:8080/"
        },
        "outputId": "d91f0b6b-94e6-4535-80ed-58ce5191434e"
      },
      "execution_count": null,
      "outputs": [
        {
          "output_type": "stream",
          "name": "stdout",
          "text": [
            "Epoch 1/3\n",
            "----------\n",
            "Epoch 2/3\n",
            "----------\n",
            "Epoch 3/3\n",
            "----------\n"
          ]
        }
      ]
    },
    {
      "cell_type": "markdown",
      "source": [
        "### 3.Wyjaśnienia"
      ],
      "metadata": {
        "id": "XXHAh6hIRRm_"
      }
    },
    {
      "cell_type": "code",
      "source": [
        "for i in [10,1000,2000]:\n",
        "    images, labels = data_test[i]\n",
        "    plt.imshow(images.cpu().permute(1, 2, 0))\n",
        "    plt.axis(\"off\")\n",
        "    print(labels)\n",
        "    plt.show()"
      ],
      "metadata": {
        "id": "nkusS1JnQ2WI"
      },
      "execution_count": null,
      "outputs": []
    },
    {
      "cell_type": "code",
      "source": [
        "from captum.attr import KernelShap\n",
        "for i in [10,1000,2000]:\n",
        "  X, label = data_test[i]\n",
        "  X = X.double()\n",
        "  mask = segmentation.quickshift(\n",
        "          X.permute(1, 2, 0), \n",
        "          kernel_size=14, \n",
        "          max_dist=7, \n",
        "          ratio=0.5\n",
        "        )\n",
        "  exp_ks = KernelShap(model.double())\n",
        "\n",
        "  exp_ks = exp_ks.attribute(\n",
        "          X.unsqueeze(0),\n",
        "          target=label, \n",
        "          n_samples=200, \n",
        "          feature_mask=torch.as_tensor(mask),\n",
        "          show_progress=True\n",
        "        )\n",
        "  imgshow(X,label)\n",
        "  show_attr(exp_ks[0])"
      ],
      "metadata": {
        "id": "CdBInDuwRViV"
      },
      "execution_count": null,
      "outputs": []
    },
    {
      "cell_type": "markdown",
      "source": [
        "## The model parameter randomization test"
      ],
      "metadata": {
        "id": "2ujmB2ogALL8"
      }
    }
  ]
}