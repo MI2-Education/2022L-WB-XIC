{
 "cells": [
  {
   "cell_type": "markdown",
   "metadata": {},
   "source": [
    "# Iris"
   ]
  },
  {
   "cell_type": "code",
   "execution_count": 37,
   "metadata": {},
   "outputs": [],
   "source": [
    "%matplotlib inline\n",
    "import numpy as np\n",
    "import pandas as pd\n",
    "import matplotlib.pyplot as plt\n",
    "import seaborn as sns\n",
    "import torch\n",
    "import tqdm\n",
    "from sklearn.datasets import load_iris"
   ]
  },
  {
   "cell_type": "markdown",
   "metadata": {},
   "source": [
    "## Data\n",
    "Data is a famous iris dataset (loaded via sklearn module). Dataset has been divided into two parts - training (70%) and testing (30%)."
   ]
  },
  {
   "cell_type": "code",
   "execution_count": 2,
   "metadata": {},
   "outputs": [
    {
     "data": {
      "text/html": [
       "<div>\n",
       "<style scoped>\n",
       "    .dataframe tbody tr th:only-of-type {\n",
       "        vertical-align: middle;\n",
       "    }\n",
       "\n",
       "    .dataframe tbody tr th {\n",
       "        vertical-align: top;\n",
       "    }\n",
       "\n",
       "    .dataframe thead th {\n",
       "        text-align: right;\n",
       "    }\n",
       "</style>\n",
       "<table border=\"1\" class=\"dataframe\">\n",
       "  <thead>\n",
       "    <tr style=\"text-align: right;\">\n",
       "      <th></th>\n",
       "      <th>sepal length (cm)</th>\n",
       "      <th>sepal width (cm)</th>\n",
       "      <th>petal length (cm)</th>\n",
       "      <th>petal width (cm)</th>\n",
       "    </tr>\n",
       "  </thead>\n",
       "  <tbody>\n",
       "    <tr>\n",
       "      <th>mean</th>\n",
       "      <td>5.843333</td>\n",
       "      <td>3.057333</td>\n",
       "      <td>3.758000</td>\n",
       "      <td>1.199333</td>\n",
       "    </tr>\n",
       "    <tr>\n",
       "      <th>std</th>\n",
       "      <td>0.828066</td>\n",
       "      <td>0.435866</td>\n",
       "      <td>1.765298</td>\n",
       "      <td>0.762238</td>\n",
       "    </tr>\n",
       "    <tr>\n",
       "      <th>min</th>\n",
       "      <td>4.300000</td>\n",
       "      <td>2.000000</td>\n",
       "      <td>1.000000</td>\n",
       "      <td>0.100000</td>\n",
       "    </tr>\n",
       "    <tr>\n",
       "      <th>50%</th>\n",
       "      <td>5.800000</td>\n",
       "      <td>3.000000</td>\n",
       "      <td>4.350000</td>\n",
       "      <td>1.300000</td>\n",
       "    </tr>\n",
       "    <tr>\n",
       "      <th>max</th>\n",
       "      <td>7.900000</td>\n",
       "      <td>4.400000</td>\n",
       "      <td>6.900000</td>\n",
       "      <td>2.500000</td>\n",
       "    </tr>\n",
       "  </tbody>\n",
       "</table>\n",
       "</div>"
      ],
      "text/plain": [
       "      sepal length (cm)  sepal width (cm)  petal length (cm)  petal width (cm)\n",
       "mean           5.843333          3.057333           3.758000          1.199333\n",
       "std            0.828066          0.435866           1.765298          0.762238\n",
       "min            4.300000          2.000000           1.000000          0.100000\n",
       "50%            5.800000          3.000000           4.350000          1.300000\n",
       "max            7.900000          4.400000           6.900000          2.500000"
      ]
     },
     "execution_count": 2,
     "metadata": {},
     "output_type": "execute_result"
    }
   ],
   "source": [
    "torch.manual_seed(1)\n",
    "np.random.seed(1)\n",
    "\n",
    "iris = load_iris()\n",
    "iris = pd.DataFrame(data= np.c_[iris['data'], iris['target']], columns= iris['feature_names'] + ['species'])\n",
    "\n",
    "iris.loc[:, iris.columns!='species'].describe().loc[['mean', 'std', 'min', '50%', 'max']]"
   ]
  },
  {
   "cell_type": "code",
   "execution_count": 3,
   "metadata": {},
   "outputs": [],
   "source": [
    "train_sample_size = int(150*0.7)\n",
    "\n",
    "order = np.arange(150)\n",
    "np.random.shuffle(order)\n",
    "\n",
    "train_df = iris.iloc[order[:train_sample_size]]\n",
    "test_df = iris.iloc[order[train_sample_size:]]"
   ]
  },
  {
   "cell_type": "code",
   "execution_count": 4,
   "metadata": {},
   "outputs": [],
   "source": [
    "x_train = torch.from_numpy(train_df.loc[:, train_df.columns!='species'].to_numpy()).float()\n",
    "y_train = torch.from_numpy(train_df['species'].to_numpy()).float()\n",
    "\n",
    "x_test = torch.from_numpy(test_df.loc[:, train_df.columns!='species'].to_numpy()).float()\n",
    "y_test = torch.from_numpy(test_df['species'].to_numpy()).float()"
   ]
  },
  {
   "cell_type": "markdown",
   "metadata": {},
   "source": [
    "## Net\n",
    "### Structure"
   ]
  },
  {
   "cell_type": "code",
   "execution_count": 5,
   "metadata": {},
   "outputs": [],
   "source": [
    "def def_net(layers, activation=\"ReLU\", lr=0.05, seed=1):\n",
    "    torch.manual_seed(seed)\n",
    "    np.random.seed(seed)\n",
    "    \n",
    "    modules = []\n",
    "    \n",
    "    if activation==\"ReLU\":\n",
    "        func = torch.nn.ReLU()\n",
    "    elif activation==\"Sigmoid\":\n",
    "        func = torch.nn.Sigmoid()\n",
    "    else:\n",
    "        raise Exception(\"Wrong activation function.\")\n",
    "    \n",
    "    for i in range(len(layers)-2):\n",
    "        modules.append(torch.nn.Linear(layers[i], layers[i+1]))\n",
    "        modules.append(func)\n",
    "    modules.append(torch.nn.Linear(layers[-2], layers[-1]))\n",
    "    modules.append(torch.nn.Softmax())\n",
    "    \n",
    "    def init_weights(m):\n",
    "        if isinstance(m, torch.nn.Linear):\n",
    "            torch.nn.init.normal_(m.weight, std=0.05)\n",
    "            torch.nn.init.normal_(m.bias, std=0.05)\n",
    "    \n",
    "    global net, learning_rate, activation_func, loss, optimizer, neurons, net_seed\n",
    "    net = torch.nn.Sequential(*modules)\n",
    "    neurons = layers\n",
    "    learning_rate = lr\n",
    "    activation_func = activation\n",
    "    net_seed = seed\n",
    "    \n",
    "    loss = torch.nn.CrossEntropyLoss(reduction='none')\n",
    "    optimizer = torch.optim.SGD(net.parameters(), lr=learning_rate)\n",
    "    \n",
    "    net.apply(init_weights)"
   ]
  },
  {
   "cell_type": "markdown",
   "metadata": {},
   "source": [
    "### Learning process"
   ]
  },
  {
   "cell_type": "code",
   "execution_count": 8,
   "metadata": {},
   "outputs": [],
   "source": [
    "def learn(n_iter=128, b_size=8):\n",
    "    global num_iter, batch_size, losses, train_errors, test_errors\n",
    "    \n",
    "    num_iter = n_iter\n",
    "    batch_size = b_size\n",
    "\n",
    "    losses = []\n",
    "    train_errors = []\n",
    "    test_errors = []\n",
    "\n",
    "    for epoch in tqdm.tqdm(range(num_iter)):\n",
    "        losses_iter = []\n",
    "        train_errors_iter = []\n",
    "        test_errors_iter = []\n",
    "\n",
    "        y_hat = net(x_test)\n",
    "        test_errors += [(y_test != y_hat.argmax(1)).float().mean().item()]\n",
    "\n",
    "        y_hat = net(x_train)\n",
    "        train_errors += [(y_train != y_hat.argmax(1)).float().mean().item()]\n",
    "\n",
    "        for batch in range(train_sample_size//batch_size):\n",
    "            x_batch = x_train[batch*batch_size:(batch+1)*batch_size]\n",
    "            y_batch = y_train[batch*batch_size:(batch+1)*batch_size]\n",
    "\n",
    "            y_hat = net(x_batch)\n",
    "            l = loss(y_hat, y_batch.type(torch.LongTensor))\n",
    "            optimizer.zero_grad()\n",
    "            l.mean().backward()\n",
    "            losses_iter += [l.mean().item()]\n",
    "            optimizer.step()\n",
    "\n",
    "        losses += [np.mean(losses_iter)]"
   ]
  },
  {
   "cell_type": "markdown",
   "metadata": {},
   "source": [
    "## Results"
   ]
  },
  {
   "cell_type": "code",
   "execution_count": 89,
   "metadata": {},
   "outputs": [
    {
     "name": "stderr",
     "output_type": "stream",
     "text": [
      "  0%|                                                                                          | 0/128 [00:00<?, ?it/s]C:\\Users\\Wodo\\anaconda3\\lib\\site-packages\\torch\\nn\\modules\\container.py:100: UserWarning: Implicit dimension choice for softmax has been deprecated. Change the call to include dim=X as an argument.\n",
      "  input = module(input)\n",
      "100%|███████████████████████████████████████████████████████████████████████████████| 128/128 [00:00<00:00, 168.87it/s]\n"
     ]
    }
   ],
   "source": [
    "def_net(layers=[4, 4, 3, 3], activation=\"ReLU\", lr=0.05, seed=0)\n",
    "learn()"
   ]
  },
  {
   "cell_type": "code",
   "execution_count": 90,
   "metadata": {},
   "outputs": [
    {
     "data": {
      "image/png": "[encoded data removed]",
      "text/plain": [
       "<Figure size 1152x576 with 1 Axes>"
      ]
     },
     "metadata": {
      "needs_background": "light"
     },
     "output_type": "display_data"
    }
   ],
   "source": [
    "fig = plt.figure(figsize=(16, 8))\n",
    "# ttime = 'Learning results after {num_iter:3} epochs'\n",
    "tdesc = f'Activation function: {activation_func} | Layers: {str(neurons)[1:-1]} | Learning rate: {learning_rate:1.3}'\n",
    "tstat = f'\\nTrain accuracy: {1-train_errors[-1]:2.1%} | Test accuracy: {1-test_errors[-1]:2.1%}'\n",
    "fig.suptitle(tdesc+tstat+\"\\nLearning curves\",\n",
    "             fontsize=16\n",
    "            )\n",
    "plt.plot(range(num_iter), train_errors, color='lightskyblue')\n",
    "plt.plot(range(num_iter), test_errors, color='royalblue')\n",
    "plt.plot(range(num_iter), losses, color='orange')\n",
    "plt.legend([\"Error train\", \"Error test\", \"Losses\"])\n",
    "\n",
    "# plt.savefig(f'results/iris/{activation_func + str(neurons)[1:-1:3] + \"lr\" + str(learning_rate)[2:]}.png')\n",
    "plt.show()"
   ]
  },
  {
   "cell_type": "markdown",
   "metadata": {},
   "source": [
    "## Nets comparison\n",
    "### Data generation\n",
    "Code below is used to generate some examples of nets to further comparison."
   ]
  },
  {
   "cell_type": "code",
   "execution_count": 10,
   "metadata": {},
   "outputs": [],
   "source": [
    "results = pd.DataFrame({'activation':[],\n",
    "                        'layers':[],\n",
    "                        'learning_rate':[],\n",
    "                        'seed':[],\n",
    "                        'epochs':[],\n",
    "                        'training_accuracy':[],\n",
    "                        'test_accuracy':[]})\n",
    "\n",
    "for af in ['ReLU', 'Sigmoid']:\n",
    "    for l in [[4, 3], [4, 2, 3], [4, 3, 3], [4, 4, 3], [4, 4, 3, 3]]:\n",
    "        for lr in [0.5, 0.1, 0.05, 0.01]:\n",
    "            for s in range(10):\n",
    "                def_net(layers=l, activation=af, lr=lr, seed=s)\n",
    "                learn()\n",
    "                new_result = {'activation':activation_func,\n",
    "                              'layers':str(neurons)[1:-1],\n",
    "                              'learning_rate':learning_rate,\n",
    "                              'seed':net_seed,\n",
    "                              'epochs':num_iter,\n",
    "                              'training_accuracy':1-train_errors[-1],\n",
    "                              'test_accuracy':1-test_errors[-1]}\n",
    "                results = results.append(new_result, ignore_index=True)\n",
    "                \n",
    "results.to_csv('results/iris/iris_results.csv')"
   ]
  },
  {
   "cell_type": "markdown",
   "metadata": {},
   "source": [
    "### Parameters comparison"
   ]
  },
  {
   "cell_type": "code",
   "execution_count": 51,
   "metadata": {},
   "outputs": [],
   "source": [
    "results = pd.read_csv('results/iris/iris_results.csv', index_col=0)\n",
    "\n",
    "test = results.loc[:, results.columns!='training_accuracy']\n",
    "test = test.rename(columns={'test_accuracy':'accuracy'})\n",
    "test['set'] = 'testing'\n",
    "train = results.loc[:, results.columns!='test_accuracy']\n",
    "train = train.rename(columns={'training_accuracy':'accuracy'})\n",
    "train['set'] = 'training'\n",
    "\n",
    "results_stacked = test.append(train)"
   ]
  },
  {
   "cell_type": "markdown",
   "metadata": {},
   "source": [
    "#### Net architecture\n",
    "In general `ReLU` function seems to perform much better than `Sigmoid` on both sets. Number of layers and neurons in each layer abviously affects classification accuracy. Nets with (4,2,3), (4,3,3) and (4,4,3) neurons in each layer respectively have similar results. The simplest net with only two layers (simple linear model) performs the best and the most complicated net with layers (4, 4, 3, 3) has the worst results."
   ]
  },
  {
   "cell_type": "code",
   "execution_count": 63,
   "metadata": {},
   "outputs": [
    {
     "data": {
      "text/plain": [
       "Text(0.5, 1.0, 'Nets performance comparizon on testing set')"
      ]
     },
     "execution_count": 63,
     "metadata": {},
     "output_type": "execute_result"
    },
    {
     "data": {
      "image/png": "[encoded data removed]",
      "text/plain": [
       "<Figure size 1152x720 with 2 Axes>"
      ]
     },
     "metadata": {
      "needs_background": "light"
     },
     "output_type": "display_data"
    }
   ],
   "source": [
    "fig, ax = plt.subplots(2,1, figsize=(16, 10))\n",
    "sns.boxplot(x='set', y='accuracy', hue='activation', data=results_stacked, ax=ax[0])\n",
    "ax[0].set_title('Nets performance comparizon on training and testing sets', fontsize=16)\n",
    "sns.boxplot(x='layers', y='test_accuracy', hue='activation', data=results, ax=ax[1])\n",
    "ax[1].set_title('Nets performance comparizon on testing set', fontsize=16)"
   ]
  },
  {
   "cell_type": "markdown",
   "metadata": {},
   "source": [
    "#### Learning rate\n",
    "Learning rate also has a big impact on nets learning. In thos sitauation it is clear that value of 0.01 gives the worst results and value 0.1 is safe choice regardless of activation function."
   ]
  },
  {
   "cell_type": "code",
   "execution_count": 82,
   "metadata": {},
   "outputs": [
    {
     "data": {
      "text/plain": [
       "Text(0.5, 0.98, 'Learning rate impact on nets performance')"
      ]
     },
     "execution_count": 82,
     "metadata": {},
     "output_type": "execute_result"
    },
    {
     "data": {
      "image/png": "[encoded data removed]",
      "text/plain": [
       "<Figure size 1152x360 with 1 Axes>"
      ]
     },
     "metadata": {
      "needs_background": "light"
     },
     "output_type": "display_data"
    }
   ],
   "source": [
    "fig = plt.figure(figsize=(16, 5))\n",
    "sns.boxplot(x='activation', y='accuracy', hue='learning_rate', data=results_stacked)\n",
    "fig.suptitle('Learning rate impact on nets performance', fontsize=16)"
   ]
  },
  {
   "cell_type": "markdown",
   "metadata": {},
   "source": [
    "#### Best performance\n",
    "Despite the fact that in general simpler nets are doing better in this example, those more complicated have potential to reach better accuracy."
   ]
  },
  {
   "cell_type": "code",
   "execution_count": 88,
   "metadata": {},
   "outputs": [
    {
     "data": {
      "text/html": [
       "<div>\n",
       "<style scoped>\n",
       "    .dataframe tbody tr th:only-of-type {\n",
       "        vertical-align: middle;\n",
       "    }\n",
       "\n",
       "    .dataframe tbody tr th {\n",
       "        vertical-align: top;\n",
       "    }\n",
       "\n",
       "    .dataframe thead th {\n",
       "        text-align: right;\n",
       "    }\n",
       "</style>\n",
       "<table border=\"1\" class=\"dataframe\">\n",
       "  <thead>\n",
       "    <tr style=\"text-align: right;\">\n",
       "      <th></th>\n",
       "      <th>activation</th>\n",
       "      <th>layers</th>\n",
       "      <th>learning_rate</th>\n",
       "      <th>seed</th>\n",
       "      <th>epochs</th>\n",
       "      <th>training_accuracy</th>\n",
       "      <th>test_accuracy</th>\n",
       "    </tr>\n",
       "  </thead>\n",
       "  <tbody>\n",
       "    <tr>\n",
       "      <th>180</th>\n",
       "      <td>ReLU</td>\n",
       "      <td>4, 4, 3, 3</td>\n",
       "      <td>0.05</td>\n",
       "      <td>0.0</td>\n",
       "      <td>128.0</td>\n",
       "      <td>0.990476</td>\n",
       "      <td>0.977778</td>\n",
       "    </tr>\n",
       "    <tr>\n",
       "      <th>173</th>\n",
       "      <td>ReLU</td>\n",
       "      <td>4, 4, 3, 3</td>\n",
       "      <td>0.10</td>\n",
       "      <td>3.0</td>\n",
       "      <td>128.0</td>\n",
       "      <td>0.980952</td>\n",
       "      <td>0.977778</td>\n",
       "    </tr>\n",
       "    <tr>\n",
       "      <th>174</th>\n",
       "      <td>ReLU</td>\n",
       "      <td>4, 4, 3, 3</td>\n",
       "      <td>0.10</td>\n",
       "      <td>4.0</td>\n",
       "      <td>128.0</td>\n",
       "      <td>0.980952</td>\n",
       "      <td>0.977778</td>\n",
       "    </tr>\n",
       "    <tr>\n",
       "      <th>175</th>\n",
       "      <td>ReLU</td>\n",
       "      <td>4, 4, 3, 3</td>\n",
       "      <td>0.10</td>\n",
       "      <td>5.0</td>\n",
       "      <td>128.0</td>\n",
       "      <td>0.980952</td>\n",
       "      <td>0.977778</td>\n",
       "    </tr>\n",
       "    <tr>\n",
       "      <th>128</th>\n",
       "      <td>ReLU</td>\n",
       "      <td>4, 4, 3</td>\n",
       "      <td>0.50</td>\n",
       "      <td>8.0</td>\n",
       "      <td>128.0</td>\n",
       "      <td>0.942857</td>\n",
       "      <td>0.977778</td>\n",
       "    </tr>\n",
       "    <tr>\n",
       "      <th>61</th>\n",
       "      <td>ReLU</td>\n",
       "      <td>4, 2, 3</td>\n",
       "      <td>0.05</td>\n",
       "      <td>1.0</td>\n",
       "      <td>128.0</td>\n",
       "      <td>0.990476</td>\n",
       "      <td>0.955556</td>\n",
       "    </tr>\n",
       "    <tr>\n",
       "      <th>66</th>\n",
       "      <td>ReLU</td>\n",
       "      <td>4, 2, 3</td>\n",
       "      <td>0.05</td>\n",
       "      <td>6.0</td>\n",
       "      <td>128.0</td>\n",
       "      <td>0.990476</td>\n",
       "      <td>0.955556</td>\n",
       "    </tr>\n",
       "    <tr>\n",
       "      <th>102</th>\n",
       "      <td>ReLU</td>\n",
       "      <td>4, 3, 3</td>\n",
       "      <td>0.05</td>\n",
       "      <td>2.0</td>\n",
       "      <td>128.0</td>\n",
       "      <td>0.990476</td>\n",
       "      <td>0.955556</td>\n",
       "    </tr>\n",
       "    <tr>\n",
       "      <th>107</th>\n",
       "      <td>ReLU</td>\n",
       "      <td>4, 3, 3</td>\n",
       "      <td>0.05</td>\n",
       "      <td>7.0</td>\n",
       "      <td>128.0</td>\n",
       "      <td>0.990476</td>\n",
       "      <td>0.955556</td>\n",
       "    </tr>\n",
       "    <tr>\n",
       "      <th>135</th>\n",
       "      <td>ReLU</td>\n",
       "      <td>4, 4, 3</td>\n",
       "      <td>0.10</td>\n",
       "      <td>5.0</td>\n",
       "      <td>128.0</td>\n",
       "      <td>0.990476</td>\n",
       "      <td>0.955556</td>\n",
       "    </tr>\n",
       "  </tbody>\n",
       "</table>\n",
       "</div>"
      ],
      "text/plain": [
       "    activation      layers  learning_rate  seed  epochs  training_accuracy  \\\n",
       "180       ReLU  4, 4, 3, 3           0.05   0.0   128.0           0.990476   \n",
       "173       ReLU  4, 4, 3, 3           0.10   3.0   128.0           0.980952   \n",
       "174       ReLU  4, 4, 3, 3           0.10   4.0   128.0           0.980952   \n",
       "175       ReLU  4, 4, 3, 3           0.10   5.0   128.0           0.980952   \n",
       "128       ReLU     4, 4, 3           0.50   8.0   128.0           0.942857   \n",
       "61        ReLU     4, 2, 3           0.05   1.0   128.0           0.990476   \n",
       "66        ReLU     4, 2, 3           0.05   6.0   128.0           0.990476   \n",
       "102       ReLU     4, 3, 3           0.05   2.0   128.0           0.990476   \n",
       "107       ReLU     4, 3, 3           0.05   7.0   128.0           0.990476   \n",
       "135       ReLU     4, 4, 3           0.10   5.0   128.0           0.990476   \n",
       "\n",
       "     test_accuracy  \n",
       "180       0.977778  \n",
       "173       0.977778  \n",
       "174       0.977778  \n",
       "175       0.977778  \n",
       "128       0.977778  \n",
       "61        0.955556  \n",
       "66        0.955556  \n",
       "102       0.955556  \n",
       "107       0.955556  \n",
       "135       0.955556  "
      ]
     },
     "execution_count": 88,
     "metadata": {},
     "output_type": "execute_result"
    }
   ],
   "source": [
    "results.sort_values(by=['test_accuracy', 'training_accuracy'], ascending=False).head(10)"
   ]
  },
  {
   "cell_type": "markdown",
   "metadata": {},
   "source": [
    "#### Conclusion\n",
    "All net has been learned for only 128 epochs. It is reflected in their performances. Nets with simpler architecure (less layers, less neurons) generally behave better because they can learn faster. Nets learned with very small learning rate value have worse performance becase smaller learning rate usually means slower learning. Best accuracy is still achived with more complicated nets becasue they have potential to develop more complicated behaviours."
   ]
  }
 ],
 "metadata": {
  "kernelspec": {
   "display_name": "Python 3",
   "language": "python",
   "name": "python3"
  },
  "language_info": {
   "codemirror_mode": {
    "name": "ipython",
    "version": 3
   },
   "file_extension": ".py",
   "mimetype": "text/x-python",
   "name": "python",
   "nbconvert_exporter": "python",
   "pygments_lexer": "ipython3",
   "version": "3.8.5"
  }
 },
 "nbformat": 4,
 "nbformat_minor": 4
}
