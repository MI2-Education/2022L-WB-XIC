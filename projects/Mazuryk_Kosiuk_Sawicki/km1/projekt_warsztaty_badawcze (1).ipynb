{
  "nbformat": 4,
  "nbformat_minor": 0,
  "metadata": {
    "colab": {
      "name": "projekt_warsztaty_badawcze.ipynb",
      "provenance": []
    },
    "kernelspec": {
      "name": "python3",
      "display_name": "Python 3"
    },
    "language_info": {
      "name": "python"
    },
    "accelerator": "GPU"
  },
  "cells": [
    {
      "cell_type": "markdown",
      "source": [
        "# Analiza zbioru Kandinsky Patterns\n",
        "### przygotowana przez:  *Mazuryk, Kosiuk, Sawicki*\n",
        "\n",
        "W swojej pracy będziemy korzystać z danych z wyzwania 1. Skupimy się na następujących aspektach: \n",
        "- wyjaśnienie związane z kształtem,\n",
        "- analiza wektora/przestrzeni reprezentacji,\n",
        "- analiza wyjaśnień klas sprzecznych i losowych,\n"
      ],
      "metadata": {
        "id": "cdvM2nkFUZ6z"
      }
    },
    {
      "cell_type": "markdown",
      "source": [
        "## 1. Analiza artykułów"
      ],
      "metadata": {
        "id": "jDJYw7YgVBc-"
      }
    },
    {
      "cell_type": "markdown",
      "source": [
        "A) **„Sanity Checks for Saliency Maps”** - *Julius Adebayo, Justin Gilmer, Michael Muelly, Ian Goodfellow, Moritz Hardt, Been Kim*\n",
        "\n",
        "W artykule autorzy skupiają się na przeprowadzeniu dwóch tesów dotyczących sprawdzenia efektywności metod wyjaśnień w klasyfikacji sieci neuronowych:\n",
        "- The model parameter randomization test \n",
        "- The data randomization test\n",
        "\n",
        "Pierwszy z nich polega na wykorzystaniu metod wyjaśnień przy stopniowym rozregulowaniu modelu. Dzięki temu sprawdzamy jaka jest zależność między wygenerowanym wyjaśnieniem, a faktycznym wytrenowaniem naszego modelu.\n",
        "Drugi test polega na wymieszaniu etykiet do zdjęć i późniejszym wytrenowaniu modelu. Przy takim przetasowaniu skuteczność modelu jest na poziomie losowego wyboru, więc i wyjaśnienia nie powinny wskazywać na nic znaczącego. \n",
        "W przypadku gdy dana metoda nie spełni wyżej wymienionych testów możemy stwierdzić, że nie bazuje ona na wiedzy nauczonego modelu. Bliżej jej wtedy do edge detectora, który nie wymaga ani wytrenowania, ani zbioru danych. Działa wtedy na zasadzie zwykłej funkcji, która za argument bierze obraz, a jej wynikiem są charakterystyczne punkty na obrazie, tym samym nie dając nam wglądu w myślenie modelu.\n",
        "\n",
        "Autorzy pokazują nam, że czysto wizualne sprawdzenie wyjaśnień może być niewystarczające. Powinniśmy użyć takich testów by określić faktyczną skuteczność tworzonych metod wyjaśnień.\n",
        "\n",
        "https://arxiv.org/pdf/1810.03292.pdf\n",
        "\n",
        "B) **\"EXPLAINABLE ARTIFICIAL INTELLIGENCE: UNDERSTANDING, VISUALIZING AND INTERPRETING DEEP LEARNING MODELS\"** -\n",
        "*Wojciech Samek, Thomas Wiegand, Klaus-Robert Muller*\n",
        "\n",
        "Artykuł opowiada o interpretowalności modeli przedstawiając dwie metody pozwalające na wyjaśnianie wyników. Pierwszą z nich jest metoda Sensitivity Analysis. Służy ona do analizy jaki wpływ ma zmiana wartości w danym pikselu obrazu na predykcję modelu. Piksele z największą wrażliwością na zmiany są tymi o największym znaczeniu. Metoda korzysta z wyliczenia pochodnych i jej główną zaletą jest fakt, że użycie heatmapy dosyć dobrze wskazuje, które obszary są najważniejsze dla modelu. Niestety analiza nie wyjaśnia, dlaczego konkretne obszary odpowiadają za wykrycie konkretnej klasy, a także potrafi zaklasyfikować elementy obrazu, które w rzeczywistości nie powinny mieć wpływu na klasyfikację, jako znaczące dla modelu. Dodatkowo, heatmapy stworzone za pomocą tej metody są bardziej zaszumione. Drugą metodą jest Layer-Wise Relevance Propagation. Metoda ta korzysta z dekompozycji i ustala jak bardzo dany piksel przyczynia się do danej klasyfikacji. Według autora, metoda ta sprawdza się dużo lepiej niż metoda Sensitive Analysis, a do jej zalet należy to, że metoda realnie pokazuje elementy charakterystyczne dla danej klasy, a nie te, których zmiana wpływa na predykcję modelu. \n",
        "\n",
        "https://arxiv.org/abs/1708.08296\n",
        "\n",
        "C) **„Feature Representation In Convolutional Neural Networks”** - *Ben Athiwaratkun, Keegan Kang*\n",
        "\n",
        "W artykule porównano konwolucyjne sieci neuronowe w roli klasyfikatorów i modele hybrydowe (warstwy konwolucyjne jako feature extractory, klasyfikacja dokonywana Random Forest lub SVM na podstawie wektora reprezentacji). Okazuje się, że takie podejście pozwala uniknąć overfittingu i daje podobne rezultaty do zastosowania dropout'u przy mniejszym koszcie obliczeniowym.\n",
        "\n",
        "Wady: \n",
        "* porównanie małych (do 5 warstw konwolucyjnych) sieci, brak porównania CNN klasy SOTA\n",
        "* brak optymalizacji hiperparametrów SVM i random forest\n",
        "* nie opisano jak tworzono wektor reprezentacji po warstwie konwolucyjnej\n",
        "\n",
        "\n",
        "Zalety:\n",
        "* Analiza wektora reprezentacji z różnych warstw sieci\n",
        "\n",
        "https://arxiv.org/abs/1507.02313"
      ],
      "metadata": {
        "id": "uh73GYh33z17"
      }
    },
    {
      "cell_type": "markdown",
      "source": [
        "## 2. Wczytanie danych"
      ],
      "metadata": {
        "id": "G_hBNir0U6uM"
      }
    },
    {
      "cell_type": "code",
      "source": [
        "!unzip challenge-nr-1.zip;\n",
        "print()"
      ],
      "metadata": {
        "colab": {
          "base_uri": "https://localhost:8080/"
        },
        "id": "nIhYZkGhfZGk",
        "outputId": "8f36e9e9-e41d-43fa-900e-f57f7b4745cb"
      },
      "execution_count": null,
      "outputs": [
        {
          "output_type": "stream",
          "name": "stdout",
          "text": [
            "Archive:  challenge-nr-1.zip\n",
            "replace challenge-nr-1/counterfactual/000000.png? [y]es, [n]o, [A]ll, [N]one, [r]ename: N\n",
            "\n"
          ]
        }
      ]
    },
    {
      "cell_type": "code",
      "source": [
        "import torch\n",
        "import torchvision\n",
        "import torchinfo\n",
        "import torchvision.transforms as transforms\n",
        "import captum\n",
        "import torch.nn as nn\n",
        "import numpy as np\n",
        "import torch.nn.functional as F\n",
        "import torch.optim as optim\n",
        "from torch.utils.tensorboard import SummaryWriter\n",
        "import matplotlib.pyplot as plt\n",
        "import time\n",
        "import pandas as pd\n",
        "import json\n",
        "import torchvision.models as models\n",
        "from IPython.display import clear_output\n",
        "from timm.loss import LabelSmoothingCrossEntropy \n",
        "\n",
        "torch.set_printoptions(linewidth=120)"
      ],
      "metadata": {
        "id": "qW7gU6gpU6JM"
      },
      "execution_count": null,
      "outputs": []
    },
    {
      "cell_type": "code",
      "source": [
        "transform = transforms.Compose([\n",
        "            #TODO if it is needed, add the random crop\n",
        "            transforms.ToTensor(),\n",
        "            transforms.Normalize(mean=(0.5,0.5,0.5), std=(0.5,0.5,0.5))\n",
        "        ])\n",
        "\n",
        "    # ImageFloder with root directory and defined transformation methods for batch as well as data augmentation\n",
        "data = torchvision.datasets.ImageFolder('../content/challenge-nr-1/', transform=transform)"
      ],
      "metadata": {
        "id": "JILPcbQLeyhC"
      },
      "execution_count": null,
      "outputs": []
    },
    {
      "cell_type": "code",
      "source": [
        "data"
      ],
      "metadata": {
        "colab": {
          "base_uri": "https://localhost:8080/"
        },
        "id": "X8ZaDqCBgss9",
        "outputId": "4d5ba2ed-130c-488e-aa07-5042778a969e"
      },
      "execution_count": null,
      "outputs": [
        {
          "output_type": "execute_result",
          "data": {
            "text/plain": [
              "Dataset ImageFolder\n",
              "    Number of datapoints: 3000\n",
              "    Root location: ../content/challenge-nr-1/\n",
              "    StandardTransform\n",
              "Transform: Compose(\n",
              "               ToTensor()\n",
              "               Normalize(mean=(0.5, 0.5, 0.5), std=(0.5, 0.5, 0.5))\n",
              "           )"
            ]
          },
          "metadata": {},
          "execution_count": 7
        }
      ]
    },
    {
      "cell_type": "code",
      "source": [
        "len_train_dataset=2500\n",
        "len_test_dataset=500\n",
        "data_test, data_train = torch.utils.data.random_split(data, [len_test_dataset, len_train_dataset])\n",
        "test_dataloader  = torch.utils.data.DataLoader(dataset=data_test, batch_size=32, shuffle=True)\n",
        "train_dataloader  = torch.utils.data.DataLoader(dataset=data_train, batch_size=32, shuffle=True)"
      ],
      "metadata": {
        "id": "5GGFeLsyg0Jk"
      },
      "execution_count": null,
      "outputs": []
    },
    {
      "cell_type": "markdown",
      "source": [
        "## 3. Budowa modelu"
      ],
      "metadata": {
        "id": "o_KPqiUIhLAA"
      }
    },
    {
      "cell_type": "code",
      "source": [
        "resnet18 = models.resnet18(pretrained=True)\n",
        "resnet18.fc=nn.Linear(512, 3)\n",
        "device = torch.device(\"cuda:0\" if torch.cuda.is_available() else \"cpu\")\n",
        "model_ft = resnet18.to(device)\n",
        "params_to_update = model_ft.parameters()\n",
        "optimizer = optim.AdamW(params_to_update, lr=0.001, weight_decay=0.25)\n",
        "criterion = nn.CrossEntropyLoss()\n",
        "n_epoch = 15\n",
        "\n"
      ],
      "metadata": {
        "id": "Unsd4Uh_hPmD"
      },
      "execution_count": null,
      "outputs": []
    },
    {
      "cell_type": "code",
      "source": [
        "\n",
        "train_results = []\n",
        "test_results = []\n",
        "for epoch in range(n_epoch):\n",
        "        print('Epoch {}/{}'.format(epoch + 1, n_epoch))\n",
        "        print('-' * 10)\n",
        "\n",
        "        model_ft.train()\n",
        "        train_loss = 0\n",
        "        train_correct = 0\n",
        "        for inputs, labels in train_dataloader:\n",
        "            inputs = inputs.to(device)\n",
        "            labels = labels.to(device)\n",
        "\n",
        "            optimizer.zero_grad()\n",
        "            outputs = model_ft(inputs)\n",
        "            loss = criterion(outputs, labels)\n",
        "            train_loss += loss.item()\n",
        "            train_correct += (outputs.argmax(1) == labels).type(torch.float).sum().item()\n",
        "            loss.backward()\n",
        "            optimizer.step()\n",
        "\n",
        "        model_ft.eval()\n",
        "        test_loss = 0\n",
        "        test_correct = 0\n",
        "        for inputs, labels in test_dataloader:\n",
        "            inputs = inputs.to(device)\n",
        "            labels = labels.to(device)\n",
        "            outputs = model_ft(inputs)\n",
        "            batch_loss = criterion(outputs, labels).item()\n",
        "            with torch.no_grad():\n",
        "                test_loss += batch_loss\n",
        "                test_correct += (outputs.argmax(1) == labels).type(torch.float).sum().item()\n",
        "\n",
        "        test_acc = test_correct / len_test_dataset\n",
        "        train_acc = train_correct / len_train_dataset\n",
        "        train_results += [{'loss': train_loss, 'acc': train_acc}]\n",
        "        test_results += [{'loss': test_loss, 'acc':test_acc}]"
      ],
      "metadata": {
        "colab": {
          "base_uri": "https://localhost:8080/"
        },
        "id": "iXMyHTuXnBNJ",
        "outputId": "102ecc97-0606-4663-ff8c-62bbff9674fb"
      },
      "execution_count": null,
      "outputs": [
        {
          "output_type": "stream",
          "name": "stdout",
          "text": [
            "Epoch 1/15\n",
            "----------\n",
            "Epoch 2/15\n",
            "----------\n",
            "Epoch 3/15\n",
            "----------\n",
            "Epoch 4/15\n",
            "----------\n",
            "Epoch 5/15\n",
            "----------\n",
            "Epoch 6/15\n",
            "----------\n",
            "Epoch 7/15\n",
            "----------\n",
            "Epoch 8/15\n",
            "----------\n",
            "Epoch 9/15\n",
            "----------\n",
            "Epoch 10/15\n",
            "----------\n",
            "Epoch 11/15\n",
            "----------\n",
            "Epoch 12/15\n",
            "----------\n",
            "Epoch 13/15\n",
            "----------\n",
            "Epoch 14/15\n",
            "----------\n",
            "Epoch 15/15\n",
            "----------\n"
          ]
        }
      ]
    },
    {
      "cell_type": "markdown",
      "source": [
        "## 4. Analiza modelu"
      ],
      "metadata": {
        "id": "o_uM4PLWHPyJ"
      }
    },
    {
      "cell_type": "code",
      "source": [
        "\n",
        "train_df = pd.DataFrame(train_results)\n",
        "train_df.columns = ['train_' + col for col in train_df.columns]\n",
        "test_df = pd.DataFrame(test_results)\n",
        "test_df.columns = ['test_' + col for col in test_df.columns]\n",
        "\n",
        "pd.concat([train_df, test_df], axis=1).loc[:,['train_loss', 'test_loss']].plot()\n",
        "pd.concat([train_df, test_df], axis=1).loc[:,['train_acc', 'test_acc']].plot()"
      ],
      "metadata": {
        "colab": {
          "base_uri": "https://localhost:8080/",
          "height": 531
        },
        "id": "0Auqu3yznBpt",
        "outputId": "80ddac7a-2484-41e7-ede7-54c3442731b5"
      },
      "execution_count": null,
      "outputs": [
        {
          "output_type": "execute_result",
          "data": {
            "text/plain": [
              "<matplotlib.axes._subplots.AxesSubplot at 0x7f2838acd410>"
            ]
          },
          "metadata": {},
          "execution_count": 76
        },
        {
          "output_type": "display_data",
          "data": {
            "text/plain": [
              "<Figure size 432x288 with 1 Axes>"
            ],
            "image/png": "[encoded data removed]"
          },
          "metadata": {
            "needs_background": "light"
          }
        },
        {
          "output_type": "display_data",
          "data": {
            "text/plain": [
              "<Figure size 432x288 with 1 Axes>"
            ],
            "image/png": "[encoded data removed]"
          },
          "metadata": {
            "needs_background": "light"
          }
        }
      ]
    },
    {
      "cell_type": "code",
      "source": [
        "import itertools\n",
        "from sklearn.metrics import confusion_matrix\n",
        "@torch.no_grad()\n",
        "def get_all_preds(model, loader):\n",
        "  device = torch.device(\"cuda:0\" if torch.cuda.is_available() else \"cpu\")\n",
        "  all_preds = torch.tensor([]).to(device)\n",
        "  for batch in loader:\n",
        "    images, labels = batch\n",
        "    images, labels = images.to(device), labels.to(device)\n",
        "    preds = model(images)\n",
        "    all_preds = torch.cat((all_preds, preds) ,dim=0)\n",
        "\n",
        "  return all_preds\n",
        "\n",
        "\n",
        "test_loader = torch.utils.data.DataLoader(data_test, batch_size = 32,num_workers=2)\n",
        "test_preds = get_all_preds(model_ft, test_loader)\n",
        "device = torch.device(\"cuda:0\" if torch.cuda.is_available() else \"cpu\")\n",
        "data_test1 = np.array(data_test)\n",
        "actual_labels = torch.Tensor(list(data_test1[:,1])).to(device)\n",
        "preds_correct = test_preds.argmax(dim=1).eq(actual_labels).sum().item()\n",
        "\n",
        "def plot_confusion_matrix(cm, classes):\n",
        "    cm = cm.astype('float') / cm.sum(axis=1)[:, np.newaxis]\n",
        "    plt.imshow(cm, interpolation='nearest')\n",
        "    plt.colorbar()\n",
        "    tick_marks = np.arange(len(classes))\n",
        "    plt.xticks(tick_marks, classes, rotation=45)\n",
        "    plt.yticks(tick_marks, classes)\n",
        "    fmt = '.2f'\n",
        "    thresh = cm.max() / 2.\n",
        "    for i, j in itertools.product(range(cm.shape[0]), range(cm.shape[1])):\n",
        "        plt.text(j, i, format(cm[i, j], fmt),\n",
        "                 horizontalalignment=\"center\",\n",
        "                 color=\"white\" if cm[i, j] > thresh else \"black\")\n",
        "    plt.ylabel('True label')\n",
        "    plt.xlabel('Predicted label')"
      ],
      "metadata": {
        "colab": {
          "base_uri": "https://localhost:8080/"
        },
        "id": "c1li0bI5EJIv",
        "outputId": "feaa3cf6-3024-4eb5-b9de-9b4f63532d88"
      },
      "execution_count": null,
      "outputs": [
        {
          "output_type": "stream",
          "name": "stderr",
          "text": [
            "/usr/local/lib/python3.7/dist-packages/ipykernel_launcher.py:19: FutureWarning: The input object of type 'Tensor' is an array-like implementing one of the corresponding protocols (`__array__`, `__array_interface__` or `__array_struct__`); but not a sequence (or 0-D). In the future, this object will be coerced as if it was first converted using `np.array(obj)`. To retain the old behaviour, you have to either modify the type 'Tensor', or assign to an empty array created with `np.empty(correct_shape, dtype=object)`.\n",
            "/usr/local/lib/python3.7/dist-packages/ipykernel_launcher.py:19: VisibleDeprecationWarning: Creating an ndarray from ragged nested sequences (which is a list-or-tuple of lists-or-tuples-or ndarrays with different lengths or shapes) is deprecated. If you meant to do this, you must specify 'dtype=object' when creating the ndarray.\n"
          ]
        }
      ]
    },
    {
      "cell_type": "markdown",
      "source": [
        "### *Macierz konfuzji:*"
      ],
      "metadata": {
        "id": "4VKu6MHDIQNi"
      }
    },
    {
      "cell_type": "code",
      "source": [
        "cm = confusion_matrix(torch.Tensor(list(data_test1[:,1])), test_preds.cpu().argmax(dim=1))\n",
        "classes = ('counterfactual', 'false', 'true')\n",
        "plt.figure(figsize = (12,12))\n",
        "plot_confusion_matrix(cm, classes)"
      ],
      "metadata": {
        "colab": {
          "base_uri": "https://localhost:8080/",
          "height": 709
        },
        "id": "GyQ-tkxhGwOZ",
        "outputId": "a4ce7b90-7c3b-469b-d2f1-18961efb582a"
      },
      "execution_count": null,
      "outputs": [
        {
          "output_type": "display_data",
          "data": {
            "text/plain": [
              "<Figure size 864x864 with 2 Axes>"
            ],
            "image/png": "[encoded data removed]"
          },
          "metadata": {
            "needs_background": "light"
          }
        }
      ]
    },
    {
      "cell_type": "code",
      "source": [
        "print(\"Accuracy:\",preds_correct/len_test_dataset)"
      ],
      "metadata": {
        "colab": {
          "base_uri": "https://localhost:8080/"
        },
        "id": "pPMBZ6OfHDxl",
        "outputId": "81430aba-a695-4a0c-e95c-c32ff88a467c"
      },
      "execution_count": null,
      "outputs": [
        {
          "output_type": "stream",
          "name": "stdout",
          "text": [
            "Accuracy: 1.0\n"
          ]
        }
      ]
    },
    {
      "cell_type": "markdown",
      "source": [
        "Zapis modelu:"
      ],
      "metadata": {
        "id": "gB7FsvpKSkxO"
      }
    },
    {
      "cell_type": "code",
      "source": [
        "PATH = './model_ft.pth'\n",
        "torch.save(model_ft.state_dict(), PATH)"
      ],
      "metadata": {
        "id": "M4_SBzFrIs4m"
      },
      "execution_count": null,
      "outputs": []
    }
  ]
}