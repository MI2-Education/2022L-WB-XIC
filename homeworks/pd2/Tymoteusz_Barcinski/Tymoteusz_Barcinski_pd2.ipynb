{
  "cells": [
    {
      "cell_type": "markdown",
      "metadata": {
        "id": "rsyDSmdmSMht"
      },
      "source": [
        "## **Praca Domowa 2**\n",
        "**Autor: Tymoteusz Barciński**\n",
        "\n",
        "Indywidualnie, zaimplementować model konwolucyjnej sieci neuronowej (CNN) do klasyfikacji w `torch` i przetestować go na **wybranym zbiorze danych**. Powstały raport w formatach `.ipynb` oraz `.html` powinien zawierać wnioski z przeprowadzonej analizy.\n",
        "1. 1 punkt uzyskuje się za pracę z zbiorem danych [CIFAR10](https://pytorch.org/vision/main/generated/torchvision.datasets.CIFAR10.html)  (60k [take a subset: 1/3-1/2], 10 classes, 32x32 images)<br />\n",
        "2. ~~2 punkty uzyskuje się za pracę z zbiorem danych [OxfordIIITPet](https://pytorch.org/vision/main/generated/torchvision.datasets.OxfordIIITPet.html)  (7.4k, 37 classes, varied sizes of images)~~<br />\n",
        "3. ~~3 punkty uzyskuje się za pracę z zbiorem danych [StanfordCars](https://pytorch.org/vision/main/generated/torchvision.datasets.StanfordCars.html) (17k [if too large, take a subset], 196 classes, 360×240 images)~~<br />\n",
        "\n",
        "- do 2 punktów uzyskuje się za wytrenowanie skutecznego modelu ResNet (porównać dwie wielkości, np. 18 i 34, na zbiorze treningowym i testowym)\n",
        "- 1 punkt uzyskuje się za zaprezentowanie zwalczania zjawiska przeuczenia wykorzystując Dropout (lub inny sposób regularyzacji)\n",
        "- ~~1 punkt uzyskuje się za zwizualizowanie macierzy konfuzji ORAZ pokazanie ozasadnionych/ciekawych przykłady obrazów, na których model się mylił~~\n",
        "- ~~1 punkt uzyskuje się za zwizualizowanie wektora reprezentacji obrazów w podziale na klasy (kolor), wykorzystując PCA/TSNE (lub inny algorytm redukcji wymiaru)~~\n",
        "- do 2 punktów uzyskuje sie za jakość raportu (opisu, wizualizacji, kodu), a w szczególności *agregację wyników* w postaci tabel lub/i wykresów.\n",
        "\n",
        "**Uwaga!** (1) Zabronione jest importowanie modeli z bibliotek; można korzystać z repozytoriów takich jak https://github.com/kuangliu/pytorch-cifar. (2) Warto zacząć od uczenia sieci na podzbiorze, np. 10%, danych treningowych (i ewaluowania na podzbiorze danych testowych) dla zaoszczędzenia czasu. \n",
        "\n",
        "Praca domowa jest na 8 punktów (można uzyskać max 10 punktów).\n",
        "\n",
        "Deadline: 30 marca 23:59. Na zajęciach 31 marca 5 wybranch osób krótko zaprezentuje swoje wyniki.\n",
        "\n",
        "Pracę zgłaszamy poprzez PR o tytule `[PD2] Imię Nazwisko` do folderu `homeworks/pd2/imię_nazwisko`."
      ]
    },
    {
      "cell_type": "markdown",
      "metadata": {
        "id": "AAE-4a1cTf0k"
      },
      "source": [
        "## Ładowanie bibliotek"
      ]
    },
    {
      "cell_type": "code",
      "execution_count": 3,
      "metadata": {
        "colab": {
          "base_uri": "https://localhost:8080/"
        },
        "id": "IWA6UDIzme2T",
        "outputId": "44e4ae59-121d-42cf-ac18-908944270541"
      },
      "outputs": [
        {
          "data": {
            "text/plain": [
              "<torch.autograd.grad_mode.set_grad_enabled at 0x7f41fc18b550>"
            ]
          },
          "execution_count": 3,
          "metadata": {},
          "output_type": "execute_result"
        }
      ],
      "source": [
        "# import standard PyTorch modules\n",
        "import torch\n",
        "import torch.nn as nn\n",
        "import torch.nn.functional as F # korzystanie z API functional\n",
        "import torch.optim as optim\n",
        "from torch.utils.tensorboard import SummaryWriter # TensorBoard support\n",
        "\n",
        "# import torchvision module to handle image manipulation\n",
        "import torchvision\n",
        "import torchvision.transforms as transforms\n",
        "\n",
        "# calculate train time, writing train data to files etc.\n",
        "import time\n",
        "import pandas as pd\n",
        "import numpy as np\n",
        "import seaborn as sns\n",
        "import tqdm \n",
        "import json\n",
        "from IPython.display import clear_output\n",
        "from collections  import OrderedDict\n",
        "import matplotlib.pyplot as plt\n",
        "\n",
        "from sklearn.metrics import confusion_matrix\n",
        "from torch.utils.tensorboard import SummaryWriter\n",
        "\n",
        "torch.set_printoptions(linewidth=120)\n",
        "torch.set_grad_enabled(True)     # On by default, leave it here for clarity"
      ]
    },
    {
      "cell_type": "code",
      "execution_count": 4,
      "metadata": {
        "id": "Lo7VSmPoAuZC"
      },
      "outputs": [],
      "source": [
        "torch.cuda.is_available()\n",
        "\n",
        "if torch.cuda.is_available():  \n",
        "  DEVICE = \"cuda:0\" \n",
        "else:  \n",
        "  DEVICE = \"cpu\" "
      ]
    },
    {
      "cell_type": "code",
      "execution_count": 5,
      "metadata": {
        "id": "gHnbKE1L_MZx"
      },
      "outputs": [],
      "source": [
        "torch.manual_seed(1)\n",
        "np.random.seed(1)"
      ]
    },
    {
      "cell_type": "markdown",
      "metadata": {
        "id": "I1fgMkGs_Ryo"
      },
      "source": [
        "## Ładowanie danych"
      ]
    },
    {
      "cell_type": "code",
      "execution_count": 6,
      "metadata": {
        "colab": {
          "base_uri": "https://localhost:8080/",
          "height": 101,
          "referenced_widgets": [
            "aa6475658d544fbabb3304bfef3e9584",
            "f528fd12f5cc4d06af2c2a658ce0d64e",
            "5b7835683f364b46a2b8031754afcaca",
            "e795e5353c37464f8309b513b7041624",
            "4bd6bd701df24fa4b586f7eae5b7e5a8",
            "f059530b535a4881adbff3721428f1aa",
            "cccb98918f264aa8bc61c5cda013435d",
            "7a81e6bdb5ce417f82a96ddb8170a9b8",
            "ef2e38e2f10c4f7bac55ee367083d793",
            "f2a4e5e6e5d04717ac5caf5a60d0ef2a",
            "cb68da97ecca4802a60f181846d94c2a"
          ]
        },
        "id": "Y8nvv68J1g59",
        "outputId": "6bbade82-c880-478a-c376-f3251aec7a43"
      },
      "outputs": [
        {
          "name": "stdout",
          "output_type": "stream",
          "text": [
            "Downloading https://www.cs.toronto.edu/~kriz/cifar-10-python.tar.gz to ./data/CIFAR10/cifar-10-python.tar.gz\n"
          ]
        },
        {
          "data": {
            "application/vnd.jupyter.widget-view+json": {
              "model_id": "aa6475658d544fbabb3304bfef3e9584",
              "version_major": 2,
              "version_minor": 0
            },
            "text/plain": [
              "  0%|          | 0/170498071 [00:00<?, ?it/s]"
            ]
          },
          "metadata": {},
          "output_type": "display_data"
        },
        {
          "name": "stdout",
          "output_type": "stream",
          "text": [
            "Extracting ./data/CIFAR10/cifar-10-python.tar.gz to ./data/CIFAR10\n",
            "Files already downloaded and verified\n"
          ]
        }
      ],
      "source": [
        "train_set = torchvision.datasets.CIFAR10(\n",
        "    root = './data/CIFAR10', train = True, download = True, transform = transforms.Compose([transforms.ToTensor()])\n",
        ")\n",
        "test_set = torchvision.datasets.CIFAR10(\n",
        "    root = './data/CIFAR10', train = False, download = True, transform = transforms.Compose([transforms.ToTensor()])\n",
        ")"
      ]
    },
    {
      "cell_type": "markdown",
      "metadata": {
        "id": "gOIMHOHy_X9J"
      },
      "source": [
        "## Architektura sieci neuronowej\n",
        "źródło: https://github.com/kuangliu/pytorch-cifar/blob/master/models/resnet.py"
      ]
    },
    {
      "cell_type": "code",
      "execution_count": 7,
      "metadata": {
        "id": "QpBaABxF1WGl"
      },
      "outputs": [],
      "source": [
        "class BasicBlock(nn.Module):\n",
        "    expansion = 1\n",
        "\n",
        "    def __init__(self, in_planes, planes, stride=1):\n",
        "        super(BasicBlock, self).__init__()\n",
        "        self.conv1 = nn.Conv2d(\n",
        "            in_planes, planes, kernel_size=3, stride=stride, padding=1, bias=False)\n",
        "        self.bn1 = nn.BatchNorm2d(planes)\n",
        "        self.conv2 = nn.Conv2d(planes, planes, kernel_size=3,\n",
        "                               stride=1, padding=1, bias=False)\n",
        "        self.bn2 = nn.BatchNorm2d(planes)\n",
        "\n",
        "        self.shortcut = nn.Sequential()\n",
        "        if stride != 1 or in_planes != self.expansion*planes:\n",
        "            self.shortcut = nn.Sequential(\n",
        "                nn.Conv2d(in_planes, self.expansion*planes,\n",
        "                          kernel_size=1, stride=stride, bias=False),\n",
        "                nn.BatchNorm2d(self.expansion*planes)\n",
        "            )\n",
        "\n",
        "    def forward(self, x):\n",
        "        out = F.relu(self.bn1(self.conv1(x)))\n",
        "        out = self.bn2(self.conv2(out))\n",
        "        out += self.shortcut(x)\n",
        "        out = F.relu(out)\n",
        "        return out\n",
        "\n",
        "class ResNet(nn.Module):\n",
        "    def __init__(self, block, num_blocks, num_classes=10):\n",
        "        super(ResNet, self).__init__()\n",
        "        self.in_planes = 64\n",
        "\n",
        "        self.conv1 = nn.Conv2d(3, 64, kernel_size=3,\n",
        "                               stride=1, padding=1, bias=False)\n",
        "        self.bn1 = nn.BatchNorm2d(64)\n",
        "        self.layer1 = self._make_layer(block, 64, num_blocks[0], stride=1)\n",
        "        self.layer2 = self._make_layer(block, 128, num_blocks[1], stride=2)\n",
        "        self.layer3 = self._make_layer(block, 256, num_blocks[2], stride=2)\n",
        "        self.layer4 = self._make_layer(block, 512, num_blocks[3], stride=2)\n",
        "        self.linear = nn.Linear(512*block.expansion, num_classes)\n",
        "\n",
        "    def _make_layer(self, block, planes, num_blocks, stride):\n",
        "        strides = [stride] + [1]*(num_blocks-1)\n",
        "        layers = []\n",
        "        for stride in strides:\n",
        "            layers.append(block(self.in_planes, planes, stride))\n",
        "            self.in_planes = planes * block.expansion\n",
        "        return nn.Sequential(*layers)\n",
        "\n",
        "    def forward(self, x):\n",
        "        out = F.relu(self.bn1(self.conv1(x)))\n",
        "        out = self.layer1(out)\n",
        "        out = self.layer2(out)\n",
        "        out = self.layer3(out)\n",
        "        out = self.layer4(out)\n",
        "        out = F.avg_pool2d(out, 4)\n",
        "        out = out.view(out.size(0), -1)\n",
        "        out = self.linear(out)\n",
        "        return out\n",
        "  \n",
        "def ResNet18():\n",
        "    return ResNet(BasicBlock, [2, 2, 2, 2])\n",
        "\n",
        "def ResNet34():\n",
        "    return ResNet(BasicBlock, [3, 4, 6, 3])\n",
        "\n",
        "def test():\n",
        "    net = ResNet18()\n",
        "    y = net(torch.randn(1, 3, 32, 32))\n",
        "    return y"
      ]
    },
    {
      "cell_type": "markdown",
      "metadata": {
        "id": "j7tVdNMo_qE3"
      },
      "source": [
        "## Funkcja ucząca\n",
        "źródło: https://github.com/MI2-Education/2022L-WB-XIC/blob/main/labs/lab3/code.ipynb"
      ]
    },
    {
      "cell_type": "code",
      "execution_count": 8,
      "metadata": {
        "id": "3IE3uM7n5_re"
      },
      "outputs": [],
      "source": [
        "def training_function(net, learning_rate, batch_size, num_iter, training_set, testing_set, percent_of_data):\n",
        "\n",
        "  # preparing data\n",
        "  list_train = list(np.random.randint(0, len(training_set), int(percent_of_data*0.01*len(training_set))))\n",
        "  list_test = list(np.random.randint(0, len(testing_set), int(percent_of_data*0.01*len(testing_set))))\n",
        "\n",
        "  train_subset = torch.utils.data.Subset(training_set, list_train)\n",
        "  test_subset = torch.utils.data.Subset(testing_set, list_test)\n",
        "\n",
        "  dataloader_train_set = torch.utils.data.DataLoader(train_subset, batch_size, shuffle=True, num_workers=2)\n",
        "  dataloader_test_set = torch.utils.data.DataLoader(test_subset, batch_size, shuffle=True, num_workers=2)\n",
        "\n",
        "  losses = []\n",
        "  errors_train = []\n",
        "  errors_test = []\n",
        "\n",
        "  if net == \"ResNet18\":\n",
        "    net = ResNet18()\n",
        "  else:\n",
        "    net = ResNet34()\n",
        "\n",
        "  network = net.to(DEVICE)\n",
        "\n",
        "  loss = torch.nn.CrossEntropyLoss(reduction='none')              \n",
        "  optimizer = torch.optim.SGD(network.parameters(), lr=learning_rate)\n",
        "\n",
        "  for epoch in tqdm.tqdm(range(num_iter)):\n",
        "      losses_iter = []\n",
        "      errors_train_iter = []\n",
        "      errors_test_iter = []\n",
        "      \n",
        "      for X, y in dataloader_test_set:\n",
        "          X_cuda = X.to(DEVICE)\n",
        "          y_cuda = y.to(DEVICE)\n",
        "          y_hat = net(X_cuda)                                                          \n",
        "          errors_test_iter += [(y_cuda != y_hat.argmax(1)).float().mean().item()]     \n",
        "\n",
        "      for X, y in dataloader_train_set:\n",
        "          X_cuda = X.to(DEVICE)\n",
        "          y_cuda = y.to(DEVICE)\n",
        "          y_hat = net(X_cuda)                                                          \n",
        "          errors_train_iter += [(y_cuda != y_hat.argmax(1)).float().mean().item()]    \n",
        "          l = loss(y_hat, y_cuda)                                                     \n",
        "          optimizer.zero_grad()                                                   \n",
        "          l.mean().backward()                                                     \n",
        "          losses_iter += [l.mean().item()]                                       \n",
        "          optimizer.step()                                                        \n",
        "      \n",
        "      errors_train += [np.mean(errors_train_iter)]\n",
        "      errors_test += [np.mean(errors_test_iter)]\n",
        "      losses += [np.mean(losses_iter)]\n",
        "\n",
        "  return errors_train, errors_test"
      ]
    },
    {
      "cell_type": "code",
      "execution_count": 9,
      "metadata": {
        "id": "gLrXFCiMWU8I"
      },
      "outputs": [],
      "source": [
        "def generate_plot(errors_train, errors_test):\n",
        "  num_iter = len(errors_train)\n",
        "  plt.figure(figsize=(12, 8))\n",
        "  plt.plot(range(num_iter), errors_train)\n",
        "  plt.plot(range(num_iter), errors_test)\n",
        "  plt.title(\"Learning curves\")\n",
        "  plt.legend(['Error_train', 'Error_test', 'Loss'])\n",
        "  plt.show()"
      ]
    },
    {
      "cell_type": "markdown",
      "metadata": {
        "id": "HcT-FWarv17Q"
      },
      "source": [
        "## Badanie hiperparametrów, ResNet18 vs ResNet34"
      ]
    },
    {
      "cell_type": "code",
      "execution_count": 10,
      "metadata": {
        "colab": {
          "base_uri": "https://localhost:8080/"
        },
        "id": "jnqZJdJop1AV",
        "outputId": "01c74470-e4b8-4a48-fa78-5885634e06fd"
      },
      "outputs": [
        {
          "name": "stderr",
          "output_type": "stream",
          "text": [
            "100%|██████████| 5/5 [03:04<00:00, 36.83s/it]\n",
            "100%|██████████| 5/5 [03:04<00:00, 36.86s/it]\n",
            "100%|██████████| 5/5 [03:04<00:00, 36.80s/it]\n",
            "100%|██████████| 5/5 [03:05<00:00, 37.13s/it]\n",
            "100%|██████████| 5/5 [05:05<00:00, 61.14s/it]\n",
            "100%|██████████| 5/5 [05:05<00:00, 61.03s/it]\n",
            "100%|██████████| 5/5 [04:58<00:00, 59.79s/it]\n",
            "100%|██████████| 5/5 [05:01<00:00, 60.21s/it]\n"
          ]
        }
      ],
      "source": [
        "results = pd.DataFrame({'run': [],\n",
        "                        'epoch':[],\n",
        "                        'percent_of_data': [],\n",
        "                        'net': [],\n",
        "                        'learning_rate':[],\n",
        "                        'batch_size': [],\n",
        "                        'training_accuracy':[],\n",
        "                        'test_accuracy':[]})\n",
        "epchos = 5\n",
        "run = 1\n",
        "percent = 20\n",
        "for net in [\"ResNet18\", \"ResNet34\"]:\n",
        "      for bs in [128, 256]:\n",
        "          for lr in [0.1, 0.01]:\n",
        "                  errors_train, errors_test = training_function(net, learning_rate=lr, batch_size=bs,\n",
        "                                                                        num_iter=epchos, training_set = train_set, testing_set = test_set, percent_of_data = percent)\n",
        "                  for epoch in range(len(errors_train)):\n",
        "                      new_result = ({'run': run,\n",
        "                                   'epoch': epoch + 1,\n",
        "                                   'percent_of_data': percent,\n",
        "                                  'net': net,\n",
        "                                  'learning_rate':lr,\n",
        "                                  'batch_size': bs,\n",
        "                                  'training_accuracy':1-errors_train[epoch],\n",
        "                                  'test_accuracy':1-errors_test[epoch]})\n",
        "                      results = results.append(new_result, ignore_index=True)\n",
        "                  run += 1"
      ]
    },
    {
      "cell_type": "code",
      "execution_count": 12,
      "metadata": {
        "colab": {
          "base_uri": "https://localhost:8080/",
          "height": 363
        },
        "id": "jvxKVEZqVhjr",
        "outputId": "abf3bef1-6a0e-42ac-c475-2b1d65d6fc29"
      },
      "outputs": [
        {
          "data": {
            "text/html": [
              "\n",
              "  <div id=\"df-ae52809e-38fc-4131-95f6-297bff94b41d\">\n",
              "    <div class=\"colab-df-container\">\n",
              "      <div>\n",
              "<style scoped>\n",
              "    .dataframe tbody tr th:only-of-type {\n",
              "        vertical-align: middle;\n",
              "    }\n",
              "\n",
              "    .dataframe tbody tr th {\n",
              "        vertical-align: top;\n",
              "    }\n",
              "\n",
              "    .dataframe thead th {\n",
              "        text-align: right;\n",
              "    }\n",
              "</style>\n",
              "<table border=\"1\" class=\"dataframe\">\n",
              "  <thead>\n",
              "    <tr style=\"text-align: right;\">\n",
              "      <th></th>\n",
              "      <th>run</th>\n",
              "      <th>epoch</th>\n",
              "      <th>percent_of_data</th>\n",
              "      <th>net</th>\n",
              "      <th>learning_rate</th>\n",
              "      <th>batch_size</th>\n",
              "      <th>training_accuracy</th>\n",
              "      <th>test_accuracy</th>\n",
              "    </tr>\n",
              "  </thead>\n",
              "  <tbody>\n",
              "    <tr>\n",
              "      <th>9</th>\n",
              "      <td>2.0</td>\n",
              "      <td>5.0</td>\n",
              "      <td>20.0</td>\n",
              "      <td>ResNet18</td>\n",
              "      <td>0.01</td>\n",
              "      <td>128.0</td>\n",
              "      <td>0.712322</td>\n",
              "      <td>0.482324</td>\n",
              "    </tr>\n",
              "    <tr>\n",
              "      <th>29</th>\n",
              "      <td>6.0</td>\n",
              "      <td>5.0</td>\n",
              "      <td>20.0</td>\n",
              "      <td>ResNet34</td>\n",
              "      <td>0.01</td>\n",
              "      <td>128.0</td>\n",
              "      <td>0.696203</td>\n",
              "      <td>0.467383</td>\n",
              "    </tr>\n",
              "    <tr>\n",
              "      <th>8</th>\n",
              "      <td>2.0</td>\n",
              "      <td>4.0</td>\n",
              "      <td>20.0</td>\n",
              "      <td>ResNet18</td>\n",
              "      <td>0.01</td>\n",
              "      <td>128.0</td>\n",
              "      <td>0.628165</td>\n",
              "      <td>0.424902</td>\n",
              "    </tr>\n",
              "    <tr>\n",
              "      <th>27</th>\n",
              "      <td>6.0</td>\n",
              "      <td>3.0</td>\n",
              "      <td>20.0</td>\n",
              "      <td>ResNet34</td>\n",
              "      <td>0.01</td>\n",
              "      <td>128.0</td>\n",
              "      <td>0.526206</td>\n",
              "      <td>0.374121</td>\n",
              "    </tr>\n",
              "    <tr>\n",
              "      <th>18</th>\n",
              "      <td>4.0</td>\n",
              "      <td>4.0</td>\n",
              "      <td>20.0</td>\n",
              "      <td>ResNet18</td>\n",
              "      <td>0.01</td>\n",
              "      <td>256.0</td>\n",
              "      <td>0.537891</td>\n",
              "      <td>0.367112</td>\n",
              "    </tr>\n",
              "    <tr>\n",
              "      <th>24</th>\n",
              "      <td>5.0</td>\n",
              "      <td>5.0</td>\n",
              "      <td>20.0</td>\n",
              "      <td>ResNet34</td>\n",
              "      <td>0.10</td>\n",
              "      <td>128.0</td>\n",
              "      <td>0.527888</td>\n",
              "      <td>0.363281</td>\n",
              "    </tr>\n",
              "    <tr>\n",
              "      <th>19</th>\n",
              "      <td>4.0</td>\n",
              "      <td>5.0</td>\n",
              "      <td>20.0</td>\n",
              "      <td>ResNet18</td>\n",
              "      <td>0.01</td>\n",
              "      <td>256.0</td>\n",
              "      <td>0.590723</td>\n",
              "      <td>0.359488</td>\n",
              "    </tr>\n",
              "    <tr>\n",
              "      <th>17</th>\n",
              "      <td>4.0</td>\n",
              "      <td>3.0</td>\n",
              "      <td>20.0</td>\n",
              "      <td>ResNet18</td>\n",
              "      <td>0.01</td>\n",
              "      <td>256.0</td>\n",
              "      <td>0.483301</td>\n",
              "      <td>0.356971</td>\n",
              "    </tr>\n",
              "    <tr>\n",
              "      <th>38</th>\n",
              "      <td>8.0</td>\n",
              "      <td>4.0</td>\n",
              "      <td>20.0</td>\n",
              "      <td>ResNet34</td>\n",
              "      <td>0.01</td>\n",
              "      <td>256.0</td>\n",
              "      <td>0.512500</td>\n",
              "      <td>0.354530</td>\n",
              "    </tr>\n",
              "    <tr>\n",
              "      <th>6</th>\n",
              "      <td>2.0</td>\n",
              "      <td>2.0</td>\n",
              "      <td>20.0</td>\n",
              "      <td>ResNet18</td>\n",
              "      <td>0.01</td>\n",
              "      <td>128.0</td>\n",
              "      <td>0.457773</td>\n",
              "      <td>0.340820</td>\n",
              "    </tr>\n",
              "  </tbody>\n",
              "</table>\n",
              "</div>\n",
              "      <button class=\"colab-df-convert\" onclick=\"convertToInteractive('df-ae52809e-38fc-4131-95f6-297bff94b41d')\"\n",
              "              title=\"Convert this dataframe to an interactive table.\"\n",
              "              style=\"display:none;\">\n",
              "        \n",
              "  <svg xmlns=\"http://www.w3.org/2000/svg\" height=\"24px\"viewBox=\"0 0 24 24\"\n",
              "       width=\"24px\">\n",
              "    <path d=\"M0 0h24v24H0V0z\" fill=\"none\"/>\n",
              "    <path d=\"M18.56 5.44l.94 2.06.94-2.06 2.06-.94-2.06-.94-.94-2.06-.94 2.06-2.06.94zm-11 1L8.5 8.5l.94-2.06 2.06-.94-2.06-.94L8.5 2.5l-.94 2.06-2.06.94zm10 10l.94 2.06.94-2.06 2.06-.94-2.06-.94-.94-2.06-.94 2.06-2.06.94z\"/><path d=\"M17.41 7.96l-1.37-1.37c-.4-.4-.92-.59-1.43-.59-.52 0-1.04.2-1.43.59L10.3 9.45l-7.72 7.72c-.78.78-.78 2.05 0 2.83L4 21.41c.39.39.9.59 1.41.59.51 0 1.02-.2 1.41-.59l7.78-7.78 2.81-2.81c.8-.78.8-2.07 0-2.86zM5.41 20L4 18.59l7.72-7.72 1.47 1.35L5.41 20z\"/>\n",
              "  </svg>\n",
              "      </button>\n",
              "      \n",
              "  <style>\n",
              "    .colab-df-container {\n",
              "      display:flex;\n",
              "      flex-wrap:wrap;\n",
              "      gap: 12px;\n",
              "    }\n",
              "\n",
              "    .colab-df-convert {\n",
              "      background-color: #E8F0FE;\n",
              "      border: none;\n",
              "      border-radius: 50%;\n",
              "      cursor: pointer;\n",
              "      display: none;\n",
              "      fill: #1967D2;\n",
              "      height: 32px;\n",
              "      padding: 0 0 0 0;\n",
              "      width: 32px;\n",
              "    }\n",
              "\n",
              "    .colab-df-convert:hover {\n",
              "      background-color: #E2EBFA;\n",
              "      box-shadow: 0px 1px 2px rgba(60, 64, 67, 0.3), 0px 1px 3px 1px rgba(60, 64, 67, 0.15);\n",
              "      fill: #174EA6;\n",
              "    }\n",
              "\n",
              "    [theme=dark] .colab-df-convert {\n",
              "      background-color: #3B4455;\n",
              "      fill: #D2E3FC;\n",
              "    }\n",
              "\n",
              "    [theme=dark] .colab-df-convert:hover {\n",
              "      background-color: #434B5C;\n",
              "      box-shadow: 0px 1px 3px 1px rgba(0, 0, 0, 0.15);\n",
              "      filter: drop-shadow(0px 1px 2px rgba(0, 0, 0, 0.3));\n",
              "      fill: #FFFFFF;\n",
              "    }\n",
              "  </style>\n",
              "\n",
              "      <script>\n",
              "        const buttonEl =\n",
              "          document.querySelector('#df-ae52809e-38fc-4131-95f6-297bff94b41d button.colab-df-convert');\n",
              "        buttonEl.style.display =\n",
              "          google.colab.kernel.accessAllowed ? 'block' : 'none';\n",
              "\n",
              "        async function convertToInteractive(key) {\n",
              "          const element = document.querySelector('#df-ae52809e-38fc-4131-95f6-297bff94b41d');\n",
              "          const dataTable =\n",
              "            await google.colab.kernel.invokeFunction('convertToInteractive',\n",
              "                                                     [key], {});\n",
              "          if (!dataTable) return;\n",
              "\n",
              "          const docLinkHtml = 'Like what you see? Visit the ' +\n",
              "            '<a target=\"_blank\" href=https://colab.research.google.com/notebooks/data_table.ipynb>data table notebook</a>'\n",
              "            + ' to learn more about interactive tables.';\n",
              "          element.innerHTML = '';\n",
              "          dataTable['output_type'] = 'display_data';\n",
              "          await google.colab.output.renderOutput(dataTable, element);\n",
              "          const docLink = document.createElement('div');\n",
              "          docLink.innerHTML = docLinkHtml;\n",
              "          element.appendChild(docLink);\n",
              "        }\n",
              "      </script>\n",
              "    </div>\n",
              "  </div>\n",
              "  "
            ],
            "text/plain": [
              "    run  epoch  percent_of_data       net  learning_rate  batch_size  \\\n",
              "9   2.0    5.0             20.0  ResNet18           0.01       128.0   \n",
              "29  6.0    5.0             20.0  ResNet34           0.01       128.0   \n",
              "8   2.0    4.0             20.0  ResNet18           0.01       128.0   \n",
              "27  6.0    3.0             20.0  ResNet34           0.01       128.0   \n",
              "18  4.0    4.0             20.0  ResNet18           0.01       256.0   \n",
              "24  5.0    5.0             20.0  ResNet34           0.10       128.0   \n",
              "19  4.0    5.0             20.0  ResNet18           0.01       256.0   \n",
              "17  4.0    3.0             20.0  ResNet18           0.01       256.0   \n",
              "38  8.0    4.0             20.0  ResNet34           0.01       256.0   \n",
              "6   2.0    2.0             20.0  ResNet18           0.01       128.0   \n",
              "\n",
              "    training_accuracy  test_accuracy  \n",
              "9            0.712322       0.482324  \n",
              "29           0.696203       0.467383  \n",
              "8            0.628165       0.424902  \n",
              "27           0.526206       0.374121  \n",
              "18           0.537891       0.367112  \n",
              "24           0.527888       0.363281  \n",
              "19           0.590723       0.359488  \n",
              "17           0.483301       0.356971  \n",
              "38           0.512500       0.354530  \n",
              "6            0.457773       0.340820  "
            ]
          },
          "execution_count": 12,
          "metadata": {},
          "output_type": "execute_result"
        }
      ],
      "source": [
        "results.sort_values(by = \"test_accuracy\", ascending = False).head(10)"
      ]
    },
    {
      "cell_type": "markdown",
      "metadata": {
        "id": "-5iickWfU8Gp"
      },
      "source": [
        "### Wnioski:\n",
        "* nie ma znaczącej różnicy pomiędzy pomiędzy sieciemi ResNet18 i ResNet34 pod kątem accuracy na zbiorze testowym.\n",
        "* Sieci z mniejszym batch sizem osiągały lepsze wyniki zarówno na zbiorze treningowym jak i testowym.\n",
        "* widać wyraźnie, że powyższe modele overfitują.\n",
        "* Mniejszy leraning rate sokutkuje lepszymi wynikomami na zbiorze testowym.\n",
        "* warto zaznaczyć, że zarówno powyższe modele jak i analiza jest mocno ograniczona z powodu wykorzystywania jedynie 20% danych ze względów wydajnościowych."
      ]
    },
    {
      "cell_type": "markdown",
      "metadata": {
        "id": "kcCuHsWObDPX"
      },
      "source": [
        "## Podejście na całych danych\n"
      ]
    },
    {
      "cell_type": "code",
      "execution_count": null,
      "metadata": {},
      "outputs": [],
      "source": [
        "errors_train, errors_test = training_function(net = \"ResNet18\", learning_rate = 0.01, batch_size = 512, num_iter = 12,\n",
        "                                                        training_set = train_set, testing_set = test_set, percent_of_data = 100)"
      ]
    },
    {
      "cell_type": "code",
      "execution_count": null,
      "metadata": {
        "colab": {
          "base_uri": "https://localhost:8080/"
        },
        "id": "K7uPc0SPi-XO",
        "outputId": "6c3de751-2473-4ecf-e9c8-7c02d1511ef6"
      },
      "outputs": [
        {
          "data": {
            "text/plain": [
              "0.38569048792123795"
            ]
          },
          "execution_count": 9,
          "metadata": {},
          "output_type": "execute_result"
        }
      ],
      "source": [
        "errors_test[-1]"
      ]
    },
    {
      "cell_type": "code",
      "execution_count": null,
      "metadata": {
        "colab": {
          "base_uri": "https://localhost:8080/",
          "height": 499
        },
        "id": "Wz9Lu4W-bOZ7",
        "outputId": "9e41a5f4-4d98-404a-dbce-a76e92480322"
      },
      "outputs": [
        {
          "data": {
            "image/png": "[encoded data removed]",
            "text/plain": [
              "<Figure size 864x576 with 1 Axes>"
            ]
          },
          "metadata": {
            "needs_background": "light"
          },
          "output_type": "display_data"
        }
      ],
      "source": [
        "generate_plot(errors_train, errors_test)"
      ]
    },
    {
      "cell_type": "markdown",
      "metadata": {
        "id": "kK4K8vOrKt2w"
      },
      "source": [
        "### Wnioski:\n",
        "* widać wyraźnie, że sieć jest podantna na overfitting.\n",
        "* błąd na zbiorze testowym ustabiliozwał się w okolicach 8 epoki\n",
        "* uczenie siecie na całości danych zwiększyło accuracy do poziomu około 62% jednak nadal, jest to wynik daleki od satysfakcjonującego."
      ]
    },
    {
      "cell_type": "markdown",
      "metadata": {
        "id": "m83SHN4D66Ly"
      },
      "source": [
        "## Dropout\n",
        "źródło: https://discuss.pytorch.org/t/where-and-how-to-add-dropout-in-resnet18/12869"
      ]
    },
    {
      "cell_type": "code",
      "execution_count": null,
      "metadata": {
        "id": "XNuC4mvJ6wOc"
      },
      "outputs": [],
      "source": [
        "net_2 = ResNet18()\n",
        "dropout_rate = 0.5\n",
        "\n",
        "def append_dropout(model, rate=dropout_rate):\n",
        "    for name, module in model.named_children():\n",
        "        if len(list(module.children())) > 0:\n",
        "            append_dropout(module)\n",
        "        if isinstance(module, nn.ReLU):\n",
        "            new = nn.Sequential(module, nn.Dropout2d(p=rate, inplace=True))\n",
        "            setattr(model, name, new)\n",
        "\n",
        "append_dropout(net_2)"
      ]
    },
    {
      "cell_type": "code",
      "execution_count": null,
      "metadata": {
        "id": "RoslCPMxKhUh"
      },
      "outputs": [],
      "source": [
        "errors_train, errors_test = training_function(net_2, learning_rate=0.01, batch_size=512, num_iter=10, training_set = train_set,\n",
        "                                              testing_set = test_set, percent_of_data = 100)"
      ]
    },
    {
      "cell_type": "code",
      "execution_count": null,
      "metadata": {
        "colab": {
          "base_uri": "https://localhost:8080/"
        },
        "id": "LJVeDXqlkjp7",
        "outputId": "f9eb065b-9574-441e-e260-4cd3782faebd"
      },
      "outputs": [
        {
          "data": {
            "text/plain": [
              "0.4325912318059376"
            ]
          },
          "execution_count": 31,
          "metadata": {},
          "output_type": "execute_result"
        }
      ],
      "source": [
        "errors_test[-1]"
      ]
    },
    {
      "cell_type": "code",
      "execution_count": null,
      "metadata": {
        "colab": {
          "base_uri": "https://localhost:8080/",
          "height": 499
        },
        "id": "Br56IViNVyef",
        "outputId": "2bd8fc37-5794-44ae-ea2d-240f7de2997b"
      },
      "outputs": [
        {
          "data": {
            "image/png": "[encoded data removed]",
            "text/plain": [
              "<Figure size 864x576 with 1 Axes>"
            ]
          },
          "metadata": {
            "needs_background": "light"
          },
          "output_type": "display_data"
        }
      ],
      "source": [
        "generate_plot(errors_train, errors_test)"
      ]
    },
    {
      "cell_type": "markdown",
      "metadata": {
        "id": "WeUcxL3IiKCx"
      },
      "source": [
        "**Wniosek**: wprowadzenie dropout na poziomie 0.5 nie wpływa pozytywnie na proces uczenia się sieci. Liczba epok została ograniczona do 10 ze wzlędu na stabilizacje procesu uczenia w okolicach 8 epoki dla poprzedniego modelu."
      ]
    }
  ],
  "metadata": {
    "accelerator": "GPU",
    "colab": {
      "collapsed_sections": [],
      "name": "Barcinski_Tymoteusz_pd2.ipynb",
      "provenance": []
    },
    "kernelspec": {
      "display_name": "Python 3",
      "name": "python3"
    },
    "language_info": {
      "name": "python"
    },
    "widgets": {
      "application/vnd.jupyter.widget-state+json": {
        "4bd6bd701df24fa4b586f7eae5b7e5a8": {
          "model_module": "@jupyter-widgets/base",
          "model_module_version": "1.2.0",
          "model_name": "LayoutModel",
          "state": {
            "_model_module": "@jupyter-widgets/base",
            "_model_module_version": "1.2.0",
            "_model_name": "LayoutModel",
            "_view_count": null,
            "_view_module": "@jupyter-widgets/base",
            "_view_module_version": "1.2.0",
            "_view_name": "LayoutView",
            "align_content": null,
            "align_items": null,
            "align_self": null,
            "border": null,
            "bottom": null,
            "display": null,
            "flex": null,
            "flex_flow": null,
            "grid_area": null,
            "grid_auto_columns": null,
            "grid_auto_flow": null,
            "grid_auto_rows": null,
            "grid_column": null,
            "grid_gap": null,
            "grid_row": null,
            "grid_template_areas": null,
            "grid_template_columns": null,
            "grid_template_rows": null,
            "height": null,
            "justify_content": null,
            "justify_items": null,
            "left": null,
            "margin": null,
            "max_height": null,
            "max_width": null,
            "min_height": null,
            "min_width": null,
            "object_fit": null,
            "object_position": null,
            "order": null,
            "overflow": null,
            "overflow_x": null,
            "overflow_y": null,
            "padding": null,
            "right": null,
            "top": null,
            "visibility": null,
            "width": null
          }
        },
        "5b7835683f364b46a2b8031754afcaca": {
          "model_module": "@jupyter-widgets/controls",
          "model_module_version": "1.5.0",
          "model_name": "FloatProgressModel",
          "state": {
            "_dom_classes": [],
            "_model_module": "@jupyter-widgets/controls",
            "_model_module_version": "1.5.0",
            "_model_name": "FloatProgressModel",
            "_view_count": null,
            "_view_module": "@jupyter-widgets/controls",
            "_view_module_version": "1.5.0",
            "_view_name": "ProgressView",
            "bar_style": "success",
            "description": "",
            "description_tooltip": null,
            "layout": "IPY_MODEL_7a81e6bdb5ce417f82a96ddb8170a9b8",
            "max": 170498071,
            "min": 0,
            "orientation": "horizontal",
            "style": "IPY_MODEL_ef2e38e2f10c4f7bac55ee367083d793",
            "value": 170498071
          }
        },
        "7a81e6bdb5ce417f82a96ddb8170a9b8": {
          "model_module": "@jupyter-widgets/base",
          "model_module_version": "1.2.0",
          "model_name": "LayoutModel",
          "state": {
            "_model_module": "@jupyter-widgets/base",
            "_model_module_version": "1.2.0",
            "_model_name": "LayoutModel",
            "_view_count": null,
            "_view_module": "@jupyter-widgets/base",
            "_view_module_version": "1.2.0",
            "_view_name": "LayoutView",
            "align_content": null,
            "align_items": null,
            "align_self": null,
            "border": null,
            "bottom": null,
            "display": null,
            "flex": null,
            "flex_flow": null,
            "grid_area": null,
            "grid_auto_columns": null,
            "grid_auto_flow": null,
            "grid_auto_rows": null,
            "grid_column": null,
            "grid_gap": null,
            "grid_row": null,
            "grid_template_areas": null,
            "grid_template_columns": null,
            "grid_template_rows": null,
            "height": null,
            "justify_content": null,
            "justify_items": null,
            "left": null,
            "margin": null,
            "max_height": null,
            "max_width": null,
            "min_height": null,
            "min_width": null,
            "object_fit": null,
            "object_position": null,
            "order": null,
            "overflow": null,
            "overflow_x": null,
            "overflow_y": null,
            "padding": null,
            "right": null,
            "top": null,
            "visibility": null,
            "width": null
          }
        },
        "aa6475658d544fbabb3304bfef3e9584": {
          "model_module": "@jupyter-widgets/controls",
          "model_module_version": "1.5.0",
          "model_name": "HBoxModel",
          "state": {
            "_dom_classes": [],
            "_model_module": "@jupyter-widgets/controls",
            "_model_module_version": "1.5.0",
            "_model_name": "HBoxModel",
            "_view_count": null,
            "_view_module": "@jupyter-widgets/controls",
            "_view_module_version": "1.5.0",
            "_view_name": "HBoxView",
            "box_style": "",
            "children": [
              "IPY_MODEL_f528fd12f5cc4d06af2c2a658ce0d64e",
              "IPY_MODEL_5b7835683f364b46a2b8031754afcaca",
              "IPY_MODEL_e795e5353c37464f8309b513b7041624"
            ],
            "layout": "IPY_MODEL_4bd6bd701df24fa4b586f7eae5b7e5a8"
          }
        },
        "cb68da97ecca4802a60f181846d94c2a": {
          "model_module": "@jupyter-widgets/controls",
          "model_module_version": "1.5.0",
          "model_name": "DescriptionStyleModel",
          "state": {
            "_model_module": "@jupyter-widgets/controls",
            "_model_module_version": "1.5.0",
            "_model_name": "DescriptionStyleModel",
            "_view_count": null,
            "_view_module": "@jupyter-widgets/base",
            "_view_module_version": "1.2.0",
            "_view_name": "StyleView",
            "description_width": ""
          }
        },
        "cccb98918f264aa8bc61c5cda013435d": {
          "model_module": "@jupyter-widgets/controls",
          "model_module_version": "1.5.0",
          "model_name": "DescriptionStyleModel",
          "state": {
            "_model_module": "@jupyter-widgets/controls",
            "_model_module_version": "1.5.0",
            "_model_name": "DescriptionStyleModel",
            "_view_count": null,
            "_view_module": "@jupyter-widgets/base",
            "_view_module_version": "1.2.0",
            "_view_name": "StyleView",
            "description_width": ""
          }
        },
        "e795e5353c37464f8309b513b7041624": {
          "model_module": "@jupyter-widgets/controls",
          "model_module_version": "1.5.0",
          "model_name": "HTMLModel",
          "state": {
            "_dom_classes": [],
            "_model_module": "@jupyter-widgets/controls",
            "_model_module_version": "1.5.0",
            "_model_name": "HTMLModel",
            "_view_count": null,
            "_view_module": "@jupyter-widgets/controls",
            "_view_module_version": "1.5.0",
            "_view_name": "HTMLView",
            "description": "",
            "description_tooltip": null,
            "layout": "IPY_MODEL_f2a4e5e6e5d04717ac5caf5a60d0ef2a",
            "placeholder": "​",
            "style": "IPY_MODEL_cb68da97ecca4802a60f181846d94c2a",
            "value": " 170499072/? [00:02&lt;00:00, 67587943.42it/s]"
          }
        },
        "ef2e38e2f10c4f7bac55ee367083d793": {
          "model_module": "@jupyter-widgets/controls",
          "model_module_version": "1.5.0",
          "model_name": "ProgressStyleModel",
          "state": {
            "_model_module": "@jupyter-widgets/controls",
            "_model_module_version": "1.5.0",
            "_model_name": "ProgressStyleModel",
            "_view_count": null,
            "_view_module": "@jupyter-widgets/base",
            "_view_module_version": "1.2.0",
            "_view_name": "StyleView",
            "bar_color": null,
            "description_width": ""
          }
        },
        "f059530b535a4881adbff3721428f1aa": {
          "model_module": "@jupyter-widgets/base",
          "model_module_version": "1.2.0",
          "model_name": "LayoutModel",
          "state": {
            "_model_module": "@jupyter-widgets/base",
            "_model_module_version": "1.2.0",
            "_model_name": "LayoutModel",
            "_view_count": null,
            "_view_module": "@jupyter-widgets/base",
            "_view_module_version": "1.2.0",
            "_view_name": "LayoutView",
            "align_content": null,
            "align_items": null,
            "align_self": null,
            "border": null,
            "bottom": null,
            "display": null,
            "flex": null,
            "flex_flow": null,
            "grid_area": null,
            "grid_auto_columns": null,
            "grid_auto_flow": null,
            "grid_auto_rows": null,
            "grid_column": null,
            "grid_gap": null,
            "grid_row": null,
            "grid_template_areas": null,
            "grid_template_columns": null,
            "grid_template_rows": null,
            "height": null,
            "justify_content": null,
            "justify_items": null,
            "left": null,
            "margin": null,
            "max_height": null,
            "max_width": null,
            "min_height": null,
            "min_width": null,
            "object_fit": null,
            "object_position": null,
            "order": null,
            "overflow": null,
            "overflow_x": null,
            "overflow_y": null,
            "padding": null,
            "right": null,
            "top": null,
            "visibility": null,
            "width": null
          }
        },
        "f2a4e5e6e5d04717ac5caf5a60d0ef2a": {
          "model_module": "@jupyter-widgets/base",
          "model_module_version": "1.2.0",
          "model_name": "LayoutModel",
          "state": {
            "_model_module": "@jupyter-widgets/base",
            "_model_module_version": "1.2.0",
            "_model_name": "LayoutModel",
            "_view_count": null,
            "_view_module": "@jupyter-widgets/base",
            "_view_module_version": "1.2.0",
            "_view_name": "LayoutView",
            "align_content": null,
            "align_items": null,
            "align_self": null,
            "border": null,
            "bottom": null,
            "display": null,
            "flex": null,
            "flex_flow": null,
            "grid_area": null,
            "grid_auto_columns": null,
            "grid_auto_flow": null,
            "grid_auto_rows": null,
            "grid_column": null,
            "grid_gap": null,
            "grid_row": null,
            "grid_template_areas": null,
            "grid_template_columns": null,
            "grid_template_rows": null,
            "height": null,
            "justify_content": null,
            "justify_items": null,
            "left": null,
            "margin": null,
            "max_height": null,
            "max_width": null,
            "min_height": null,
            "min_width": null,
            "object_fit": null,
            "object_position": null,
            "order": null,
            "overflow": null,
            "overflow_x": null,
            "overflow_y": null,
            "padding": null,
            "right": null,
            "top": null,
            "visibility": null,
            "width": null
          }
        },
        "f528fd12f5cc4d06af2c2a658ce0d64e": {
          "model_module": "@jupyter-widgets/controls",
          "model_module_version": "1.5.0",
          "model_name": "HTMLModel",
          "state": {
            "_dom_classes": [],
            "_model_module": "@jupyter-widgets/controls",
            "_model_module_version": "1.5.0",
            "_model_name": "HTMLModel",
            "_view_count": null,
            "_view_module": "@jupyter-widgets/controls",
            "_view_module_version": "1.5.0",
            "_view_name": "HTMLView",
            "description": "",
            "description_tooltip": null,
            "layout": "IPY_MODEL_f059530b535a4881adbff3721428f1aa",
            "placeholder": "​",
            "style": "IPY_MODEL_cccb98918f264aa8bc61c5cda013435d",
            "value": ""
          }
        }
      }
    }
  },
  "nbformat": 4,
  "nbformat_minor": 0
}
